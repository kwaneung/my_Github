{
 "cells": [
  {
   "cell_type": "markdown",
   "metadata": {},
   "source": [
    "# 7. Data Wrangling: Clean, Transform, Merge, Reshape\n",
    "o 데이터 분석의 절차\n",
    " - 1) 문제의 정의 \n",
    " - 2) 데이터 준비: Extract(Data Gathering) - Transform (Cleaning, 변형, 정규화) - Loading \n",
    " - 3) 데이터 탐구: 통계적 탐구, \n",
    " - 4) 예측 모델링: 모델생성, \n",
    " - 5) 분석/검증: 데이터마이닝 알고리즘 \n",
    " - 6) 결과 시각화: 시각화 및 해석\n",
    " - 7) 솔루션 보고 및 배포\n",
    " \n",
    "o 데이터 분석 프로세스\n",
    " - 데이터 준비에 가장 많은 자원(시간, 비용, 인력)이 소모됨.\n",
    " \n",
    "o pandas에서는 다양한 ETL 기능을 제공함.\n",
    " "
   ]
  },
  {
   "cell_type": "code",
   "execution_count": 71,
   "metadata": {},
   "outputs": [],
   "source": [
    "from __future__ import division  # python 2에서 3에서 사용될 / 연산자의 사용법을 미리 사용 \n",
    "from numpy.random import randn\n",
    "import numpy as np\n",
    "import os\n",
    "# import matplotlib.pyplot as plt\n",
    "np.random.seed(12345)\n",
    "# plt.rc('figure', figsize=(10, 6))\n",
    "from pandas import Series, DataFrame\n",
    "import pandas\n",
    "import pandas as pd\n",
    "np.set_printoptions(precision=4, threshold=500)\n",
    "pd.options.display.max_rows = 100"
   ]
  },
  {
   "cell_type": "code",
   "execution_count": 72,
   "metadata": {},
   "outputs": [
    {
     "ename": "ImportError",
     "evalue": "DLL load failed: 지정된 프로시저를 찾을 수 없습니다.",
     "output_type": "error",
     "traceback": [
      "\u001b[1;31m---------------------------------------------------------------------------\u001b[0m",
      "\u001b[1;31mImportError\u001b[0m                               Traceback (most recent call last)",
      "\u001b[1;32m<ipython-input-72-71818a48d801>\u001b[0m in \u001b[0;36m<module>\u001b[1;34m()\u001b[0m\n\u001b[1;32m----> 1\u001b[1;33m \u001b[0mget_ipython\u001b[0m\u001b[1;33m(\u001b[0m\u001b[1;33m)\u001b[0m\u001b[1;33m.\u001b[0m\u001b[0mmagic\u001b[0m\u001b[1;33m(\u001b[0m\u001b[1;34mu'matplotlib inline'\u001b[0m\u001b[1;33m)\u001b[0m\u001b[1;33m\u001b[0m\u001b[0m\n\u001b[0m",
      "\u001b[1;32mC:\\ProgramData\\Anaconda3\\lib\\site-packages\\IPython\\core\\interactiveshell.pyc\u001b[0m in \u001b[0;36mmagic\u001b[1;34m(self, arg_s)\u001b[0m\n\u001b[0;32m   2158\u001b[0m         \u001b[0mmagic_name\u001b[0m\u001b[1;33m,\u001b[0m \u001b[0m_\u001b[0m\u001b[1;33m,\u001b[0m \u001b[0mmagic_arg_s\u001b[0m \u001b[1;33m=\u001b[0m \u001b[0marg_s\u001b[0m\u001b[1;33m.\u001b[0m\u001b[0mpartition\u001b[0m\u001b[1;33m(\u001b[0m\u001b[1;34m' '\u001b[0m\u001b[1;33m)\u001b[0m\u001b[1;33m\u001b[0m\u001b[0m\n\u001b[0;32m   2159\u001b[0m         \u001b[0mmagic_name\u001b[0m \u001b[1;33m=\u001b[0m \u001b[0mmagic_name\u001b[0m\u001b[1;33m.\u001b[0m\u001b[0mlstrip\u001b[0m\u001b[1;33m(\u001b[0m\u001b[0mprefilter\u001b[0m\u001b[1;33m.\u001b[0m\u001b[0mESC_MAGIC\u001b[0m\u001b[1;33m)\u001b[0m\u001b[1;33m\u001b[0m\u001b[0m\n\u001b[1;32m-> 2160\u001b[1;33m         \u001b[1;32mreturn\u001b[0m \u001b[0mself\u001b[0m\u001b[1;33m.\u001b[0m\u001b[0mrun_line_magic\u001b[0m\u001b[1;33m(\u001b[0m\u001b[0mmagic_name\u001b[0m\u001b[1;33m,\u001b[0m \u001b[0mmagic_arg_s\u001b[0m\u001b[1;33m)\u001b[0m\u001b[1;33m\u001b[0m\u001b[0m\n\u001b[0m\u001b[0;32m   2161\u001b[0m \u001b[1;33m\u001b[0m\u001b[0m\n\u001b[0;32m   2162\u001b[0m     \u001b[1;31m#-------------------------------------------------------------------------\u001b[0m\u001b[1;33m\u001b[0m\u001b[1;33m\u001b[0m\u001b[0m\n",
      "\u001b[1;32mC:\\ProgramData\\Anaconda3\\lib\\site-packages\\IPython\\core\\interactiveshell.pyc\u001b[0m in \u001b[0;36mrun_line_magic\u001b[1;34m(self, magic_name, line)\u001b[0m\n\u001b[0;32m   2079\u001b[0m                 \u001b[0mkwargs\u001b[0m\u001b[1;33m[\u001b[0m\u001b[1;34m'local_ns'\u001b[0m\u001b[1;33m]\u001b[0m \u001b[1;33m=\u001b[0m \u001b[0msys\u001b[0m\u001b[1;33m.\u001b[0m\u001b[0m_getframe\u001b[0m\u001b[1;33m(\u001b[0m\u001b[0mstack_depth\u001b[0m\u001b[1;33m)\u001b[0m\u001b[1;33m.\u001b[0m\u001b[0mf_locals\u001b[0m\u001b[1;33m\u001b[0m\u001b[0m\n\u001b[0;32m   2080\u001b[0m             \u001b[1;32mwith\u001b[0m \u001b[0mself\u001b[0m\u001b[1;33m.\u001b[0m\u001b[0mbuiltin_trap\u001b[0m\u001b[1;33m:\u001b[0m\u001b[1;33m\u001b[0m\u001b[0m\n\u001b[1;32m-> 2081\u001b[1;33m                 \u001b[0mresult\u001b[0m \u001b[1;33m=\u001b[0m \u001b[0mfn\u001b[0m\u001b[1;33m(\u001b[0m\u001b[1;33m*\u001b[0m\u001b[0margs\u001b[0m\u001b[1;33m,\u001b[0m\u001b[1;33m**\u001b[0m\u001b[0mkwargs\u001b[0m\u001b[1;33m)\u001b[0m\u001b[1;33m\u001b[0m\u001b[0m\n\u001b[0m\u001b[0;32m   2082\u001b[0m             \u001b[1;32mreturn\u001b[0m \u001b[0mresult\u001b[0m\u001b[1;33m\u001b[0m\u001b[0m\n\u001b[0;32m   2083\u001b[0m \u001b[1;33m\u001b[0m\u001b[0m\n",
      "\u001b[1;32m<decorator-gen-106>\u001b[0m in \u001b[0;36mmatplotlib\u001b[1;34m(self, line)\u001b[0m\n",
      "\u001b[1;32mC:\\ProgramData\\Anaconda3\\lib\\site-packages\\IPython\\core\\magic.pyc\u001b[0m in \u001b[0;36m<lambda>\u001b[1;34m(f, *a, **k)\u001b[0m\n\u001b[0;32m    186\u001b[0m     \u001b[1;31m# but it's overkill for just that one bit of state.\u001b[0m\u001b[1;33m\u001b[0m\u001b[1;33m\u001b[0m\u001b[0m\n\u001b[0;32m    187\u001b[0m     \u001b[1;32mdef\u001b[0m \u001b[0mmagic_deco\u001b[0m\u001b[1;33m(\u001b[0m\u001b[0marg\u001b[0m\u001b[1;33m)\u001b[0m\u001b[1;33m:\u001b[0m\u001b[1;33m\u001b[0m\u001b[0m\n\u001b[1;32m--> 188\u001b[1;33m         \u001b[0mcall\u001b[0m \u001b[1;33m=\u001b[0m \u001b[1;32mlambda\u001b[0m \u001b[0mf\u001b[0m\u001b[1;33m,\u001b[0m \u001b[1;33m*\u001b[0m\u001b[0ma\u001b[0m\u001b[1;33m,\u001b[0m \u001b[1;33m**\u001b[0m\u001b[0mk\u001b[0m\u001b[1;33m:\u001b[0m \u001b[0mf\u001b[0m\u001b[1;33m(\u001b[0m\u001b[1;33m*\u001b[0m\u001b[0ma\u001b[0m\u001b[1;33m,\u001b[0m \u001b[1;33m**\u001b[0m\u001b[0mk\u001b[0m\u001b[1;33m)\u001b[0m\u001b[1;33m\u001b[0m\u001b[0m\n\u001b[0m\u001b[0;32m    189\u001b[0m \u001b[1;33m\u001b[0m\u001b[0m\n\u001b[0;32m    190\u001b[0m         \u001b[1;32mif\u001b[0m \u001b[0mcallable\u001b[0m\u001b[1;33m(\u001b[0m\u001b[0marg\u001b[0m\u001b[1;33m)\u001b[0m\u001b[1;33m:\u001b[0m\u001b[1;33m\u001b[0m\u001b[0m\n",
      "\u001b[1;32mC:\\ProgramData\\Anaconda3\\lib\\site-packages\\IPython\\core\\magics\\pylab.pyc\u001b[0m in \u001b[0;36mmatplotlib\u001b[1;34m(self, line)\u001b[0m\n\u001b[0;32m     98\u001b[0m             \u001b[1;32mprint\u001b[0m\u001b[1;33m(\u001b[0m\u001b[1;34m\"Available matplotlib backends: %s\"\u001b[0m \u001b[1;33m%\u001b[0m \u001b[0mbackends_list\u001b[0m\u001b[1;33m)\u001b[0m\u001b[1;33m\u001b[0m\u001b[0m\n\u001b[0;32m     99\u001b[0m         \u001b[1;32melse\u001b[0m\u001b[1;33m:\u001b[0m\u001b[1;33m\u001b[0m\u001b[0m\n\u001b[1;32m--> 100\u001b[1;33m             \u001b[0mgui\u001b[0m\u001b[1;33m,\u001b[0m \u001b[0mbackend\u001b[0m \u001b[1;33m=\u001b[0m \u001b[0mself\u001b[0m\u001b[1;33m.\u001b[0m\u001b[0mshell\u001b[0m\u001b[1;33m.\u001b[0m\u001b[0menable_matplotlib\u001b[0m\u001b[1;33m(\u001b[0m\u001b[0margs\u001b[0m\u001b[1;33m.\u001b[0m\u001b[0mgui\u001b[0m\u001b[1;33m)\u001b[0m\u001b[1;33m\u001b[0m\u001b[0m\n\u001b[0m\u001b[0;32m    101\u001b[0m             \u001b[0mself\u001b[0m\u001b[1;33m.\u001b[0m\u001b[0m_show_matplotlib_backend\u001b[0m\u001b[1;33m(\u001b[0m\u001b[0margs\u001b[0m\u001b[1;33m.\u001b[0m\u001b[0mgui\u001b[0m\u001b[1;33m,\u001b[0m \u001b[0mbackend\u001b[0m\u001b[1;33m)\u001b[0m\u001b[1;33m\u001b[0m\u001b[0m\n\u001b[0;32m    102\u001b[0m \u001b[1;33m\u001b[0m\u001b[0m\n",
      "\u001b[1;32mC:\\ProgramData\\Anaconda3\\lib\\site-packages\\IPython\\core\\interactiveshell.pyc\u001b[0m in \u001b[0;36menable_matplotlib\u001b[1;34m(self, gui)\u001b[0m\n\u001b[0;32m   2964\u001b[0m                 \u001b[0mgui\u001b[0m\u001b[1;33m,\u001b[0m \u001b[0mbackend\u001b[0m \u001b[1;33m=\u001b[0m \u001b[0mpt\u001b[0m\u001b[1;33m.\u001b[0m\u001b[0mfind_gui_and_backend\u001b[0m\u001b[1;33m(\u001b[0m\u001b[0mself\u001b[0m\u001b[1;33m.\u001b[0m\u001b[0mpylab_gui_select\u001b[0m\u001b[1;33m)\u001b[0m\u001b[1;33m\u001b[0m\u001b[0m\n\u001b[0;32m   2965\u001b[0m \u001b[1;33m\u001b[0m\u001b[0m\n\u001b[1;32m-> 2966\u001b[1;33m         \u001b[0mpt\u001b[0m\u001b[1;33m.\u001b[0m\u001b[0mactivate_matplotlib\u001b[0m\u001b[1;33m(\u001b[0m\u001b[0mbackend\u001b[0m\u001b[1;33m)\u001b[0m\u001b[1;33m\u001b[0m\u001b[0m\n\u001b[0m\u001b[0;32m   2967\u001b[0m         \u001b[0mpt\u001b[0m\u001b[1;33m.\u001b[0m\u001b[0mconfigure_inline_support\u001b[0m\u001b[1;33m(\u001b[0m\u001b[0mself\u001b[0m\u001b[1;33m,\u001b[0m \u001b[0mbackend\u001b[0m\u001b[1;33m)\u001b[0m\u001b[1;33m\u001b[0m\u001b[0m\n\u001b[0;32m   2968\u001b[0m \u001b[1;33m\u001b[0m\u001b[0m\n",
      "\u001b[1;32mC:\\ProgramData\\Anaconda3\\lib\\site-packages\\IPython\\core\\pylabtools.pyc\u001b[0m in \u001b[0;36mactivate_matplotlib\u001b[1;34m(backend)\u001b[0m\n\u001b[0;32m    312\u001b[0m     \u001b[0mmatplotlib\u001b[0m\u001b[1;33m.\u001b[0m\u001b[0mrcParams\u001b[0m\u001b[1;33m[\u001b[0m\u001b[1;34m'backend'\u001b[0m\u001b[1;33m]\u001b[0m \u001b[1;33m=\u001b[0m \u001b[0mbackend\u001b[0m\u001b[1;33m\u001b[0m\u001b[0m\n\u001b[0;32m    313\u001b[0m \u001b[1;33m\u001b[0m\u001b[0m\n\u001b[1;32m--> 314\u001b[1;33m     \u001b[1;32mimport\u001b[0m \u001b[0mmatplotlib\u001b[0m\u001b[1;33m.\u001b[0m\u001b[0mpyplot\u001b[0m\u001b[1;33m\u001b[0m\u001b[0m\n\u001b[0m\u001b[0;32m    315\u001b[0m     \u001b[0mmatplotlib\u001b[0m\u001b[1;33m.\u001b[0m\u001b[0mpyplot\u001b[0m\u001b[1;33m.\u001b[0m\u001b[0mswitch_backend\u001b[0m\u001b[1;33m(\u001b[0m\u001b[0mbackend\u001b[0m\u001b[1;33m)\u001b[0m\u001b[1;33m\u001b[0m\u001b[0m\n\u001b[0;32m    316\u001b[0m \u001b[1;33m\u001b[0m\u001b[0m\n",
      "\u001b[1;32mC:\\ProgramData\\Anaconda3\\lib\\site-packages\\matplotlib\\pyplot.py\u001b[0m in \u001b[0;36m<module>\u001b[1;34m()\u001b[0m\n\u001b[0;32m     29\u001b[0m \u001b[1;32mfrom\u001b[0m \u001b[0mcycler\u001b[0m \u001b[1;32mimport\u001b[0m \u001b[0mcycler\u001b[0m\u001b[1;33m\u001b[0m\u001b[0m\n\u001b[0;32m     30\u001b[0m \u001b[1;32mimport\u001b[0m \u001b[0mmatplotlib\u001b[0m\u001b[1;33m\u001b[0m\u001b[0m\n\u001b[1;32m---> 31\u001b[1;33m \u001b[1;32mimport\u001b[0m \u001b[0mmatplotlib\u001b[0m\u001b[1;33m.\u001b[0m\u001b[0mcolorbar\u001b[0m\u001b[1;33m\u001b[0m\u001b[0m\n\u001b[0m\u001b[0;32m     32\u001b[0m \u001b[1;32mfrom\u001b[0m \u001b[0mmatplotlib\u001b[0m \u001b[1;32mimport\u001b[0m \u001b[0mstyle\u001b[0m\u001b[1;33m\u001b[0m\u001b[0m\n\u001b[0;32m     33\u001b[0m \u001b[1;32mfrom\u001b[0m \u001b[0mmatplotlib\u001b[0m \u001b[1;32mimport\u001b[0m \u001b[0m_pylab_helpers\u001b[0m\u001b[1;33m,\u001b[0m \u001b[0minteractive\u001b[0m\u001b[1;33m\u001b[0m\u001b[0m\n",
      "\u001b[1;32mC:\\ProgramData\\Anaconda3\\lib\\site-packages\\matplotlib\\colorbar.py\u001b[0m in \u001b[0;36m<module>\u001b[1;34m()\u001b[0m\n\u001b[0;32m     34\u001b[0m \u001b[1;32mimport\u001b[0m \u001b[0mmatplotlib\u001b[0m\u001b[1;33m.\u001b[0m\u001b[0mcollections\u001b[0m \u001b[1;32mas\u001b[0m \u001b[0mcollections\u001b[0m\u001b[1;33m\u001b[0m\u001b[0m\n\u001b[0;32m     35\u001b[0m \u001b[1;32mimport\u001b[0m \u001b[0mmatplotlib\u001b[0m\u001b[1;33m.\u001b[0m\u001b[0mcolors\u001b[0m \u001b[1;32mas\u001b[0m \u001b[0mcolors\u001b[0m\u001b[1;33m\u001b[0m\u001b[0m\n\u001b[1;32m---> 36\u001b[1;33m \u001b[1;32mimport\u001b[0m \u001b[0mmatplotlib\u001b[0m\u001b[1;33m.\u001b[0m\u001b[0mcontour\u001b[0m \u001b[1;32mas\u001b[0m \u001b[0mcontour\u001b[0m\u001b[1;33m\u001b[0m\u001b[0m\n\u001b[0m\u001b[0;32m     37\u001b[0m \u001b[1;32mimport\u001b[0m \u001b[0mmatplotlib\u001b[0m\u001b[1;33m.\u001b[0m\u001b[0mcm\u001b[0m \u001b[1;32mas\u001b[0m \u001b[0mcm\u001b[0m\u001b[1;33m\u001b[0m\u001b[0m\n\u001b[0;32m     38\u001b[0m \u001b[1;32mimport\u001b[0m \u001b[0mmatplotlib\u001b[0m\u001b[1;33m.\u001b[0m\u001b[0mgridspec\u001b[0m \u001b[1;32mas\u001b[0m \u001b[0mgridspec\u001b[0m\u001b[1;33m\u001b[0m\u001b[0m\n",
      "\u001b[1;32mC:\\ProgramData\\Anaconda3\\lib\\site-packages\\matplotlib\\contour.py\u001b[0m in \u001b[0;36m<module>\u001b[1;34m()\u001b[0m\n\u001b[0;32m     18\u001b[0m \u001b[1;32mimport\u001b[0m \u001b[0mmatplotlib\u001b[0m\u001b[1;33m.\u001b[0m\u001b[0mcolors\u001b[0m \u001b[1;32mas\u001b[0m \u001b[0mcolors\u001b[0m\u001b[1;33m\u001b[0m\u001b[0m\n\u001b[0;32m     19\u001b[0m \u001b[1;32mimport\u001b[0m \u001b[0mmatplotlib\u001b[0m\u001b[1;33m.\u001b[0m\u001b[0mcollections\u001b[0m \u001b[1;32mas\u001b[0m \u001b[0mmcoll\u001b[0m\u001b[1;33m\u001b[0m\u001b[0m\n\u001b[1;32m---> 20\u001b[1;33m \u001b[1;32mimport\u001b[0m \u001b[0mmatplotlib\u001b[0m\u001b[1;33m.\u001b[0m\u001b[0mfont_manager\u001b[0m \u001b[1;32mas\u001b[0m \u001b[0mfont_manager\u001b[0m\u001b[1;33m\u001b[0m\u001b[0m\n\u001b[0m\u001b[0;32m     21\u001b[0m \u001b[1;32mimport\u001b[0m \u001b[0mmatplotlib\u001b[0m\u001b[1;33m.\u001b[0m\u001b[0mtext\u001b[0m \u001b[1;32mas\u001b[0m \u001b[0mtext\u001b[0m\u001b[1;33m\u001b[0m\u001b[0m\n\u001b[0;32m     22\u001b[0m \u001b[1;32mimport\u001b[0m \u001b[0mmatplotlib\u001b[0m\u001b[1;33m.\u001b[0m\u001b[0mcbook\u001b[0m \u001b[1;32mas\u001b[0m \u001b[0mcbook\u001b[0m\u001b[1;33m\u001b[0m\u001b[0m\n",
      "\u001b[1;32mC:\\ProgramData\\Anaconda3\\lib\\site-packages\\matplotlib\\font_manager.py\u001b[0m in \u001b[0;36m<module>\u001b[1;34m()\u001b[0m\n\u001b[0;32m     53\u001b[0m \u001b[1;32mimport\u001b[0m \u001b[0mlogging\u001b[0m\u001b[1;33m\u001b[0m\u001b[0m\n\u001b[0;32m     54\u001b[0m \u001b[1;33m\u001b[0m\u001b[0m\n\u001b[1;32m---> 55\u001b[1;33m \u001b[1;32mfrom\u001b[0m \u001b[0mmatplotlib\u001b[0m \u001b[1;32mimport\u001b[0m \u001b[0mafm\u001b[0m\u001b[1;33m,\u001b[0m \u001b[0mcbook\u001b[0m\u001b[1;33m,\u001b[0m \u001b[0mft2font\u001b[0m\u001b[1;33m,\u001b[0m \u001b[0mrcParams\u001b[0m\u001b[1;33m,\u001b[0m \u001b[0mget_cachedir\u001b[0m\u001b[1;33m\u001b[0m\u001b[0m\n\u001b[0m\u001b[0;32m     56\u001b[0m \u001b[1;32mfrom\u001b[0m \u001b[0mmatplotlib\u001b[0m\u001b[1;33m.\u001b[0m\u001b[0mcompat\u001b[0m \u001b[1;32mimport\u001b[0m \u001b[0msubprocess\u001b[0m\u001b[1;33m\u001b[0m\u001b[0m\n\u001b[0;32m     57\u001b[0m from matplotlib.fontconfig_pattern import (\n",
      "\u001b[1;31mImportError\u001b[0m: DLL load failed: 지정된 프로시저를 찾을 수 없습니다."
     ]
    }
   ],
   "source": [
    "%matplotlib inline"
   ]
  },
  {
   "cell_type": "markdown",
   "metadata": {},
   "source": [
    "## 7.1 Combining and merging data sets\n",
    "o pandas 객체에 저장된 데이터는 여러 내장 함수를 이용해 합치기 가능\n",
    " - pandas.merge: 하나 이상의 키를 기준으로 DataFrame의 로우를 합친다. SQL이나 다른 관계형 데이터 베이스의 join 연산과 유사\n",
    "   (DataFrame.join 과 비교 예정) \n",
    " - pandas.concat은 하나의 축을 따라 객체를 이어붙임\n",
    " - combine_first 인스턴스 메서드는 두 객체를 포개서 한 객체에서 누락된 데이터를 다른 객체에 있는 값으로 채울 수 있도록 한다."
   ]
  },
  {
   "cell_type": "markdown",
   "metadata": {},
   "source": [
    "### 7.1.1 Database-style DataFrame merges\n",
    "o merge나 join 연산은 관계형 데이터베이스의 핵심적인 연산으로, 키를 하나 이상 사용해서 데이터 집합의 로우를 합침\n",
    " - merge key를 지정하지 않은 경우, 동일 컬럼명을 조인 키로 활용함. "
   ]
  },
  {
   "cell_type": "raw",
   "metadata": {},
   "source": [
    "o 참고) pandas의 concat, merge 등 \n",
    "  https://pandas.pydata.org/pandas-docs/stable/merging.html\n",
    "  See option how "
   ]
  },
  {
   "cell_type": "code",
   "execution_count": null,
   "metadata": {},
   "outputs": [],
   "source": [
    "df1 = DataFrame({'key': ['b', 'b', 'a', 'c', 'a', 'a', 'b'],\n",
    "                 'data1': range(7)})\n",
    "df2 = DataFrame({'key': ['a', 'b', 'd'],\n",
    "                 'data2': range(3)})\n",
    "df1"
   ]
  },
  {
   "cell_type": "code",
   "execution_count": null,
   "metadata": {},
   "outputs": [],
   "source": [
    "df2"
   ]
  },
  {
   "cell_type": "code",
   "execution_count": null,
   "metadata": {},
   "outputs": [],
   "source": [
    "pd.merge(df1, df2)"
   ]
  },
  {
   "cell_type": "raw",
   "metadata": {},
   "source": [
    "주의) merge의 기본설정은 internal JOIN: key 값이 c, d 인 것은 양쪽에 모두 없어 사라짐."
   ]
  },
  {
   "cell_type": "code",
   "execution_count": null,
   "metadata": {
    "scrolled": true
   },
   "outputs": [],
   "source": [
    "pd.merge(df1, df2, on='key')"
   ]
  },
  {
   "cell_type": "code",
   "execution_count": null,
   "metadata": {},
   "outputs": [],
   "source": [
    "df3 = DataFrame({'lkey': ['b', 'b', 'a', 'c', 'a', 'a', 'b'],\n",
    "                 'data1': range(7)})\n",
    "df4 = DataFrame({'rkey': ['a', 'b', 'd'],\n",
    "                 'data2': range(3)})\n",
    "pd.merge(df3, df4, left_on='lkey', right_on='rkey')"
   ]
  },
  {
   "cell_type": "raw",
   "metadata": {},
   "source": [
    "o Outer JOIN"
   ]
  },
  {
   "cell_type": "code",
   "execution_count": null,
   "metadata": {},
   "outputs": [],
   "source": [
    "pd.merge(df1, df2, how='outer')"
   ]
  },
  {
   "cell_type": "code",
   "execution_count": null,
   "metadata": {},
   "outputs": [],
   "source": [
    "df1 = DataFrame({'key': ['b', 'b', 'a', 'c', 'a', 'b'],\n",
    "                 'data1': range(6)})\n",
    "df2 = DataFrame({'key': ['a', 'b', 'a', 'b', 'd'],\n",
    "                 'data2': range(5)})"
   ]
  },
  {
   "cell_type": "code",
   "execution_count": null,
   "metadata": {},
   "outputs": [],
   "source": [
    "df1"
   ]
  },
  {
   "cell_type": "code",
   "execution_count": null,
   "metadata": {},
   "outputs": [],
   "source": [
    "df2"
   ]
  },
  {
   "cell_type": "raw",
   "metadata": {},
   "source": [
    "o Left (outer) JOIN"
   ]
  },
  {
   "cell_type": "code",
   "execution_count": null,
   "metadata": {},
   "outputs": [],
   "source": [
    "pd.merge(df1, df2, on='key', how='left')"
   ]
  },
  {
   "cell_type": "raw",
   "metadata": {},
   "source": [
    "주의)Left outer join:  key = c인 6 행, No row with d"
   ]
  },
  {
   "cell_type": "code",
   "execution_count": null,
   "metadata": {
    "scrolled": true
   },
   "outputs": [],
   "source": [
    "pd.merge(df1, df2, how='inner')"
   ]
  },
  {
   "cell_type": "raw",
   "metadata": {},
   "source": [
    "o Mulitple Keys JOIN "
   ]
  },
  {
   "cell_type": "code",
   "execution_count": null,
   "metadata": {},
   "outputs": [],
   "source": [
    "left = DataFrame({'key1': ['foo', 'foo', 'bar'],\n",
    "                  'key2': ['one', 'two', 'one'],\n",
    "                  'lval': [1, 5, 4 ]})\n",
    "right = DataFrame({'key1': ['foo', 'foo', 'bar', 'bar'],\n",
    "                   'key2': ['one', 'one', 'one', 'two'],\n",
    "                   'rval': [4, 5, 6, 7]})\n",
    "# pd.merge(left, right, left_on='lval', right_on='rval', how='left')\n",
    "pd.merge(left, right, on=['key1', 'key2'], how='outer')"
   ]
  },
  {
   "cell_type": "code",
   "execution_count": null,
   "metadata": {},
   "outputs": [],
   "source": [
    "pd.merge(left,right)"
   ]
  },
  {
   "cell_type": "raw",
   "metadata": {},
   "source": [
    "o suffix  : 동일한 키이름을 갖는 컬럼에 대한 첨자 처리 \n",
    " - 디폴트: _x, _y\n",
    " - suffixex 옵션 설정 가능"
   ]
  },
  {
   "cell_type": "code",
   "execution_count": 29,
   "metadata": {},
   "outputs": [
    {
     "ename": "NameError",
     "evalue": "name 'left' is not defined",
     "output_type": "error",
     "traceback": [
      "\u001b[1;31m---------------------------------------------------------------------------\u001b[0m",
      "\u001b[1;31mNameError\u001b[0m                                 Traceback (most recent call last)",
      "\u001b[1;32m<ipython-input-29-0e9fb0263295>\u001b[0m in \u001b[0;36m<module>\u001b[1;34m()\u001b[0m\n\u001b[1;32m----> 1\u001b[1;33m \u001b[0mpd\u001b[0m\u001b[1;33m.\u001b[0m\u001b[0mmerge\u001b[0m\u001b[1;33m(\u001b[0m\u001b[0mleft\u001b[0m\u001b[1;33m,\u001b[0m \u001b[0mright\u001b[0m\u001b[1;33m,\u001b[0m \u001b[0mon\u001b[0m\u001b[1;33m=\u001b[0m\u001b[1;34m'key1'\u001b[0m\u001b[1;33m)\u001b[0m\u001b[1;33m\u001b[0m\u001b[0m\n\u001b[0m",
      "\u001b[1;31mNameError\u001b[0m: name 'left' is not defined"
     ]
    }
   ],
   "source": [
    "pd.merge(left, right, on='key1')"
   ]
  },
  {
   "cell_type": "code",
   "execution_count": null,
   "metadata": {},
   "outputs": [],
   "source": [
    "pd.merge(left, right, on='key1', suffixes=('_left', '_right'))"
   ]
  },
  {
   "cell_type": "markdown",
   "metadata": {},
   "source": [
    "#### o merge 함수 인자 목록\n",
    " - left\t머지하려는 DataFrame 중 왼쪽에 위치한 DataFrame\n",
    " - right\t머지하려는 DataFrame 중 오른쪽에 위치한 DataFrame\n",
    " - how\t조인방법. 'inner', 'outer', 'left', 'right'. 기본값은 inner\n",
    " - on\t조인하려는 로우 이름. 반드시 두 DataFrame 객체 모두에 있는 이름이어야 한다. 만약 명시되지 않고 다른 조인 키도 주어지지 않으면 left와 right에서 공통되는 칼럼을 조인 키로 사용한다.\n",
    " - left_on\t조인 키로 사용할 left DataFrame의 칼럼\n",
    " - right_on\t조인 키로 사용할 right DataFrame의 칼럼\n",
    " - left_index\t조인 키로 사용할 left DataFrame의 색인 로우(다중 색인일 경우의 키)\n",
    " - right_index\t조인 키로 사용할 right DataFrame의 색인 로우(다중 색인일 경우의 키)\n",
    " - sort\t조인 키에 따라 병합된 데이터를 사전 순으로 정렬. 기본값은 True. 대용량 데이터의 경우 False라면 성능상의 이득을 얻을 수도 있다.\n",
    " - suffixes\t칼럼 이름이 겹칠 경우 각 칼럼 이름 뒤에 붙일 문자열의 튜플. 기본값은 ('_x', '_y'). 만약 'data'라는 칼럼 이름이 양쪽 DataFrame에 같이 존재하면 결과에서는 'data_x', 'data_y'로 나타난다.\n",
    " - copy\tFalse일 경우 예외적인 경우에 결과로 데이터가 복사되지 않도록 한다. 기본값은 항상 복사가 이루어진다."
   ]
  },
  {
   "cell_type": "markdown",
   "metadata": {},
   "source": [
    "### 7.1.2 Merging on index\n",
    "\n",
    "o 컬럼대신 index를 조인기준으로 활용하여 Merge 가능\n"
   ]
  },
  {
   "cell_type": "code",
   "execution_count": null,
   "metadata": {},
   "outputs": [],
   "source": [
    "left1 = DataFrame({'key': ['a', 'b', 'a', 'a', 'b', 'c'],\n",
    "                  'value': range(6)})\n",
    "right1 = DataFrame({'group_val': [3.5, 7]}, index=['a', 'b'])"
   ]
  },
  {
   "cell_type": "code",
   "execution_count": null,
   "metadata": {},
   "outputs": [],
   "source": [
    "left1"
   ]
  },
  {
   "cell_type": "code",
   "execution_count": null,
   "metadata": {},
   "outputs": [],
   "source": [
    "right1"
   ]
  },
  {
   "cell_type": "code",
   "execution_count": null,
   "metadata": {},
   "outputs": [],
   "source": [
    "pd.merge(left1, right1, left_on='key', right_index=True)"
   ]
  },
  {
   "cell_type": "code",
   "execution_count": null,
   "metadata": {},
   "outputs": [],
   "source": [
    "pd.merge(left1, right1, left_on='key', right_index=True, how='outer')"
   ]
  },
  {
   "cell_type": "code",
   "execution_count": null,
   "metadata": {},
   "outputs": [],
   "source": [
    "lefth = DataFrame({'key1': ['Ohio', 'Ohio', 'Ohio', 'Nevada', 'Nevada'],\n",
    "                   'key2': [2000, 2001, 2002, 2001, 2002],\n",
    "                   'data': np.arange(5.)})\n",
    "righth = DataFrame(np.arange(12).reshape((6, 2)),\n",
    "                   index=[['Nevada', 'Nevada', 'Ohio', 'Ohio', 'Ohio', 'Ohio'],\n",
    "                          [2001, 2000, 2000, 2000, 2001, 2002]],\n",
    "                   columns=['event1', 'event2'])\n",
    "lefth"
   ]
  },
  {
   "cell_type": "code",
   "execution_count": null,
   "metadata": {},
   "outputs": [],
   "source": [
    "righth"
   ]
  },
  {
   "cell_type": "code",
   "execution_count": null,
   "metadata": {},
   "outputs": [],
   "source": [
    "pd.merge(lefth, righth, left_on=['key1', 'key2'], right_index=True)"
   ]
  },
  {
   "cell_type": "raw",
   "metadata": {},
   "source": [
    "주의) inner join  --> Nevada 2002 행은 없음. "
   ]
  },
  {
   "cell_type": "code",
   "execution_count": 30,
   "metadata": {},
   "outputs": [
    {
     "ename": "NameError",
     "evalue": "name 'lefth' is not defined",
     "output_type": "error",
     "traceback": [
      "\u001b[1;31m---------------------------------------------------------------------------\u001b[0m",
      "\u001b[1;31mNameError\u001b[0m                                 Traceback (most recent call last)",
      "\u001b[1;32m<ipython-input-30-d5662922672f>\u001b[0m in \u001b[0;36m<module>\u001b[1;34m()\u001b[0m\n\u001b[1;32m----> 1\u001b[1;33m pd.merge(lefth, righth, left_on=['key1', 'key2'],\n\u001b[0m\u001b[0;32m      2\u001b[0m          right_index=True, how='outer')\n",
      "\u001b[1;31mNameError\u001b[0m: name 'lefth' is not defined"
     ]
    }
   ],
   "source": [
    "pd.merge(lefth, righth, left_on=['key1', 'key2'],\n",
    "         right_index=True, how='outer')"
   ]
  },
  {
   "cell_type": "code",
   "execution_count": null,
   "metadata": {},
   "outputs": [],
   "source": [
    "left2 = DataFrame([[1., 2.], [3., 4.], [5., 6.],[7.,8.]], index=['a', 'c', 'e','d'],\n",
    "                 columns=['Ohio', 'Nevada'])\n",
    "right2 = DataFrame([[7., 8.], [9., 10.], [11., 12.], [13, 14]],\n",
    "                   index=['b', 'c', 'd', 'e'], columns=['Missouri', 'Alabama'])"
   ]
  },
  {
   "cell_type": "code",
   "execution_count": null,
   "metadata": {},
   "outputs": [],
   "source": [
    "left2"
   ]
  },
  {
   "cell_type": "code",
   "execution_count": null,
   "metadata": {},
   "outputs": [],
   "source": [
    "right2"
   ]
  },
  {
   "cell_type": "code",
   "execution_count": null,
   "metadata": {},
   "outputs": [],
   "source": [
    "pd.merge(left2, right2, how='outer', left_index=True, right_index=True)"
   ]
  },
  {
   "cell_type": "markdown",
   "metadata": {},
   "source": [
    "#### o DataFrame.join \n",
    " - join 연산은 기본적으로 index를 기준으로 합병한다.\n",
    " - 기본적으로 호출하는 DataFrame을 outer join ( = Left Outer JOIN) 한다. \n",
    " - 유사한(동일한) 색인구조를 갖을 경우 편리하게 사용 가능"
   ]
  },
  {
   "cell_type": "code",
   "execution_count": null,
   "metadata": {},
   "outputs": [],
   "source": [
    "left2.join(right2)"
   ]
  },
  {
   "cell_type": "raw",
   "metadata": {},
   "source": [
    "주의) a행은 존재하고, b행은 존재하지 않음 ==> left outer join "
   ]
  },
  {
   "cell_type": "code",
   "execution_count": null,
   "metadata": {},
   "outputs": [],
   "source": [
    "left2.join(right2, how='outer')"
   ]
  },
  {
   "cell_type": "raw",
   "metadata": {},
   "source": [
    "- dataframe.join을 이용하되, 컬럼을 이용한 조인을 하도록 가능 (option on=key) "
   ]
  },
  {
   "cell_type": "code",
   "execution_count": null,
   "metadata": {},
   "outputs": [],
   "source": [
    "left1.join(right1, on='key')"
   ]
  },
  {
   "cell_type": "code",
   "execution_count": null,
   "metadata": {},
   "outputs": [],
   "source": [
    "another = DataFrame([[7., 8.], [9., 10.], [11., 12.], [16., 17.]],\n",
    "                    index=['a', 'c', 'e', 'f'], columns=['New York', 'Oregon'])\n",
    "another"
   ]
  },
  {
   "cell_type": "code",
   "execution_count": null,
   "metadata": {},
   "outputs": [],
   "source": [
    "left2"
   ]
  },
  {
   "cell_type": "code",
   "execution_count": null,
   "metadata": {},
   "outputs": [],
   "source": [
    "right2"
   ]
  },
  {
   "cell_type": "code",
   "execution_count": null,
   "metadata": {},
   "outputs": [],
   "source": [
    "left2.join([right2, another])"
   ]
  },
  {
   "cell_type": "raw",
   "metadata": {},
   "source": [
    "주의) left2 에 대해서는 outer join하며, right2와 another를 결합\n",
    "      즉 left2 <left outer join> (right2,another) "
   ]
  },
  {
   "cell_type": "markdown",
   "metadata": {},
   "source": [
    "##### o outer : 3개 dataframe을 모두 보존  "
   ]
  },
  {
   "cell_type": "code",
   "execution_count": null,
   "metadata": {},
   "outputs": [],
   "source": [
    "left2.join([right2, another], how='outer')"
   ]
  },
  {
   "cell_type": "markdown",
   "metadata": {},
   "source": [
    "### 7.1.3 Concatenating along an axis\n",
    "#### o 또 다른 합병의 종류: concatenating(이어붙이기), binding(연결), stacking(적층)\n",
    "#### o concatenating\n",
    " - NumPy의 concatenate()"
   ]
  },
  {
   "cell_type": "code",
   "execution_count": null,
   "metadata": {},
   "outputs": [],
   "source": [
    "arr = np.arange(12).reshape((3, 4))"
   ]
  },
  {
   "cell_type": "code",
   "execution_count": null,
   "metadata": {},
   "outputs": [],
   "source": [
    "arr"
   ]
  },
  {
   "cell_type": "code",
   "execution_count": null,
   "metadata": {},
   "outputs": [],
   "source": [
    "np.concatenate([arr, arr], axis=1)"
   ]
  },
  {
   "cell_type": "raw",
   "metadata": {},
   "source": [
    "o Pandas의 concat()\n",
    " - default: axis=0"
   ]
  },
  {
   "cell_type": "code",
   "execution_count": null,
   "metadata": {},
   "outputs": [],
   "source": [
    "#s1 = Series([0, 1], index=['a', 'b'])\n",
    "s1 = Series([0, 1], index=['a', 'c'])\n",
    "s2 = Series([2, 3, 4], index=['c', 'd', 'e'])\n",
    "s3 = Series([5, 6], index=['f', 'g'])"
   ]
  },
  {
   "cell_type": "markdown",
   "metadata": {},
   "source": [
    "#### o Pandas.concat(Series, ...)\n",
    " - 디폴트 axis=0 을 기준으로 연결하여 붙임.(join 하지 않음. 단순 연결) "
   ]
  },
  {
   "cell_type": "code",
   "execution_count": null,
   "metadata": {},
   "outputs": [],
   "source": [
    "pd.concat([s1, s2, s3])"
   ]
  },
  {
   "cell_type": "code",
   "execution_count": null,
   "metadata": {},
   "outputs": [],
   "source": [
    "pd.concat([s1, s2, s3], axis=1)"
   ]
  },
  {
   "cell_type": "code",
   "execution_count": null,
   "metadata": {},
   "outputs": [],
   "source": [
    "s4 = pd.concat([s1 * 5, s3])\n",
    "s4"
   ]
  },
  {
   "cell_type": "code",
   "execution_count": null,
   "metadata": {},
   "outputs": [],
   "source": [
    "pd.concat([s1, s4], axis=1)"
   ]
  },
  {
   "cell_type": "markdown",
   "metadata": {},
   "source": [
    "#### o pd.concat( )의 옵션\n",
    " - 참고) https://pandas.pydata.org/pandas-docs/stable/generated/pandas.concat.html\n",
    "  - return: \n",
    "  - When concatenating all Series along the index (axis=0), a Series is returned. \n",
    "  - When objs contains at least one DataFrame, a DataFrame is returned. \n",
    "  - When concatenating along the columns (axis=1), a DataFrame is returned."
   ]
  },
  {
   "cell_type": "code",
   "execution_count": null,
   "metadata": {},
   "outputs": [],
   "source": [
    "s1"
   ]
  },
  {
   "cell_type": "code",
   "execution_count": null,
   "metadata": {},
   "outputs": [],
   "source": [
    "s4"
   ]
  },
  {
   "cell_type": "code",
   "execution_count": null,
   "metadata": {},
   "outputs": [],
   "source": [
    "pd.concat([s1, s4], axis=1)  # axis=1 일 경우에만,join 옵션(디폴트=outer)이 의미 있음. \n",
    "# pd.concat([s1, s4], axis=1, join='inner')"
   ]
  },
  {
   "cell_type": "markdown",
   "metadata": {},
   "source": [
    "- join_axes 조인할 행의 축의 값을  지정"
   ]
  },
  {
   "cell_type": "code",
   "execution_count": null,
   "metadata": {},
   "outputs": [],
   "source": [
    "pd.concat([s1, s4], axis=1, join_axes=[['a', 'c', 'b', 'e']])"
   ]
  },
  {
   "cell_type": "markdown",
   "metadata": {},
   "source": [
    "- keys: Series를 이어붙일 경우, 다단계 색인을 통하여 소속 Series를 표기"
   ]
  },
  {
   "cell_type": "code",
   "execution_count": null,
   "metadata": {},
   "outputs": [],
   "source": [
    "result = pd.concat([s1, s1, s3], keys=['one', 'two', 'three'])"
   ]
  },
  {
   "cell_type": "code",
   "execution_count": null,
   "metadata": {},
   "outputs": [],
   "source": [
    "result"
   ]
  },
  {
   "cell_type": "code",
   "execution_count": null,
   "metadata": {},
   "outputs": [],
   "source": [
    "# Much more on the unstack function later\n",
    "result.unstack()"
   ]
  },
  {
   "cell_type": "markdown",
   "metadata": {},
   "source": [
    "- keys : axis=1 이면, \n",
    " - Series를 concat 한 결과는 DataFrame이 되고, \n",
    " - keys 옵션은 결과 DataFrame의 컬럼이 된다."
   ]
  },
  {
   "cell_type": "code",
   "execution_count": null,
   "metadata": {},
   "outputs": [],
   "source": [
    "# pd.concat([s1, s2, s3])  # s1,s2,s3 확인 \n",
    "pd.concat([s1, s2, s3], axis=1, keys=['one', 'two', 'three'])"
   ]
  },
  {
   "cell_type": "markdown",
   "metadata": {},
   "source": [
    "#### o pd.concat(DataFrame+) \n",
    " - Series와 동일하게 적용\n",
    " - keys: 기존 df에 컬럼명이 있으므로, 다단계 컬럼으로... "
   ]
  },
  {
   "cell_type": "code",
   "execution_count": null,
   "metadata": {},
   "outputs": [],
   "source": [
    "df1 = DataFrame(np.arange(6).reshape(3, 2), index=['a', 'b', 'c'],\n",
    "                columns=['one', 'two'])\n",
    "df2 = DataFrame(5 + np.arange(4).reshape(2, 2), index=['a', 'c'],\n",
    "                columns=['three', 'four'])"
   ]
  },
  {
   "cell_type": "code",
   "execution_count": null,
   "metadata": {},
   "outputs": [],
   "source": [
    "df1"
   ]
  },
  {
   "cell_type": "code",
   "execution_count": null,
   "metadata": {},
   "outputs": [],
   "source": [
    "df2"
   ]
  },
  {
   "cell_type": "code",
   "execution_count": null,
   "metadata": {},
   "outputs": [],
   "source": [
    "# pd.concat([df1, df2], axis=1, keys=['level1', 'level2'])\n",
    "pd.concat([df1, df2], axis=1)\n",
    "df3.pivot('one','two','three')"
   ]
  },
  {
   "cell_type": "code",
   "execution_count": null,
   "metadata": {},
   "outputs": [],
   "source": [
    "df3=pd.concat([df1, df2], axis=1)\n",
    "# df1.unstack()"
   ]
  },
  {
   "cell_type": "raw",
   "metadata": {},
   "source": [
    "- pd.concat(사전들) 이면, 사전의 key가 keys 옵션으로 사용된다. "
   ]
  },
  {
   "cell_type": "code",
   "execution_count": null,
   "metadata": {},
   "outputs": [],
   "source": [
    "pd.concat({'level1': df1, 'level2': df2}, axis=1)"
   ]
  },
  {
   "cell_type": "code",
   "execution_count": null,
   "metadata": {},
   "outputs": [],
   "source": [
    "pd.concat([df1, df2], axis=1, keys=['level1', 'level2'],\n",
    "          names=['upper', 'lower'])"
   ]
  },
  {
   "cell_type": "code",
   "execution_count": null,
   "metadata": {},
   "outputs": [],
   "source": [
    "df1 = DataFrame(np.random.randn(3, 4), columns=['a', 'b', 'c', 'd'])\n",
    "df2 = DataFrame(np.random.randn(2, 3), columns=['b', 'd', 'a'])"
   ]
  },
  {
   "cell_type": "code",
   "execution_count": null,
   "metadata": {},
   "outputs": [],
   "source": [
    "df1"
   ]
  },
  {
   "cell_type": "code",
   "execution_count": null,
   "metadata": {},
   "outputs": [],
   "source": [
    "df2"
   ]
  },
  {
   "cell_type": "markdown",
   "metadata": {},
   "source": [
    "- ignore_index = TRUE : index가 불필요한 경우\n",
    "  - 참고) 디폴트 값: axix=0 "
   ]
  },
  {
   "cell_type": "code",
   "execution_count": null,
   "metadata": {},
   "outputs": [],
   "source": [
    "pd.concat([df1, df2], ignore_index=True)"
   ]
  },
  {
   "cell_type": "markdown",
   "metadata": {},
   "source": [
    "### 7.1.4 겹치는 데이터 합치기"
   ]
  },
  {
   "cell_type": "code",
   "execution_count": null,
   "metadata": {},
   "outputs": [],
   "source": [
    "a = Series([np.nan, 2.5, np.nan, 3.5, 4.5, np.nan],\n",
    "           index=['f', 'e', 'd', 'c', 'b', 'a'])\n",
    "b = Series(np.arange(len(a), dtype=np.float64),\n",
    "           index=['f', 'e', 'd', 'c', 'b', 'a'])\n",
    "b[-1] = np.nan"
   ]
  },
  {
   "cell_type": "code",
   "execution_count": null,
   "metadata": {},
   "outputs": [],
   "source": [
    "a"
   ]
  },
  {
   "cell_type": "code",
   "execution_count": null,
   "metadata": {},
   "outputs": [],
   "source": [
    "b"
   ]
  },
  {
   "cell_type": "markdown",
   "metadata": {},
   "source": [
    "#### o np.where(condition[, x, y] ) \n",
    " - 참고: https://docs.scipy.org/doc/numpy-1.14.0/reference/generated/numpy.where.html\n",
    " - condition, x, y 는 array-like 객체\n",
    " - condition이 TRUE이면 x, 아니면 y 선택\n",
    " - return: ndarray or tuple of ndarrays"
   ]
  },
  {
   "cell_type": "code",
   "execution_count": null,
   "metadata": {},
   "outputs": [],
   "source": [
    "np.where(pd.isnull(a), b, a) # a가 null 인 곳만, b가 리턴됨 "
   ]
  },
  {
   "cell_type": "markdown",
   "metadata": {},
   "source": [
    "#### Series.combine_first( ) \n",
    " - 참고) https://pandas.pydata.org/pandas-docs/stable/generated/pandas.Series.combine_first.html\n",
    " - 호출 Series의 값을 우선하고 NULL인 경우나 callee에만 있는 값은 calㅣee의 값으로 넣는다. \n",
    " - 색인값으로 정렬 "
   ]
  },
  {
   "cell_type": "code",
   "execution_count": null,
   "metadata": {},
   "outputs": [],
   "source": [
    "b[:-2]"
   ]
  },
  {
   "cell_type": "code",
   "execution_count": null,
   "metadata": {},
   "outputs": [],
   "source": [
    "a[2:]"
   ]
  },
  {
   "cell_type": "code",
   "execution_count": null,
   "metadata": {},
   "outputs": [],
   "source": [
    "b[:-2].combine_first(a[2:])"
   ]
  },
  {
   "cell_type": "code",
   "execution_count": null,
   "metadata": {},
   "outputs": [],
   "source": [
    "df1 = DataFrame({'a': [1., np.nan, 5., np.nan],\n",
    "                 'b': [np.nan, 2., np.nan, 6.],\n",
    "                 'c': range(2, 18, 4)})\n",
    "df2 = DataFrame({'a': [5., 4., np.nan, 3., 7.],\n",
    "                 'b': [np.nan, 3., 4., 6., 8.]})\n",
    "df1.combine_first(df2)"
   ]
  },
  {
   "cell_type": "markdown",
   "metadata": {},
   "source": [
    "## 7.2 재형성과 피봇(Reshaping and pivoting)"
   ]
  },
  {
   "cell_type": "markdown",
   "metadata": {},
   "source": [
    "### 7.2.1 Reshaping with hierarchical indexing\n",
    "#### o stack(level=-1, dropna=True) \n",
    " - 데이터 컬럼을 가장 안쪽의 색인으로 피봇 또는 회전시킨다. \n",
    " - dropna=TRUE 이므로, 누락된 값은 자동으로 사라짐.(참고: 아래)\n",
    " - 참고) https://pandas.pydata.org/pandas-docs/stable/generated/pandas.DataFrame.stack.html\n",
    "\n",
    "#### o unstack(level=-1, fill_value=None): \n",
    " - 로우를 컬럼의 가장안쪽 레벨로 피봇 또는 회전시킨다. \n",
    " -  fill_value=None 이므로, 불일치하는 피봇 색인들은 Nan으로 채워짐.(참고: 아래)\n",
    " - 참고) https://pandas.pydata.org/pandas-docs/stable/generated/pandas.DataFrame.unstack.html\n"
   ]
  },
  {
   "cell_type": "code",
   "execution_count": null,
   "metadata": {},
   "outputs": [],
   "source": [
    "data = DataFrame(np.arange(6).reshape((2, 3)),\n",
    "                 index=pd.Index(['Ohio', 'Colorado'], name='state'),\n",
    "                 columns=pd.Index(['one', 'two', 'three'], name='number'))\n",
    "data"
   ]
  },
  {
   "cell_type": "code",
   "execution_count": null,
   "metadata": {},
   "outputs": [],
   "source": [
    "result = data.stack()\n",
    "result"
   ]
  },
  {
   "cell_type": "code",
   "execution_count": null,
   "metadata": {},
   "outputs": [],
   "source": [
    "result.unstack()"
   ]
  },
  {
   "cell_type": "code",
   "execution_count": null,
   "metadata": {},
   "outputs": [],
   "source": [
    "result.unstack(0)"
   ]
  },
  {
   "cell_type": "code",
   "execution_count": null,
   "metadata": {},
   "outputs": [],
   "source": [
    "result.unstack('state')"
   ]
  },
  {
   "cell_type": "code",
   "execution_count": null,
   "metadata": {},
   "outputs": [],
   "source": [
    "s1 = Series([0, 1, 2, 3], index=['a', 'b', 'c', 'd'])\n",
    "s2 = Series([4, 5, 6], index=['c', 'd', 'e'])\n",
    "data2 = pd.concat([s1, s2], keys=['one', 'two']) # keys가 원래의 Series을 알 수 있도록 색인레벨 부여\n",
    "data2"
   ]
  },
  {
   "cell_type": "markdown",
   "metadata": {},
   "source": [
    "- unstack()의 경우, povot 레벨의 색인이 일치하지 않으면, Nan값 발생"
   ]
  },
  {
   "cell_type": "code",
   "execution_count": null,
   "metadata": {},
   "outputs": [],
   "source": [
    "data2.unstack()"
   ]
  },
  {
   "cell_type": "code",
   "execution_count": null,
   "metadata": {},
   "outputs": [],
   "source": [
    "data2.unstack().stack()"
   ]
  },
  {
   "cell_type": "code",
   "execution_count": null,
   "metadata": {},
   "outputs": [],
   "source": [
    "data2.unstack().stack(dropna=False)"
   ]
  },
  {
   "cell_type": "markdown",
   "metadata": {},
   "source": [
    "- unstack() : 이동 목표위치는 가장 안쪽 컬럼레벨이다."
   ]
  },
  {
   "cell_type": "code",
   "execution_count": null,
   "metadata": {},
   "outputs": [],
   "source": [
    "df = DataFrame({'left': result, 'right': result + 5},\n",
    "               columns=pd.Index(['left', 'right'], name='side'))\n",
    "df"
   ]
  },
  {
   "cell_type": "code",
   "execution_count": null,
   "metadata": {},
   "outputs": [],
   "source": [
    "df.unstack('state')"
   ]
  },
  {
   "cell_type": "code",
   "execution_count": null,
   "metadata": {},
   "outputs": [],
   "source": [
    "df.unstack('state').stack('side')"
   ]
  },
  {
   "cell_type": "markdown",
   "metadata": {},
   "source": [
    "### 7.2.2 피봇팅으로 데이터 나열방식 바꾸기 (Pivoting \"long\" to \"wide\" format)"
   ]
  },
  {
   "cell_type": "code",
   "execution_count": null,
   "metadata": {},
   "outputs": [],
   "source": [
    "data = pd.read_csv('ch07/macrodata.csv')\n",
    "data"
   ]
  },
  {
   "cell_type": "code",
   "execution_count": null,
   "metadata": {
    "scrolled": true
   },
   "outputs": [],
   "source": [
    "periods = pd.PeriodIndex(year=data.year, quarter=data.quarter, name='date')\n",
    "periods"
   ]
  },
  {
   "cell_type": "markdown",
   "metadata": {},
   "source": [
    "#### DataFrame.to_records(index=True, convert_datetime64=True)\n",
    " - Convert DataFrame to record array. \n",
    " - 참고) https://pandas.pydata.org/pandas-docs/stable/generated/pandas.DataFrame.to_records.html\n",
    "\n",
    "#### PeriodIndex.to_timestamp(freq=None, how='start')\n",
    " - Cast to DatetimeIndex\n",
    " - 참고) https://pandas.pydata.org/pandas-docs/stable/generated/pandas.PeriodIndex.to_timestamp.html\n",
    "   - freq : string or DateOffset, default ‘D’ for week or longer, ‘S’\n",
    "otherwise. \n",
    "   - how : {‘s’, ‘e’, ‘start’, ‘end’}"
   ]
  },
  {
   "cell_type": "code",
   "execution_count": null,
   "metadata": {},
   "outputs": [],
   "source": [
    "data = DataFrame(data.to_records(),\n",
    "                 columns=pd.Index(['realgdp', 'infl', 'unemp'], name='item'),\n",
    "                 index=periods.to_timestamp('D', 'end'))\n",
    "data[:10]"
   ]
  },
  {
   "cell_type": "code",
   "execution_count": null,
   "metadata": {},
   "outputs": [],
   "source": [
    "# ldata = data.stack().reset_index()#.rename(columns={0: 'value'})\n",
    "# ldata\n",
    "ldata = data.stack().reset_index().rename(columns={0: 'value'})\n",
    "ldata[:10]"
   ]
  },
  {
   "cell_type": "markdown",
   "metadata": {},
   "source": [
    "#### DataFrame.pivot(index=None, columns=None, values=None)\n",
    " - dataframe을 지정된 각 값들을 index, column, values로 사용하도록 피봇팅한 결과 산출 \n",
    " - 참고) https://pandas.pydata.org/pandas-docs/stable/generated/pandas.DataFrame.pivot.html"
   ]
  },
  {
   "cell_type": "code",
   "execution_count": null,
   "metadata": {},
   "outputs": [],
   "source": [
    "wdata = ldata.pivot('date', 'item', 'value')\n",
    "wdata[:10]"
   ]
  },
  {
   "cell_type": "code",
   "execution_count": null,
   "metadata": {},
   "outputs": [],
   "source": [
    "ldata[:10]"
   ]
  },
  {
   "cell_type": "code",
   "execution_count": null,
   "metadata": {},
   "outputs": [],
   "source": [
    "pivoted = ldata.pivot('date', 'item', 'value')\n",
    "pivoted.head()"
   ]
  },
  {
   "cell_type": "code",
   "execution_count": null,
   "metadata": {},
   "outputs": [],
   "source": [
    "ldata['value2'] = np.random.randn(len(ldata))\n",
    "ldata[:10]"
   ]
  },
  {
   "cell_type": "markdown",
   "metadata": {},
   "source": [
    "- values=None이면, 나머지 모든 컬럼이 \"values=\"의 값으로 지정됨. "
   ]
  },
  {
   "cell_type": "code",
   "execution_count": null,
   "metadata": {},
   "outputs": [],
   "source": [
    "pivoted = ldata.pivot('date', 'item')\n",
    "pivoted[:5]"
   ]
  },
  {
   "cell_type": "code",
   "execution_count": null,
   "metadata": {},
   "outputs": [],
   "source": [
    "pivoted['value'][:5]"
   ]
  },
  {
   "cell_type": "raw",
   "metadata": {},
   "source": [
    "- set_Index를 통해서 계층적 인덱스를 만들고, unstack()을 통해서 조정도 가능"
   ]
  },
  {
   "cell_type": "code",
   "execution_count": null,
   "metadata": {},
   "outputs": [],
   "source": [
    "#unstacked = ldata.set_index(['date', 'item'])#.unstack('item')\n",
    "#unstacked[:7]\n",
    "unstacked = ldata.set_index(['date', 'item']).unstack('item')\n",
    "unstacked[:7]"
   ]
  },
  {
   "cell_type": "markdown",
   "metadata": {},
   "source": [
    "## 7.3 데이터 변형(Data transformation)"
   ]
  },
  {
   "cell_type": "markdown",
   "metadata": {},
   "source": [
    "### 7.3.1 중복제거(Removing duplicates)"
   ]
  },
  {
   "cell_type": "code",
   "execution_count": null,
   "metadata": {},
   "outputs": [],
   "source": [
    "data = DataFrame({'k1': ['one'] * 3 + ['two'] * 4,\n",
    "                  'k2': [1, 1, 2, 3, 3, 4, 4]})\n",
    "data"
   ]
  },
  {
   "cell_type": "markdown",
   "metadata": {},
   "source": [
    "#### dataframe.duplicated(subset=None, keep='first')\n",
    " - Return boolean Series denoting duplicate rows, optionally only considering certain columns\n",
    " - keep 값(first, last, False) 에 따라서, False의 위치를 결정 \n",
    "   - 참고: keep이므로 duplicate하지 않은 것(keep할 것)으로 판정(false)할 것을 지정, \n",
    "   - 따라서, False는 keep할 것이 없으므로, 중볻된 모든 항목이 TRUE\n",
    "   "
   ]
  },
  {
   "cell_type": "code",
   "execution_count": null,
   "metadata": {},
   "outputs": [],
   "source": [
    "data.duplicated()"
   ]
  },
  {
   "cell_type": "code",
   "execution_count": null,
   "metadata": {},
   "outputs": [],
   "source": [
    "data.drop_duplicates()"
   ]
  },
  {
   "cell_type": "code",
   "execution_count": null,
   "metadata": {},
   "outputs": [],
   "source": [
    "data['v1'] = range(7)\n",
    "data"
   ]
  },
  {
   "cell_type": "raw",
   "metadata": {},
   "source": [
    "- 지정된 컬럼만으로 중복을 판정하여 drop "
   ]
  },
  {
   "cell_type": "code",
   "execution_count": null,
   "metadata": {},
   "outputs": [],
   "source": [
    "data.drop_duplicates(['k1'])"
   ]
  },
  {
   "cell_type": "raw",
   "metadata": {},
   "source": [
    "- 중복된 마지막 값을 보존하고자 할 때"
   ]
  },
  {
   "cell_type": "code",
   "execution_count": 31,
   "metadata": {},
   "outputs": [
    {
     "ename": "NameError",
     "evalue": "name 'data' is not defined",
     "output_type": "error",
     "traceback": [
      "\u001b[1;31m---------------------------------------------------------------------------\u001b[0m",
      "\u001b[1;31mNameError\u001b[0m                                 Traceback (most recent call last)",
      "\u001b[1;32m<ipython-input-31-970c66f713c8>\u001b[0m in \u001b[0;36m<module>\u001b[1;34m()\u001b[0m\n\u001b[1;32m----> 1\u001b[1;33m \u001b[0mdata\u001b[0m\u001b[1;33m.\u001b[0m\u001b[0mdrop_duplicates\u001b[0m\u001b[1;33m(\u001b[0m\u001b[1;33m[\u001b[0m\u001b[1;34m'k1'\u001b[0m\u001b[1;33m,\u001b[0m \u001b[1;34m'k2'\u001b[0m\u001b[1;33m]\u001b[0m\u001b[1;33m,\u001b[0m \u001b[0mkeep\u001b[0m\u001b[1;33m=\u001b[0m\u001b[1;34m'last'\u001b[0m\u001b[1;33m)\u001b[0m\u001b[1;33m\u001b[0m\u001b[0m\n\u001b[0m",
      "\u001b[1;31mNameError\u001b[0m: name 'data' is not defined"
     ]
    }
   ],
   "source": [
    "data.drop_duplicates(['k1', 'k2'], keep='last')"
   ]
  },
  {
   "cell_type": "markdown",
   "metadata": {},
   "source": [
    "### 7.3.2 함수나 매핑으로 데이터 변형하기(Transforming data using a function or mapping)\n",
    "- 필요성: 값에 따라 데이터의 모양 변경 필요"
   ]
  },
  {
   "cell_type": "code",
   "execution_count": null,
   "metadata": {},
   "outputs": [],
   "source": [
    "data = DataFrame({'food': ['bacon', 'pulled pork', 'bacon', 'Pastrami',\n",
    "                           'corned beef', 'Bacon', 'pastrami', 'honey ham',\n",
    "                           'nova lox'],\n",
    "                  'ounces': [4, 3, 12, 6, 7.5, 8, 3, 5, 6]})\n",
    "data"
   ]
  },
  {
   "cell_type": "code",
   "execution_count": null,
   "metadata": {},
   "outputs": [],
   "source": [
    "meat_to_animal = {\n",
    "  'bacon': 'pig',\n",
    "  'pulled pork': 'pig',\n",
    "  'pastrami': 'cow',\n",
    "  'corned beef': 'cow',\n",
    "  'honey ham': 'pig',\n",
    "  'nova lox': 'salmon'\n",
    "}"
   ]
  },
  {
   "cell_type": "raw",
   "metadata": {},
   "source": [
    "- 위에서 data 는 육류를, meat_to_animal 은 \"육류에 해당하는 동물\" 데이터 보유"
   ]
  },
  {
   "cell_type": "markdown",
   "metadata": {},
   "source": [
    "#### o Series.map(arg, na_action=None)\n",
    " - Map values of Series using input correspondence (which can be a dict, Series, or function)\n",
    "  - dict: key -> value, \n",
    "  - Series: index -> value\n",
    "  - Function: input -> funtion return "
   ]
  },
  {
   "cell_type": "code",
   "execution_count": null,
   "metadata": {},
   "outputs": [],
   "source": [
    "data['animal'] = data['food'].map(str.lower).map(meat_to_animal)\n",
    "data"
   ]
  },
  {
   "cell_type": "code",
   "execution_count": null,
   "metadata": {},
   "outputs": [],
   "source": [
    "data['food'].map(lambda x: meat_to_animal[x.lower()])"
   ]
  },
  {
   "cell_type": "markdown",
   "metadata": {},
   "source": [
    "### 7.3.3 값 치환하기(Replacing values)\n",
    "#### o Series.replace(to_replace=None, value=None, inplace=False, limit=None, regex=False, method='pad', axis=None)\n",
    " - https://pandas.pydata.org/pandas-docs/stable/generated/pandas.Series.replace.html\n",
    " - to_replace : str, regex, list, dict, Series, numeric, or None\n",
    " - value : scalar, dict, list, str, regex, default None "
   ]
  },
  {
   "cell_type": "code",
   "execution_count": null,
   "metadata": {},
   "outputs": [],
   "source": [
    "data = Series([1., -999., 2., -999., -1000., 3.])\n",
    "data"
   ]
  },
  {
   "cell_type": "code",
   "execution_count": null,
   "metadata": {},
   "outputs": [],
   "source": [
    "data.replace(-999, np.nan)"
   ]
  },
  {
   "cell_type": "code",
   "execution_count": null,
   "metadata": {},
   "outputs": [],
   "source": [
    "data.replace([-999, -1000], np.nan)"
   ]
  },
  {
   "cell_type": "raw",
   "metadata": {},
   "source": [
    "- list와 list로 교체대상과 교체갑을 지정"
   ]
  },
  {
   "cell_type": "code",
   "execution_count": 32,
   "metadata": {},
   "outputs": [
    {
     "ename": "NameError",
     "evalue": "name 'data' is not defined",
     "output_type": "error",
     "traceback": [
      "\u001b[1;31m---------------------------------------------------------------------------\u001b[0m",
      "\u001b[1;31mNameError\u001b[0m                                 Traceback (most recent call last)",
      "\u001b[1;32m<ipython-input-32-565544ec4cf7>\u001b[0m in \u001b[0;36m<module>\u001b[1;34m()\u001b[0m\n\u001b[1;32m----> 1\u001b[1;33m \u001b[0mdata\u001b[0m\u001b[1;33m.\u001b[0m\u001b[0mreplace\u001b[0m\u001b[1;33m(\u001b[0m\u001b[1;33m[\u001b[0m\u001b[1;33m-\u001b[0m\u001b[1;36m999\u001b[0m\u001b[1;33m,\u001b[0m \u001b[1;33m-\u001b[0m\u001b[1;36m1000\u001b[0m\u001b[1;33m]\u001b[0m\u001b[1;33m,\u001b[0m \u001b[1;33m[\u001b[0m\u001b[0mnp\u001b[0m\u001b[1;33m.\u001b[0m\u001b[0mnan\u001b[0m\u001b[1;33m,\u001b[0m \u001b[1;36m0\u001b[0m\u001b[1;33m]\u001b[0m\u001b[1;33m)\u001b[0m\u001b[1;33m\u001b[0m\u001b[0m\n\u001b[0m",
      "\u001b[1;31mNameError\u001b[0m: name 'data' is not defined"
     ]
    }
   ],
   "source": [
    "data.replace([-999, -1000], [np.nan, 0])"
   ]
  },
  {
   "cell_type": "raw",
   "metadata": {},
   "source": [
    "- dictionary의 key:value를 이용한 교체대상:교체값 지정"
   ]
  },
  {
   "cell_type": "code",
   "execution_count": 33,
   "metadata": {},
   "outputs": [
    {
     "ename": "NameError",
     "evalue": "name 'data' is not defined",
     "output_type": "error",
     "traceback": [
      "\u001b[1;31m---------------------------------------------------------------------------\u001b[0m",
      "\u001b[1;31mNameError\u001b[0m                                 Traceback (most recent call last)",
      "\u001b[1;32m<ipython-input-33-7b18b1fc0ecb>\u001b[0m in \u001b[0;36m<module>\u001b[1;34m()\u001b[0m\n\u001b[1;32m----> 1\u001b[1;33m \u001b[0mdata\u001b[0m\u001b[1;33m.\u001b[0m\u001b[0mreplace\u001b[0m\u001b[1;33m(\u001b[0m\u001b[1;33m{\u001b[0m\u001b[1;33m-\u001b[0m\u001b[1;36m999\u001b[0m\u001b[1;33m:\u001b[0m \u001b[0mnp\u001b[0m\u001b[1;33m.\u001b[0m\u001b[0mnan\u001b[0m\u001b[1;33m,\u001b[0m \u001b[1;33m-\u001b[0m\u001b[1;36m1000\u001b[0m\u001b[1;33m:\u001b[0m \u001b[1;36m0\u001b[0m\u001b[1;33m}\u001b[0m\u001b[1;33m)\u001b[0m\u001b[1;33m\u001b[0m\u001b[0m\n\u001b[0m",
      "\u001b[1;31mNameError\u001b[0m: name 'data' is not defined"
     ]
    }
   ],
   "source": [
    "data.replace({-999: np.nan, -1000: 0})"
   ]
  },
  {
   "cell_type": "markdown",
   "metadata": {},
   "source": [
    "### 7.3.4 DataFrame 축 색인 이름변경(Renaming axis indexes)\n",
    "##### o Index.map(mapper)\n",
    " - Series와 유사하게, Index에 map 함수 보유 \n",
    " - Apply mapper function to an index\n",
    "   - mapper : callable"
   ]
  },
  {
   "cell_type": "code",
   "execution_count": null,
   "metadata": {},
   "outputs": [],
   "source": [
    "data = DataFrame(np.arange(12).reshape((3, 4)),\n",
    "                 index=['Ohio', 'Colorado', 'New York'],\n",
    "                 columns=['one', 'two', 'three', 'four'])\n",
    "data"
   ]
  },
  {
   "cell_type": "code",
   "execution_count": null,
   "metadata": {},
   "outputs": [],
   "source": [
    "data.index.map(str.upper)"
   ]
  },
  {
   "cell_type": "raw",
   "metadata": {},
   "source": [
    "- DataFrame의 index를 간단하게 변경 가능"
   ]
  },
  {
   "cell_type": "code",
   "execution_count": null,
   "metadata": {},
   "outputs": [],
   "source": [
    "data.index = data.index.map(str.upper)\n",
    "data"
   ]
  },
  {
   "cell_type": "markdown",
   "metadata": {},
   "source": [
    "#### o DataFrame.rename(mapper=None, index=None, columns=None, axis=None, copy=True, inplace=False, level=None)\n",
    " - https://pandas.pydata.org/pandas-docs/stable/generated/pandas.DataFrame.rename.html\n",
    " - Alter axes labels.\n",
    " - mapper, index, columns : dict-like or function, optional\n",
    "  - Function / dict values must be unique (1-to-1). \n",
    "  - Labels not contained in a dict / Series will be left as-is.\n",
    "  - Extra labels listed don’t throw an error.\n",
    " - copy : boolean, default True  ==> rename copies and return new DataFrame"
   ]
  },
  {
   "cell_type": "code",
   "execution_count": null,
   "metadata": {},
   "outputs": [],
   "source": [
    "# (mapper, index, columns)값이 함수인경우 \n",
    "data.rename(index=str.title, columns=str.upper)"
   ]
  },
  {
   "cell_type": "code",
   "execution_count": null,
   "metadata": {},
   "outputs": [],
   "source": [
    "# (mapper, index, columns)값이 사전인경우 \n",
    "data.rename(index={'OHIO': 'INDIANA'},\n",
    "            columns={'three': 'peekaboo'})"
   ]
  },
  {
   "cell_type": "code",
   "execution_count": null,
   "metadata": {},
   "outputs": [],
   "source": [
    "# Always returns a reference to a DataFrame\n",
    "_ = data.rename(index={'OHIO': 'INDIANA'}, inplace=True)\n",
    "data  # Look at inplcace=TRUE"
   ]
  },
  {
   "cell_type": "markdown",
   "metadata": {},
   "source": [
    "### 7.3.5 개별화와 양자화(Discretization and binning)\n",
    "- 필요성: 데이터를 분할하거나 그룹화에 대한 필요는 상존"
   ]
  },
  {
   "cell_type": "markdown",
   "metadata": {},
   "source": [
    "#### o class pandas.Categorical(values, categories=None, ordered=None, dtype=None, fastpath=False)\n",
    "- https://pandas.pydata.org/pandas-docs/stable/categorical.html\n",
    "- Represents a categorical variable in classic R / S-plus fashion\n",
    "- Categoricals can only take on only a limited, and usually fixed, number of possible values (categories)\n",
    "- All values of the Categorical are either in categories or np.nan.\n",
    "- Order is defined by the order of the categories, not lexical order of the values\n",
    "- Parameters:\n",
    "  - values : list-like\n",
    "    - The values of the categorical. If categories are given, values not in categories will be replaced with NaN.\n",
    "  - categories : Index-like (unique), optional\n",
    "    - The unique categories for this categorical. If not given, the categories are assumed to be the unique values of values.\n",
    "  - ordered : boolean, (default False)\n",
    "- 결론적으로, \n",
    "  - 1) categories가 주어지면, valeuse는 분류될 값이고, categories는 분류기준을 제공\n",
    "  - 2) categories가 안 주어지면, valeuse는 분류될 값이자, categories 자체가 됨. \n",
    "- Categorical.codes\n",
    "  - Level codes are an array if integer which are the positions of the real values in the categories array.  - "
   ]
  },
  {
   "cell_type": "code",
   "execution_count": null,
   "metadata": {},
   "outputs": [],
   "source": [
    "# Example 1 of Categorical\n",
    "pd.Categorical([1, 2, 3, 1, 2, 3])"
   ]
  },
  {
   "cell_type": "code",
   "execution_count": null,
   "metadata": {},
   "outputs": [],
   "source": [
    "# Example 2 of Categorical\n",
    "pd.Categorical(['a', 'b', 'c', 'a', 'b', 'c'])"
   ]
  },
  {
   "cell_type": "code",
   "execution_count": null,
   "metadata": {},
   "outputs": [],
   "source": [
    "c = pd.Categorical(['a','b','c','a','b','c'], ordered=True, categories=['c', 'b', 'a'])\n",
    "c"
   ]
  },
  {
   "cell_type": "markdown",
   "metadata": {},
   "source": [
    "#### o pandas.cut(x, bins, right=True, labels=None, retbins=False, precision=3, include_lowest=False)\n",
    "- https://pandas.pydata.org/pandas-docs/stable/generated/pandas.cut.html\n",
    "- Return indices of half-open bins to which each value of x belongs.\n",
    " - out: Categorical or Series or array of integers\n",
    " - bins:ndarray of floats only if retbins is True.\n",
    "- Parameters\n",
    " - x : array-like\n",
    "   - Input array to be binned. It has to be 1-dimensional.\n",
    " - bins : int, sequence of scalars, or IntervalIndex\n",
    "   - If bins is an int, it defines the number of equal-width bins in the range of x. \n",
    "     - However, in this case, the range of x is extended by .1% on each side to include the min or max values of x\n",
    "   - If bins is a sequence it defines the bin edges allowing for non-uniform bin width\n",
    " - right : bool, optional\n",
    "   - Indicates whether the bins include the rightmost edge or not.\n",
    " - labels : array or boolean, default None\n",
    "   - Used as labels for the resulting bins. Must be of the same length as the resulting bins. \n",
    "   - If False, return only integer indicators of the bins."
   ]
  },
  {
   "cell_type": "code",
   "execution_count": null,
   "metadata": {},
   "outputs": [],
   "source": [
    "ages = [20, 22, 25, 27, 21, 23, 37, 31, 61, 45, 41, 32]"
   ]
  },
  {
   "cell_type": "code",
   "execution_count": null,
   "metadata": {},
   "outputs": [],
   "source": [
    "bins = [18, 25, 35, 60, 100]\n",
    "cats = pd.cut(ages, bins)\n",
    "cats"
   ]
  },
  {
   "cell_type": "code",
   "execution_count": null,
   "metadata": {},
   "outputs": [],
   "source": [
    "cats.codes"
   ]
  },
  {
   "cell_type": "code",
   "execution_count": null,
   "metadata": {},
   "outputs": [],
   "source": [
    "pd.value_counts(cats)"
   ]
  },
  {
   "cell_type": "code",
   "execution_count": null,
   "metadata": {},
   "outputs": [],
   "source": [
    "# right : 경계포함(대괄호)의 위치를 결정\n",
    "pd.cut(ages, [18, 26, 36, 61, 100], right=False)"
   ]
  },
  {
   "cell_type": "code",
   "execution_count": null,
   "metadata": {},
   "outputs": [],
   "source": [
    "# lables \n",
    "group_names = ['Youth', 'YoungAdult', 'MiddleAged', 'Senior']\n",
    "pd.cut(ages, bins, labels=group_names)"
   ]
  },
  {
   "cell_type": "code",
   "execution_count": null,
   "metadata": {},
   "outputs": [],
   "source": [
    "data = np.random.rand(20)\n",
    "data"
   ]
  },
  {
   "cell_type": "code",
   "execution_count": null,
   "metadata": {},
   "outputs": [],
   "source": [
    "cut = pd.cut(data, 4)\n",
    "cut"
   ]
  },
  {
   "cell_type": "code",
   "execution_count": null,
   "metadata": {},
   "outputs": [],
   "source": [
    "cut.value_counts()"
   ]
  },
  {
   "cell_type": "code",
   "execution_count": null,
   "metadata": {},
   "outputs": [],
   "source": [
    "mydata=np.arange(10)\n",
    "mydata"
   ]
  },
  {
   "cell_type": "code",
   "execution_count": null,
   "metadata": {},
   "outputs": [],
   "source": [
    "# bins 가 integer일 경우, 1% of range가 min, max에서 확대될 수 있다. see min boundary\n",
    "mycut = pd.cut(mydata, 4)\n",
    "mycut"
   ]
  },
  {
   "cell_type": "markdown",
   "metadata": {},
   "source": [
    "#### o pandas.qcut(x, q, labels=None, retbins=False, precision=3, duplicates='raise')\n",
    "- Quantile-based discretization function. \n",
    "- Discretize variable into equal-sized buckets based on rank or based on sample quantiles. \n",
    "  - quantile: 변위치, 예) 4분위, 10%분위 등\n",
    "- For example 1000 values for 10 quantiles would produce a Categorical object indicating quantile membership for each data point.\n",
    "- Parameters:\n",
    "  - q : integer or array of quantiles, Number of quantiles. Alternately array of quantiles, e.g. [0, .25, .5, .75, 1.]\n",
    "- cut() vs. qcut()\n",
    " - cut(): 구간길기가(bin의 길이) 값을 기준으로 동일\n",
    " - qcut(): 변위치를 사용하기 때문에, value_counts()가 동일하도록 구간길기를 지정 (각 bin에 소속되는 갯수가 동일)"
   ]
  },
  {
   "cell_type": "code",
   "execution_count": null,
   "metadata": {},
   "outputs": [],
   "source": [
    "data = np.random.randn(1000) # Normally distributed\n",
    "cats = pd.qcut(data, 4) # Cut into quartiles\n",
    "cats"
   ]
  },
  {
   "cell_type": "code",
   "execution_count": null,
   "metadata": {},
   "outputs": [],
   "source": [
    "pd.value_counts(cats)"
   ]
  },
  {
   "cell_type": "code",
   "execution_count": null,
   "metadata": {},
   "outputs": [],
   "source": [
    "# 변위치를 직접 지정하는 경우 \n",
    "cats=pd.qcut(data, [0, 0.1, 0.5, 0.9, 1.])\n",
    "cats"
   ]
  },
  {
   "cell_type": "code",
   "execution_count": null,
   "metadata": {},
   "outputs": [],
   "source": [
    "pd.value_counts(cats)"
   ]
  },
  {
   "cell_type": "markdown",
   "metadata": {},
   "source": [
    "### 7.3.6 특이값 찾아내고 제외하기 (Detecting and filtering outliers)"
   ]
  },
  {
   "cell_type": "code",
   "execution_count": null,
   "metadata": {},
   "outputs": [],
   "source": [
    "np.random.seed(12345)\n",
    "data = DataFrame(np.random.randn(1000, 4))\n",
    "data.describe()"
   ]
  },
  {
   "cell_type": "code",
   "execution_count": null,
   "metadata": {},
   "outputs": [],
   "source": [
    "col = data[3]"
   ]
  },
  {
   "cell_type": "code",
   "execution_count": null,
   "metadata": {},
   "outputs": [],
   "source": [
    "col[np.abs(col) > 3]"
   ]
  },
  {
   "cell_type": "code",
   "execution_count": null,
   "metadata": {},
   "outputs": [],
   "source": [
    "# 3이 넘어가는 값이 1개 이상 존재하는 행을 선택 \n",
    "data[(np.abs(data) > 3).any(1)]"
   ]
  },
  {
   "cell_type": "code",
   "execution_count": null,
   "metadata": {},
   "outputs": [],
   "source": [
    "data[np.abs(data) > 3] = np.sign(data) * 3 # numpy.sign()  사인함수 값\n",
    "data.describe()"
   ]
  },
  {
   "cell_type": "markdown",
   "metadata": {},
   "source": [
    "### 7.3.7 Permutation and random sampling\n",
    "#### o numpy.random.permutation(x)\n",
    "- Randomly permute a sequence, or return a permuted range.\n",
    "- If x is a multi-dimensional array, it is only shuffled along its first index.\n",
    "- parameters\n",
    " - x : int or array_like\n",
    "   - If x is an integer, randomly permute np.arange(x).\n",
    "   - f x is an array, make a copy and shuffle the elements randomly.\n",
    "- returns \n",
    " - out : ndarray \n",
    "   - Permuted sequence or array range."
   ]
  },
  {
   "cell_type": "code",
   "execution_count": null,
   "metadata": {},
   "outputs": [],
   "source": [
    "df = DataFrame(np.arange(5 * 4).reshape((5, 4)))\n",
    "sampler = np.random.permutation(5)\n",
    "sampler"
   ]
  },
  {
   "cell_type": "code",
   "execution_count": null,
   "metadata": {},
   "outputs": [],
   "source": [
    "df"
   ]
  },
  {
   "cell_type": "markdown",
   "metadata": {},
   "source": [
    "#### o DataFrame.take(indices, axis=0, convert=None, is_copy=True, **kwargs)\n",
    "- https://pandas.pydata.org/pandas-docs/stable/generated/pandas.DataFrame.take.html\n",
    "- Return the elements in the given positional indices along an axis\n",
    "- Parameters:\n",
    " - indices : array-like\n",
    " - axis : int, default 0"
   ]
  },
  {
   "cell_type": "code",
   "execution_count": null,
   "metadata": {},
   "outputs": [],
   "source": [
    "df.take(sampler)"
   ]
  },
  {
   "cell_type": "markdown",
   "metadata": {},
   "source": [
    "- 일부만 선택하고자 하는 경우"
   ]
  },
  {
   "cell_type": "code",
   "execution_count": null,
   "metadata": {},
   "outputs": [],
   "source": [
    "df.take(np.random.permutation(len(df))[:3])"
   ]
  },
  {
   "cell_type": "markdown",
   "metadata": {},
   "source": [
    "- 주어진 값으로만 치환을 통해 샘플을 생성하는 방법\n",
    " - 예) 주어진 bag의 값을, 10개의 샘플을 생성 "
   ]
  },
  {
   "cell_type": "code",
   "execution_count": null,
   "metadata": {},
   "outputs": [],
   "source": [
    "bag = np.array([5, 7, -1, 6, 4])\n",
    "sampler = np.random.randint(0, len(bag), size=10)"
   ]
  },
  {
   "cell_type": "code",
   "execution_count": null,
   "metadata": {},
   "outputs": [],
   "source": [
    "sampler"
   ]
  },
  {
   "cell_type": "code",
   "execution_count": null,
   "metadata": {},
   "outputs": [],
   "source": [
    "# numpy.take(a, indices, axis=None, out=None, mode='raise')  - df.take()와 거의 유사한 인터페이스\n",
    "draws = bag.take(sampler)\n",
    "draws"
   ]
  },
  {
   "cell_type": "markdown",
   "metadata": {},
   "source": [
    "### 7.3.8 표시자/더미변수 (Computing indicator / dummy variables)\n",
    "#### o 용도: 값의 종류에 따라 컬럼을 만들고, 그 값의 존재에 따라 1/0을 설정\n",
    "#### o pandas.get_dummies(data, prefix=None, prefix_sep='_', dummy_na=False, columns=None, sparse=False, drop_first=False)\n",
    "- https://pandas.pydata.org/pandas-docs/stable/generated/pandas.get_dummies.html\n",
    "- Convert categorical variable into dummy/indicator variables\n",
    " - data : array-like, Series, or DataFrame\n",
    " - prefix : string, list of strings, or dict of strings, default None\n",
    "   - String to append DataFrame column names"
   ]
  },
  {
   "cell_type": "code",
   "execution_count": null,
   "metadata": {},
   "outputs": [],
   "source": [
    "df = DataFrame({'key': ['b', 'b', 'a', 'c', 'a', 'b'],\n",
    "                'data1': range(6)})\n",
    "pd.get_dummies(df['key'])"
   ]
  },
  {
   "cell_type": "code",
   "execution_count": null,
   "metadata": {},
   "outputs": [],
   "source": [
    "dummies = pd.get_dummies(df['key'], prefix='key')\n",
    "dummies"
   ]
  },
  {
   "cell_type": "code",
   "execution_count": null,
   "metadata": {},
   "outputs": [],
   "source": [
    "df_with_dummy = df[['data1']].join(dummies)\n",
    "df_with_dummy"
   ]
  },
  {
   "cell_type": "code",
   "execution_count": null,
   "metadata": {
    "scrolled": true
   },
   "outputs": [],
   "source": [
    "mnames = ['movie_id', 'title', 'genres']\n",
    "movies = pd.read_table('ch02/movielens/movies.dat', sep='::', header=None,names=mnames,engine='python')\n",
    "movies[:10]"
   ]
  },
  {
   "cell_type": "code",
   "execution_count": null,
   "metadata": {},
   "outputs": [],
   "source": [
    "#mytitle=movies.title.replace(')','')\n",
    "#mytitle[:10]\n",
    "title_iter = {}\n",
    "set.add((x.split('(')[-1]) for x in movies.title[:3]))\n",
    "titles = sorted(set.unititle))[-1]\n",
    "tite[-1s"
   ]
  },
  {
   "cell_type": "markdown",
   "metadata": {},
   "source": [
    "#### o str.split(str=\"\", num=string.count(str))\n",
    "- https://www.tutorialspoint.com/python/string_split.htm\n",
    "- returns a list of all the words in the string, using parameter str as the separator"
   ]
  },
  {
   "cell_type": "code",
   "execution_count": null,
   "metadata": {},
   "outputs": [],
   "source": [
    "genre_iter = (set(x.split('|')) for x in movies.genres)\n",
    "genres = sorted(set.union(*genre_iter))\n",
    "genres"
   ]
  },
  {
   "cell_type": "code",
   "execution_count": null,
   "metadata": {},
   "outputs": [],
   "source": [
    "dummies = DataFrame(np.zeros((len(movies), len(genres))), columns=genres)\n",
    "dummies"
   ]
  },
  {
   "cell_type": "code",
   "execution_count": null,
   "metadata": {},
   "outputs": [],
   "source": [
    "#확인: movies.genres\n",
    "# movies.genres[1].split('|')\n",
    "for i, gen in enumerate(movies.genres):\n",
    "    dummies.ix[i, gen.split('|')] = 1\n",
    "# 결과 확인\n",
    "dummies\n",
    "# dummies.add_prefix('Genre_')"
   ]
  },
  {
   "cell_type": "code",
   "execution_count": null,
   "metadata": {
    "scrolled": true
   },
   "outputs": [],
   "source": [
    "movies_windic = movies.join(dummies.add_prefix('Genre_'))\n",
    "movies_windic.ix[0]"
   ]
  },
  {
   "cell_type": "markdown",
   "metadata": {},
   "source": [
    "#### o 통계에 활용: pd.cut()과 get_dummies() 이용한 통계 데이터 활용"
   ]
  },
  {
   "cell_type": "code",
   "execution_count": null,
   "metadata": {},
   "outputs": [],
   "source": [
    "np.random.seed(12345)"
   ]
  },
  {
   "cell_type": "code",
   "execution_count": null,
   "metadata": {},
   "outputs": [],
   "source": [
    "values = np.random.rand(10)\n",
    "values"
   ]
  },
  {
   "cell_type": "code",
   "execution_count": null,
   "metadata": {},
   "outputs": [],
   "source": [
    "bins = [0, 0.2, 0.4, 0.6, 0.8, 1]\n",
    "pd.get_dummies(pd.cut(values, bins))"
   ]
  },
  {
   "cell_type": "markdown",
   "metadata": {},
   "source": [
    "## 7.4 String manipulation\n",
    "#### o 텍스트 연산의 대부분은 문자열 객체의 내장함수를 이용해 처리 가능\n",
    "#### o 보다 복잡한 패턴매칭은 정규식(regular expression)활용 - pandas는 배열에 RE 적용 가능"
   ]
  },
  {
   "cell_type": "markdown",
   "metadata": {},
   "source": [
    "### 7.4.1 String object methods\n",
    "- https://docs.python.org/2.7/library/string.html#string-functions\n",
    "- https://www.programiz.com/python-programming/methods/string"
   ]
  },
  {
   "cell_type": "code",
   "execution_count": null,
   "metadata": {},
   "outputs": [],
   "source": [
    "val = 'a,b,  guido'\n",
    "val.split(',')"
   ]
  },
  {
   "cell_type": "code",
   "execution_count": null,
   "metadata": {},
   "outputs": [],
   "source": [
    "pieces = [x.strip() for x in val.split(',')]\n",
    "pieces"
   ]
  },
  {
   "cell_type": "code",
   "execution_count": null,
   "metadata": {},
   "outputs": [],
   "source": [
    "first, second, third = pieces\n",
    "first + '::' + second + '::' + third"
   ]
  },
  {
   "cell_type": "code",
   "execution_count": null,
   "metadata": {},
   "outputs": [],
   "source": [
    "'::'.join(pieces)"
   ]
  },
  {
   "cell_type": "code",
   "execution_count": null,
   "metadata": {},
   "outputs": [],
   "source": [
    "'guido' in val"
   ]
  },
  {
   "cell_type": "code",
   "execution_count": null,
   "metadata": {},
   "outputs": [],
   "source": [
    "val.index(',')"
   ]
  },
  {
   "cell_type": "code",
   "execution_count": null,
   "metadata": {},
   "outputs": [],
   "source": [
    "#string.find(): 없을 경우 -1 return\n",
    "val.find(':')"
   ]
  },
  {
   "cell_type": "code",
   "execution_count": null,
   "metadata": {},
   "outputs": [],
   "source": [
    "#string.index(): 없을 경우 에러 발생\n",
    "val.index(':')"
   ]
  },
  {
   "cell_type": "code",
   "execution_count": null,
   "metadata": {},
   "outputs": [],
   "source": [
    "val.count(',')"
   ]
  },
  {
   "cell_type": "code",
   "execution_count": null,
   "metadata": {},
   "outputs": [],
   "source": [
    "val.replace(',', '::')"
   ]
  },
  {
   "cell_type": "code",
   "execution_count": null,
   "metadata": {},
   "outputs": [],
   "source": [
    "val.replace(',', '')"
   ]
  },
  {
   "cell_type": "markdown",
   "metadata": {},
   "source": [
    "### 7.4.2 Regular expressions\n",
    "#### o 파이썬에서는 re 모듈이 내장\n",
    "- 학습: \n",
    " - http://highcode.tistory.com/6\n",
    " - http://www.nextree.co.kr/p4327/\n",
    "- 참고\n",
    " - \"RegEx Learn the Hard way\"는 유료화 \n",
    " - https://docs.python.org/3/library/re.html "
   ]
  },
  {
   "cell_type": "code",
   "execution_count": 34,
   "metadata": {},
   "outputs": [
    {
     "data": {
      "text/plain": [
       "['foo', 'bar', 'baz', 'qux']"
      ]
     },
     "execution_count": 34,
     "metadata": {},
     "output_type": "execute_result"
    }
   ],
   "source": [
    "import re\n",
    "text = \"foo    bar\\t baz  \\tqux\"\n",
    "re.split('\\s+', text)"
   ]
  },
  {
   "cell_type": "markdown",
   "metadata": {},
   "source": [
    "- re.compile() 결과를 활용하는 것이, computing power 소모 감소 "
   ]
  },
  {
   "cell_type": "code",
   "execution_count": null,
   "metadata": {},
   "outputs": [],
   "source": [
    "regex = re.compile('\\s+')\n",
    "regex.split(text)"
   ]
  },
  {
   "cell_type": "markdown",
   "metadata": {},
   "source": [
    "#### o Regular Expression Objects\n",
    "- https://docs.python.org/3/library/re.html#regex-objects   - 6.2.3. Regular Expression Objects\n",
    "- regex.findall(string[, pos[, endpos]])\n",
    "  - 매치되는 모든 문자열을 찾아 줌.\n",
    "  - Similar to the findall() function, using the compiled pattern, but also accepts optional pos and endpos parameters that limit the search region like for search()  \n",
    "- regex.search(string[, pos[, endpos]])\n",
    " - 매치되는 첫번째 문자열을 찾아줌\n",
    " - pos: 매칭을 시작하는 문자열위치(0을 시작기준으로), endpoos: 매칭종료하는 문자열위치\n",
    "- regex.match(string[, pos[, endpos]])\n",
    " - 시작되는 부분에서 매치되는 첫번째 문자열을 찾아줌"
   ]
  },
  {
   "cell_type": "code",
   "execution_count": null,
   "metadata": {},
   "outputs": [],
   "source": [
    "regex.findall(text)"
   ]
  },
  {
   "cell_type": "code",
   "execution_count": 69,
   "metadata": {},
   "outputs": [],
   "source": [
    "text = \"\"\"Dave dave@google.com\n",
    "Steve lala+@google.com\n",
    "Rob hello@kpu.ac.kr\n",
    "Ryan ryan_james@yahoo.com\n",
    "Nadal nadal%tennis@yahoo.com\n",
    "Federa federa@main.tennis.yahoo.spain.sp\n",
    "\"\"\"\n",
    "pattern= '[A-Z0-9._%+-]+@[A-Z0-9.-]+\\.[A-Z]{3,4}'\n",
    "\n",
    "# re.IGNORECASE makes the regex case-insensitive\n",
    "regex = re.compile(pattern, flags=re.IGNORECASE)"
   ]
  },
  {
   "cell_type": "code",
   "execution_count": 70,
   "metadata": {},
   "outputs": [
    {
     "data": {
      "text/plain": [
       "['dave@google.com',\n",
       " 'lala+@google.com',\n",
       " 'ryan_james@yahoo.com',\n",
       " 'nadal%tennis@yahoo.com',\n",
       " 'federa@main.tennis.yahoo.spai']"
      ]
     },
     "execution_count": 70,
     "metadata": {},
     "output_type": "execute_result"
    }
   ],
   "source": [
    "regex.findall(text)"
   ]
  },
  {
   "cell_type": "code",
   "execution_count": null,
   "metadata": {},
   "outputs": [],
   "source": [
    "m = regex.search(text)\n",
    "m"
   ]
  },
  {
   "cell_type": "code",
   "execution_count": null,
   "metadata": {},
   "outputs": [],
   "source": [
    "text[m.start():m.end()]"
   ]
  },
  {
   "cell_type": "code",
   "execution_count": 44,
   "metadata": {},
   "outputs": [
    {
     "name": "stdout",
     "output_type": "stream",
     "text": [
      "None\n"
     ]
    }
   ],
   "source": [
    "regex.match(text)\n",
    "print(regex.match(text))"
   ]
  },
  {
   "cell_type": "code",
   "execution_count": null,
   "metadata": {},
   "outputs": [],
   "source": [
    "print(regex.sub('REDACTED', text))"
   ]
  },
  {
   "cell_type": "code",
   "execution_count": 39,
   "metadata": {},
   "outputs": [],
   "source": [
    "pattern = r'([A-Z0-9._%+-]+)@([A-Z0-9.-]+)\\.([A-Z]{2,4})'\n",
    "regex = re.compile(pattern, flags=re.IGNORECASE)"
   ]
  },
  {
   "cell_type": "code",
   "execution_count": 40,
   "metadata": {},
   "outputs": [
    {
     "data": {
      "text/plain": [
       "('wesm', 'bright', 'net')"
      ]
     },
     "execution_count": 40,
     "metadata": {},
     "output_type": "execute_result"
    }
   ],
   "source": [
    "# 위 URL (https://docs.python.org/3/library/re.html#regex-objects )의 \n",
    "# 6.2.4. Match Objects 참고 \n",
    "m = regex.match('wesm@bright.net')\n",
    "m.groups()"
   ]
  },
  {
   "cell_type": "code",
   "execution_count": 41,
   "metadata": {},
   "outputs": [
    {
     "data": {
      "text/plain": [
       "[('dave', 'google', 'com'),\n",
       " ('steve', 'gmail', 'com'),\n",
       " ('rob', 'gmail', 'com'),\n",
       " ('ryan', 'yahoo', 'com')]"
      ]
     },
     "execution_count": 41,
     "metadata": {},
     "output_type": "execute_result"
    }
   ],
   "source": [
    "regex.findall(text)"
   ]
  },
  {
   "cell_type": "code",
   "execution_count": 42,
   "metadata": {},
   "outputs": [
    {
     "name": "stdout",
     "output_type": "stream",
     "text": [
      "Dave Username: dave, Domain: google, Suffix: com\n",
      "Steve Username: steve, Domain: gmail, Suffix: com\n",
      "Rob Username: rob, Domain: gmail, Suffix: com\n",
      "Ryan Username: ryan, Domain: yahoo, Suffix: com\n",
      "\n"
     ]
    }
   ],
   "source": [
    "# \\1 \\2 \\3 print문과 같이 text를 활용:\n",
    "print(regex.sub(r'Username: \\1, Domain: \\2, Suffix: \\3', text))"
   ]
  },
  {
   "cell_type": "code",
   "execution_count": 26,
   "metadata": {},
   "outputs": [
    {
     "ename": "NameError",
     "evalue": "name 're' is not defined",
     "output_type": "error",
     "traceback": [
      "\u001b[1;31m---------------------------------------------------------------------------\u001b[0m",
      "\u001b[1;31mNameError\u001b[0m                                 Traceback (most recent call last)",
      "\u001b[1;32m<ipython-input-26-7bc114881c31>\u001b[0m in \u001b[0;36m<module>\u001b[1;34m()\u001b[0m\n\u001b[1;32m----> 1\u001b[1;33m regex = re.compile(r\"\"\"\n\u001b[0m\u001b[0;32m      2\u001b[0m     \u001b[1;33m(\u001b[0m\u001b[0;31m?\u001b[0m\u001b[0mP\u001b[0m\u001b[1;33m<\u001b[0m\u001b[0musername\u001b[0m\u001b[1;33m>\u001b[0m\u001b[1;33m[\u001b[0m\u001b[0mA\u001b[0m\u001b[1;33m-\u001b[0m\u001b[0mZ0\u001b[0m\u001b[1;33m-\u001b[0m\u001b[1;36m9.\u001b[0m\u001b[0m_\u001b[0m\u001b[1;33m%\u001b[0m\u001b[1;33m+\u001b[0m\u001b[1;33m-\u001b[0m\u001b[1;33m]\u001b[0m\u001b[1;33m+\u001b[0m\u001b[1;33m)\u001b[0m\u001b[1;33m\u001b[0m\u001b[0m\n\u001b[0;32m      3\u001b[0m     \u001b[1;33m@\u001b[0m\u001b[1;33m\u001b[0m\u001b[0m\n\u001b[0;32m      4\u001b[0m     \u001b[1;33m(\u001b[0m\u001b[0;31m?\u001b[0m\u001b[0mP\u001b[0m\u001b[1;33m<\u001b[0m\u001b[0mdomain\u001b[0m\u001b[1;33m>\u001b[0m\u001b[1;33m[\u001b[0m\u001b[0mA\u001b[0m\u001b[1;33m-\u001b[0m\u001b[0mZ0\u001b[0m\u001b[1;33m-\u001b[0m\u001b[1;36m9.\u001b[0m\u001b[1;33m-\u001b[0m\u001b[1;33m]\u001b[0m\u001b[1;33m+\u001b[0m\u001b[1;33m)\u001b[0m\u001b[1;33m\u001b[0m\u001b[0m\n\u001b[0;32m      5\u001b[0m     \u001b[0;31m\\\u001b[0m\u001b[1;33m.\u001b[0m\u001b[1;33m\u001b[0m\u001b[0m\n",
      "\u001b[1;31mNameError\u001b[0m: name 're' is not defined"
     ]
    }
   ],
   "source": [
    "regex = re.compile(r\"\"\"\n",
    "    (?P<username>[A-Z0-9._%+-]+)\n",
    "    @\n",
    "    (?P<domain>[A-Z0-9.-]+)\n",
    "    \\.\n",
    "    (?P<suffix>[A-Z]{2,4})\"\"\", flags=re.IGNORECASE|re.VERBOSE)"
   ]
  },
  {
   "cell_type": "code",
   "execution_count": null,
   "metadata": {},
   "outputs": [],
   "source": [
    "m = regex.match('wesm@bright.net')\n",
    "m.groupdict()"
   ]
  },
  {
   "cell_type": "markdown",
   "metadata": {},
   "source": [
    "### 7.4.3 Vectorized string functions in pandas"
   ]
  },
  {
   "cell_type": "code",
   "execution_count": 34,
   "metadata": {},
   "outputs": [],
   "source": [
    "data = {'Dave': 'dave@google.com', 'Steve': 'steve@gmail.com',\n",
    "        'Rob': 'rob@gmail.com', 'Wes': np.nan}\n",
    "data = Series(data)"
   ]
  },
  {
   "cell_type": "code",
   "execution_count": 35,
   "metadata": {},
   "outputs": [
    {
     "data": {
      "text/plain": [
       "Dave     dave@google.com\n",
       "Rob        rob@gmail.com\n",
       "Steve    steve@gmail.com\n",
       "Wes                  NaN\n",
       "dtype: object"
      ]
     },
     "execution_count": 35,
     "metadata": {},
     "output_type": "execute_result"
    }
   ],
   "source": [
    "data"
   ]
  },
  {
   "cell_type": "code",
   "execution_count": 36,
   "metadata": {},
   "outputs": [
    {
     "data": {
      "text/plain": [
       "Dave     False\n",
       "Rob      False\n",
       "Steve    False\n",
       "Wes       True\n",
       "dtype: bool"
      ]
     },
     "execution_count": 36,
     "metadata": {},
     "output_type": "execute_result"
    }
   ],
   "source": [
    "data.isnull()"
   ]
  },
  {
   "cell_type": "code",
   "execution_count": 37,
   "metadata": {},
   "outputs": [
    {
     "data": {
      "text/plain": [
       "Dave     False\n",
       "Rob       True\n",
       "Steve     True\n",
       "Wes        NaN\n",
       "dtype: object"
      ]
     },
     "execution_count": 37,
     "metadata": {},
     "output_type": "execute_result"
    }
   ],
   "source": [
    "data.str.contains('gmail')"
   ]
  },
  {
   "cell_type": "code",
   "execution_count": 39,
   "metadata": {},
   "outputs": [
    {
     "ename": "NameError",
     "evalue": "name 'pattern' is not defined",
     "output_type": "error",
     "traceback": [
      "\u001b[1;31m---------------------------------------------------------------------------\u001b[0m",
      "\u001b[1;31mNameError\u001b[0m                                 Traceback (most recent call last)",
      "\u001b[1;32m<ipython-input-39-477597b368b5>\u001b[0m in \u001b[0;36m<module>\u001b[1;34m()\u001b[0m\n\u001b[1;32m----> 1\u001b[1;33m \u001b[0mpattern\u001b[0m\u001b[1;33m\u001b[0m\u001b[0m\n\u001b[0m",
      "\u001b[1;31mNameError\u001b[0m: name 'pattern' is not defined"
     ]
    }
   ],
   "source": [
    "pattern"
   ]
  },
  {
   "cell_type": "code",
   "execution_count": 584,
   "metadata": {},
   "outputs": [
    {
     "data": {
      "text/plain": [
       "Dave     [(dave, google, com)]\n",
       "Rob        [(rob, gmail, com)]\n",
       "Steve    [(steve, gmail, com)]\n",
       "Wes                        NaN\n",
       "dtype: object"
      ]
     },
     "execution_count": 584,
     "metadata": {},
     "output_type": "execute_result"
    }
   ],
   "source": [
    "data.str.findall(pattern, flags=re.IGNORECASE)"
   ]
  },
  {
   "cell_type": "code",
   "execution_count": 587,
   "metadata": {},
   "outputs": [
    {
     "data": {
      "text/plain": [
       "Dave     True\n",
       "Rob      True\n",
       "Steve    True\n",
       "Wes       NaN\n",
       "dtype: object"
      ]
     },
     "execution_count": 587,
     "metadata": {},
     "output_type": "execute_result"
    }
   ],
   "source": [
    "matches = data.str.match(pattern, flags=re.IGNORECASE)\n",
    "matches"
   ]
  },
  {
   "cell_type": "code",
   "execution_count": 588,
   "metadata": {},
   "outputs": [
    {
     "data": {
      "text/plain": [
       "Dave    NaN\n",
       "Rob     NaN\n",
       "Steve   NaN\n",
       "Wes     NaN\n",
       "dtype: float64"
      ]
     },
     "execution_count": 588,
     "metadata": {},
     "output_type": "execute_result"
    }
   ],
   "source": [
    "matches.str.get(1)"
   ]
  },
  {
   "cell_type": "code",
   "execution_count": 589,
   "metadata": {},
   "outputs": [
    {
     "data": {
      "text/plain": [
       "Dave    NaN\n",
       "Rob     NaN\n",
       "Steve   NaN\n",
       "Wes     NaN\n",
       "dtype: float64"
      ]
     },
     "execution_count": 589,
     "metadata": {},
     "output_type": "execute_result"
    }
   ],
   "source": [
    "matches.str[0]"
   ]
  },
  {
   "cell_type": "code",
   "execution_count": 591,
   "metadata": {},
   "outputs": [
    {
     "data": {
      "text/plain": [
       "Dave     dave@\n",
       "Rob      rob@g\n",
       "Steve    steve\n",
       "Wes        NaN\n",
       "dtype: object"
      ]
     },
     "execution_count": 591,
     "metadata": {},
     "output_type": "execute_result"
    }
   ],
   "source": [
    "data.str[:5]"
   ]
  },
  {
   "cell_type": "markdown",
   "metadata": {},
   "source": [
    "## 7.5 HomeWork: Example: USDA Food Database\n",
    "#### o 교재의 내용실행과 더불어 2개 이상의 다른 분석구조를 갖는 분석값을 제시하시오.\n",
    "- 제출형태: jupyter notebook\n",
    "- 포함내용: 분석내용에 대한 설명\n",
    "- Due: 5/15(화) 자정"
   ]
  },
  {
   "cell_type": "raw",
   "metadata": {},
   "source": [
    "{\n",
    "  \"id\": 21441,\n",
    "  \"description\": \"KENTUCKY FRIED CHICKEN, Fried Chicken, EXTRA CRISPY,\n",
    "Wing, meat and skin with breading\",\n",
    "  \"tags\": [\"KFC\"],\n",
    "  \"manufacturer\": \"Kentucky Fried Chicken\",\n",
    "  \"group\": \"Fast Foods\",\n",
    "  \"portions\": [\n",
    "    {\n",
    "      \"amount\": 1,\n",
    "      \"unit\": \"wing, with skin\",\n",
    "      \"grams\": 68.0\n",
    "    },\n",
    "\n",
    "    ...\n",
    "  ],\n",
    "  \"nutrients\": [\n",
    "    {\n",
    "      \"value\": 20.8,\n",
    "      \"units\": \"g\",\n",
    "      \"description\": \"Protein\",\n",
    "      \"group\": \"Composition\"\n",
    "    },\n",
    "\n",
    "    ...\n",
    "  ]\n",
    "}"
   ]
  },
  {
   "cell_type": "code",
   "execution_count": 16,
   "metadata": {},
   "outputs": [
    {
     "data": {
      "text/plain": [
       "6636"
      ]
     },
     "execution_count": 16,
     "metadata": {},
     "output_type": "execute_result"
    }
   ],
   "source": [
    "import json\n",
    "db = json.load(open('ch07/foods-2011-10-03.json'))\n",
    "len(db)"
   ]
  },
  {
   "cell_type": "code",
   "execution_count": 17,
   "metadata": {},
   "outputs": [
    {
     "data": {
      "text/plain": [
       "[u'portions',\n",
       " u'description',\n",
       " u'tags',\n",
       " u'nutrients',\n",
       " u'group',\n",
       " u'id',\n",
       " u'manufacturer']"
      ]
     },
     "execution_count": 17,
     "metadata": {},
     "output_type": "execute_result"
    }
   ],
   "source": [
    "db[0].keys()"
   ]
  },
  {
   "cell_type": "code",
   "execution_count": 18,
   "metadata": {},
   "outputs": [
    {
     "data": {
      "text/plain": [
       "{u'description': u'Protein',\n",
       " u'group': u'Composition',\n",
       " u'units': u'g',\n",
       " u'value': 25.18}"
      ]
     },
     "execution_count": 18,
     "metadata": {},
     "output_type": "execute_result"
    }
   ],
   "source": [
    "db[0]['nutrients'][0]"
   ]
  },
  {
   "cell_type": "code",
   "execution_count": 19,
   "metadata": {},
   "outputs": [
    {
     "data": {
      "text/html": [
       "<div>\n",
       "<style scoped>\n",
       "    .dataframe tbody tr th:only-of-type {\n",
       "        vertical-align: middle;\n",
       "    }\n",
       "\n",
       "    .dataframe tbody tr th {\n",
       "        vertical-align: top;\n",
       "    }\n",
       "\n",
       "    .dataframe thead th {\n",
       "        text-align: right;\n",
       "    }\n",
       "</style>\n",
       "<table border=\"1\" class=\"dataframe\">\n",
       "  <thead>\n",
       "    <tr style=\"text-align: right;\">\n",
       "      <th></th>\n",
       "      <th>description</th>\n",
       "      <th>group</th>\n",
       "      <th>units</th>\n",
       "      <th>value</th>\n",
       "    </tr>\n",
       "  </thead>\n",
       "  <tbody>\n",
       "    <tr>\n",
       "      <th>0</th>\n",
       "      <td>Protein</td>\n",
       "      <td>Composition</td>\n",
       "      <td>g</td>\n",
       "      <td>25.18</td>\n",
       "    </tr>\n",
       "    <tr>\n",
       "      <th>1</th>\n",
       "      <td>Total lipid (fat)</td>\n",
       "      <td>Composition</td>\n",
       "      <td>g</td>\n",
       "      <td>29.20</td>\n",
       "    </tr>\n",
       "    <tr>\n",
       "      <th>2</th>\n",
       "      <td>Carbohydrate, by difference</td>\n",
       "      <td>Composition</td>\n",
       "      <td>g</td>\n",
       "      <td>3.06</td>\n",
       "    </tr>\n",
       "    <tr>\n",
       "      <th>3</th>\n",
       "      <td>Ash</td>\n",
       "      <td>Other</td>\n",
       "      <td>g</td>\n",
       "      <td>3.28</td>\n",
       "    </tr>\n",
       "    <tr>\n",
       "      <th>4</th>\n",
       "      <td>Energy</td>\n",
       "      <td>Energy</td>\n",
       "      <td>kcal</td>\n",
       "      <td>376.00</td>\n",
       "    </tr>\n",
       "    <tr>\n",
       "      <th>5</th>\n",
       "      <td>Water</td>\n",
       "      <td>Composition</td>\n",
       "      <td>g</td>\n",
       "      <td>39.28</td>\n",
       "    </tr>\n",
       "    <tr>\n",
       "      <th>6</th>\n",
       "      <td>Energy</td>\n",
       "      <td>Energy</td>\n",
       "      <td>kJ</td>\n",
       "      <td>1573.00</td>\n",
       "    </tr>\n",
       "  </tbody>\n",
       "</table>\n",
       "</div>"
      ],
      "text/plain": [
       "                   description        group units    value\n",
       "0                      Protein  Composition     g    25.18\n",
       "1            Total lipid (fat)  Composition     g    29.20\n",
       "2  Carbohydrate, by difference  Composition     g     3.06\n",
       "3                          Ash        Other     g     3.28\n",
       "4                       Energy       Energy  kcal   376.00\n",
       "5                        Water  Composition     g    39.28\n",
       "6                       Energy       Energy    kJ  1573.00"
      ]
     },
     "execution_count": 19,
     "metadata": {},
     "output_type": "execute_result"
    }
   ],
   "source": [
    "nutrients = DataFrame(db[0]['nutrients'])\n",
    "nutrients[:7]"
   ]
  },
  {
   "cell_type": "code",
   "execution_count": 20,
   "metadata": {},
   "outputs": [],
   "source": [
    "info_keys = ['description', 'group', 'id', 'manufacturer']\n",
    "info = DataFrame(db, columns=info_keys)"
   ]
  },
  {
   "cell_type": "code",
   "execution_count": 30,
   "metadata": {
    "scrolled": true
   },
   "outputs": [
    {
     "data": {
      "text/html": [
       "<div>\n",
       "<style scoped>\n",
       "    .dataframe tbody tr th:only-of-type {\n",
       "        vertical-align: middle;\n",
       "    }\n",
       "\n",
       "    .dataframe tbody tr th {\n",
       "        vertical-align: top;\n",
       "    }\n",
       "\n",
       "    .dataframe thead th {\n",
       "        text-align: right;\n",
       "    }\n",
       "</style>\n",
       "<table border=\"1\" class=\"dataframe\">\n",
       "  <thead>\n",
       "    <tr style=\"text-align: right;\">\n",
       "      <th></th>\n",
       "      <th>description</th>\n",
       "      <th>group</th>\n",
       "      <th>id</th>\n",
       "      <th>manufacturer</th>\n",
       "    </tr>\n",
       "  </thead>\n",
       "  <tbody>\n",
       "    <tr>\n",
       "      <th>0</th>\n",
       "      <td>Cheese, caraway</td>\n",
       "      <td>Dairy and Egg Products</td>\n",
       "      <td>1008</td>\n",
       "      <td></td>\n",
       "    </tr>\n",
       "    <tr>\n",
       "      <th>1</th>\n",
       "      <td>Cheese, cheddar</td>\n",
       "      <td>Dairy and Egg Products</td>\n",
       "      <td>1009</td>\n",
       "      <td></td>\n",
       "    </tr>\n",
       "    <tr>\n",
       "      <th>2</th>\n",
       "      <td>Cheese, edam</td>\n",
       "      <td>Dairy and Egg Products</td>\n",
       "      <td>1018</td>\n",
       "      <td></td>\n",
       "    </tr>\n",
       "    <tr>\n",
       "      <th>3</th>\n",
       "      <td>Cheese, feta</td>\n",
       "      <td>Dairy and Egg Products</td>\n",
       "      <td>1019</td>\n",
       "      <td></td>\n",
       "    </tr>\n",
       "    <tr>\n",
       "      <th>4</th>\n",
       "      <td>Cheese, mozzarella, part skim milk</td>\n",
       "      <td>Dairy and Egg Products</td>\n",
       "      <td>1028</td>\n",
       "      <td></td>\n",
       "    </tr>\n",
       "  </tbody>\n",
       "</table>\n",
       "</div>"
      ],
      "text/plain": [
       "                          description                   group    id  \\\n",
       "0                     Cheese, caraway  Dairy and Egg Products  1008   \n",
       "1                     Cheese, cheddar  Dairy and Egg Products  1009   \n",
       "2                        Cheese, edam  Dairy and Egg Products  1018   \n",
       "3                        Cheese, feta  Dairy and Egg Products  1019   \n",
       "4  Cheese, mozzarella, part skim milk  Dairy and Egg Products  1028   \n",
       "\n",
       "  manufacturer  \n",
       "0               \n",
       "1               \n",
       "2               \n",
       "3               \n",
       "4               "
      ]
     },
     "execution_count": 30,
     "metadata": {},
     "output_type": "execute_result"
    }
   ],
   "source": [
    "info[:5]"
   ]
  },
  {
   "cell_type": "code",
   "execution_count": 31,
   "metadata": {},
   "outputs": [
    {
     "data": {
      "text/html": [
       "<div>\n",
       "<style scoped>\n",
       "    .dataframe tbody tr th:only-of-type {\n",
       "        vertical-align: middle;\n",
       "    }\n",
       "\n",
       "    .dataframe tbody tr th {\n",
       "        vertical-align: top;\n",
       "    }\n",
       "\n",
       "    .dataframe thead th {\n",
       "        text-align: right;\n",
       "    }\n",
       "</style>\n",
       "<table border=\"1\" class=\"dataframe\">\n",
       "  <thead>\n",
       "    <tr style=\"text-align: right;\">\n",
       "      <th></th>\n",
       "      <th>description</th>\n",
       "      <th>group</th>\n",
       "      <th>id</th>\n",
       "      <th>manufacturer</th>\n",
       "    </tr>\n",
       "  </thead>\n",
       "  <tbody>\n",
       "    <tr>\n",
       "      <th>0</th>\n",
       "      <td>Cheese, caraway</td>\n",
       "      <td>Dairy and Egg Products</td>\n",
       "      <td>1008</td>\n",
       "      <td></td>\n",
       "    </tr>\n",
       "    <tr>\n",
       "      <th>1</th>\n",
       "      <td>Cheese, cheddar</td>\n",
       "      <td>Dairy and Egg Products</td>\n",
       "      <td>1009</td>\n",
       "      <td></td>\n",
       "    </tr>\n",
       "    <tr>\n",
       "      <th>2</th>\n",
       "      <td>Cheese, edam</td>\n",
       "      <td>Dairy and Egg Products</td>\n",
       "      <td>1018</td>\n",
       "      <td></td>\n",
       "    </tr>\n",
       "    <tr>\n",
       "      <th>3</th>\n",
       "      <td>Cheese, feta</td>\n",
       "      <td>Dairy and Egg Products</td>\n",
       "      <td>1019</td>\n",
       "      <td></td>\n",
       "    </tr>\n",
       "    <tr>\n",
       "      <th>4</th>\n",
       "      <td>Cheese, mozzarella, part skim milk</td>\n",
       "      <td>Dairy and Egg Products</td>\n",
       "      <td>1028</td>\n",
       "      <td></td>\n",
       "    </tr>\n",
       "    <tr>\n",
       "      <th>5</th>\n",
       "      <td>Cheese, mozzarella, part skim milk, low moisture</td>\n",
       "      <td>Dairy and Egg Products</td>\n",
       "      <td>1029</td>\n",
       "      <td></td>\n",
       "    </tr>\n",
       "    <tr>\n",
       "      <th>6</th>\n",
       "      <td>Cheese, romano</td>\n",
       "      <td>Dairy and Egg Products</td>\n",
       "      <td>1038</td>\n",
       "      <td></td>\n",
       "    </tr>\n",
       "    <tr>\n",
       "      <th>7</th>\n",
       "      <td>Cheese, roquefort</td>\n",
       "      <td>Dairy and Egg Products</td>\n",
       "      <td>1039</td>\n",
       "      <td></td>\n",
       "    </tr>\n",
       "    <tr>\n",
       "      <th>8</th>\n",
       "      <td>Cheese spread, pasteurized process, american, ...</td>\n",
       "      <td>Dairy and Egg Products</td>\n",
       "      <td>1048</td>\n",
       "      <td></td>\n",
       "    </tr>\n",
       "    <tr>\n",
       "      <th>9</th>\n",
       "      <td>Cream, fluid, half and half</td>\n",
       "      <td>Dairy and Egg Products</td>\n",
       "      <td>1049</td>\n",
       "      <td></td>\n",
       "    </tr>\n",
       "    <tr>\n",
       "      <th>10</th>\n",
       "      <td>Sour dressing, non-butterfat, cultured, filled...</td>\n",
       "      <td>Dairy and Egg Products</td>\n",
       "      <td>1058</td>\n",
       "      <td></td>\n",
       "    </tr>\n",
       "    <tr>\n",
       "      <th>11</th>\n",
       "      <td>Milk, filled, fluid, with blend of hydrogenate...</td>\n",
       "      <td>Dairy and Egg Products</td>\n",
       "      <td>1059</td>\n",
       "      <td></td>\n",
       "    </tr>\n",
       "    <tr>\n",
       "      <th>12</th>\n",
       "      <td>Cream substitute, liquid, with lauric acid oil...</td>\n",
       "      <td>Dairy and Egg Products</td>\n",
       "      <td>1068</td>\n",
       "      <td></td>\n",
       "    </tr>\n",
       "    <tr>\n",
       "      <th>13</th>\n",
       "      <td>Cream substitute, powdered</td>\n",
       "      <td>Dairy and Egg Products</td>\n",
       "      <td>1069</td>\n",
       "      <td></td>\n",
       "    </tr>\n",
       "    <tr>\n",
       "      <th>14</th>\n",
       "      <td>Milk, producer, fluid, 3.7% milkfat</td>\n",
       "      <td>Dairy and Egg Products</td>\n",
       "      <td>1078</td>\n",
       "      <td></td>\n",
       "    </tr>\n",
       "    <tr>\n",
       "      <th>15</th>\n",
       "      <td>Milk, reduced fat, fluid, 2% milkfat, with add...</td>\n",
       "      <td>Dairy and Egg Products</td>\n",
       "      <td>1079</td>\n",
       "      <td>None</td>\n",
       "    </tr>\n",
       "    <tr>\n",
       "      <th>16</th>\n",
       "      <td>Milk, reduced fat, fluid, 2% milkfat, with add...</td>\n",
       "      <td>Dairy and Egg Products</td>\n",
       "      <td>1080</td>\n",
       "      <td></td>\n",
       "    </tr>\n",
       "    <tr>\n",
       "      <th>17</th>\n",
       "      <td>Milk, reduced fat, fluid, 2% milkfat, protein ...</td>\n",
       "      <td>Dairy and Egg Products</td>\n",
       "      <td>1081</td>\n",
       "      <td></td>\n",
       "    </tr>\n",
       "    <tr>\n",
       "      <th>18</th>\n",
       "      <td>Milk, lowfat, fluid, 1% milkfat, with added vi...</td>\n",
       "      <td>Dairy and Egg Products</td>\n",
       "      <td>1082</td>\n",
       "      <td></td>\n",
       "    </tr>\n",
       "    <tr>\n",
       "      <th>19</th>\n",
       "      <td>Milk, lowfat, fluid, 1% milkfat, with added no...</td>\n",
       "      <td>Dairy and Egg Products</td>\n",
       "      <td>1083</td>\n",
       "      <td></td>\n",
       "    </tr>\n",
       "    <tr>\n",
       "      <th>20</th>\n",
       "      <td>Milk, lowfat, fluid, 1% milkfat, protein forti...</td>\n",
       "      <td>Dairy and Egg Products</td>\n",
       "      <td>1084</td>\n",
       "      <td></td>\n",
       "    </tr>\n",
       "    <tr>\n",
       "      <th>21</th>\n",
       "      <td>Milk, nonfat, fluid, with added vitamin A and ...</td>\n",
       "      <td>Dairy and Egg Products</td>\n",
       "      <td>1085</td>\n",
       "      <td></td>\n",
       "    </tr>\n",
       "    <tr>\n",
       "      <th>22</th>\n",
       "      <td>Milk, nonfat, fluid, with added nonfat milk so...</td>\n",
       "      <td>Dairy and Egg Products</td>\n",
       "      <td>1086</td>\n",
       "      <td></td>\n",
       "    </tr>\n",
       "    <tr>\n",
       "      <th>23</th>\n",
       "      <td>Milk, nonfat, fluid, protein fortified, with a...</td>\n",
       "      <td>Dairy and Egg Products</td>\n",
       "      <td>1087</td>\n",
       "      <td></td>\n",
       "    </tr>\n",
       "    <tr>\n",
       "      <th>24</th>\n",
       "      <td>Milk, buttermilk, fluid, cultured, lowfat</td>\n",
       "      <td>Dairy and Egg Products</td>\n",
       "      <td>1088</td>\n",
       "      <td></td>\n",
       "    </tr>\n",
       "    <tr>\n",
       "      <th>25</th>\n",
       "      <td>Milk, low sodium, fluid</td>\n",
       "      <td>Dairy and Egg Products</td>\n",
       "      <td>1089</td>\n",
       "      <td></td>\n",
       "    </tr>\n",
       "    <tr>\n",
       "      <th>26</th>\n",
       "      <td>Milk, dry, whole, with added vitamin D</td>\n",
       "      <td>Dairy and Egg Products</td>\n",
       "      <td>1090</td>\n",
       "      <td></td>\n",
       "    </tr>\n",
       "    <tr>\n",
       "      <th>27</th>\n",
       "      <td>Milk, dry, nonfat, regular, without added vita...</td>\n",
       "      <td>Dairy and Egg Products</td>\n",
       "      <td>1091</td>\n",
       "      <td></td>\n",
       "    </tr>\n",
       "    <tr>\n",
       "      <th>28</th>\n",
       "      <td>Milk, dry, nonfat, instant, with added vitamin...</td>\n",
       "      <td>Dairy and Egg Products</td>\n",
       "      <td>1092</td>\n",
       "      <td></td>\n",
       "    </tr>\n",
       "    <tr>\n",
       "      <th>29</th>\n",
       "      <td>Milk, dry, nonfat, calcium reduced</td>\n",
       "      <td>Dairy and Egg Products</td>\n",
       "      <td>1093</td>\n",
       "      <td></td>\n",
       "    </tr>\n",
       "    <tr>\n",
       "      <th>30</th>\n",
       "      <td>Milk, buttermilk, dried</td>\n",
       "      <td>Dairy and Egg Products</td>\n",
       "      <td>1094</td>\n",
       "      <td></td>\n",
       "    </tr>\n",
       "    <tr>\n",
       "      <th>31</th>\n",
       "      <td>Milk, canned, condensed, sweetened</td>\n",
       "      <td>Dairy and Egg Products</td>\n",
       "      <td>1095</td>\n",
       "      <td></td>\n",
       "    </tr>\n",
       "    <tr>\n",
       "      <th>32</th>\n",
       "      <td>Milk, canned, evaporated, with added vitamin D...</td>\n",
       "      <td>Dairy and Egg Products</td>\n",
       "      <td>1096</td>\n",
       "      <td></td>\n",
       "    </tr>\n",
       "    <tr>\n",
       "      <th>33</th>\n",
       "      <td>Milk, canned, evaporated, nonfat, with added v...</td>\n",
       "      <td>Dairy and Egg Products</td>\n",
       "      <td>1097</td>\n",
       "      <td></td>\n",
       "    </tr>\n",
       "    <tr>\n",
       "      <th>34</th>\n",
       "      <td>Milk, indian buffalo, fluid</td>\n",
       "      <td>Dairy and Egg Products</td>\n",
       "      <td>1108</td>\n",
       "      <td></td>\n",
       "    </tr>\n",
       "    <tr>\n",
       "      <th>35</th>\n",
       "      <td>Milk, sheep, fluid</td>\n",
       "      <td>Dairy and Egg Products</td>\n",
       "      <td>1109</td>\n",
       "      <td></td>\n",
       "    </tr>\n",
       "    <tr>\n",
       "      <th>36</th>\n",
       "      <td>Yogurt, plain, skim milk, 13 grams protein per...</td>\n",
       "      <td>Dairy and Egg Products</td>\n",
       "      <td>1118</td>\n",
       "      <td></td>\n",
       "    </tr>\n",
       "    <tr>\n",
       "      <th>37</th>\n",
       "      <td>Yogurt, vanilla, low fat, 11 grams protein per...</td>\n",
       "      <td>Dairy and Egg Products</td>\n",
       "      <td>1119</td>\n",
       "      <td></td>\n",
       "    </tr>\n",
       "    <tr>\n",
       "      <th>38</th>\n",
       "      <td>Egg, whole, cooked, fried</td>\n",
       "      <td>Dairy and Egg Products</td>\n",
       "      <td>1128</td>\n",
       "      <td></td>\n",
       "    </tr>\n",
       "    <tr>\n",
       "      <th>39</th>\n",
       "      <td>Egg, whole, cooked, hard-boiled</td>\n",
       "      <td>Dairy and Egg Products</td>\n",
       "      <td>1129</td>\n",
       "      <td></td>\n",
       "    </tr>\n",
       "    <tr>\n",
       "      <th>40</th>\n",
       "      <td>Egg, duck, whole, fresh, raw</td>\n",
       "      <td>Dairy and Egg Products</td>\n",
       "      <td>1138</td>\n",
       "      <td></td>\n",
       "    </tr>\n",
       "    <tr>\n",
       "      <th>41</th>\n",
       "      <td>Egg, goose, whole, fresh, raw</td>\n",
       "      <td>Dairy and Egg Products</td>\n",
       "      <td>1139</td>\n",
       "      <td></td>\n",
       "    </tr>\n",
       "    <tr>\n",
       "      <th>42</th>\n",
       "      <td>Cheese, pasteurized process, swiss, without di...</td>\n",
       "      <td>Dairy and Egg Products</td>\n",
       "      <td>1148</td>\n",
       "      <td></td>\n",
       "    </tr>\n",
       "    <tr>\n",
       "      <th>43</th>\n",
       "      <td>Cheese food, pasteurized process, american, wi...</td>\n",
       "      <td>Dairy and Egg Products</td>\n",
       "      <td>1149</td>\n",
       "      <td></td>\n",
       "    </tr>\n",
       "    <tr>\n",
       "      <th>44</th>\n",
       "      <td>Cheese, goat, soft type</td>\n",
       "      <td>Dairy and Egg Products</td>\n",
       "      <td>1159</td>\n",
       "      <td></td>\n",
       "    </tr>\n",
       "    <tr>\n",
       "      <th>45</th>\n",
       "      <td>Cheese, low fat, cheddar or colby</td>\n",
       "      <td>Dairy and Egg Products</td>\n",
       "      <td>1168</td>\n",
       "      <td></td>\n",
       "    </tr>\n",
       "    <tr>\n",
       "      <th>46</th>\n",
       "      <td>Cheese, low-sodium, cheddar or colby</td>\n",
       "      <td>Dairy and Egg Products</td>\n",
       "      <td>1169</td>\n",
       "      <td></td>\n",
       "    </tr>\n",
       "    <tr>\n",
       "      <th>47</th>\n",
       "      <td>Sour cream, reduced fat</td>\n",
       "      <td>Dairy and Egg Products</td>\n",
       "      <td>1178</td>\n",
       "      <td>None</td>\n",
       "    </tr>\n",
       "    <tr>\n",
       "      <th>48</th>\n",
       "      <td>Sour cream, light</td>\n",
       "      <td>Dairy and Egg Products</td>\n",
       "      <td>1179</td>\n",
       "      <td>None</td>\n",
       "    </tr>\n",
       "    <tr>\n",
       "      <th>49</th>\n",
       "      <td>Sour cream, fat free</td>\n",
       "      <td>Dairy and Egg Products</td>\n",
       "      <td>1180</td>\n",
       "      <td>None</td>\n",
       "    </tr>\n",
       "    <tr>\n",
       "      <th>...</th>\n",
       "      <td>...</td>\n",
       "      <td>...</td>\n",
       "      <td>...</td>\n",
       "      <td>...</td>\n",
       "    </tr>\n",
       "    <tr>\n",
       "      <th>6586</th>\n",
       "      <td>Beef, tenderloin, steak, separable lean only, ...</td>\n",
       "      <td>Beef Products</td>\n",
       "      <td>23587</td>\n",
       "      <td></td>\n",
       "    </tr>\n",
       "    <tr>\n",
       "      <th>6587</th>\n",
       "      <td>Beef, top sirloin, steak, separable lean only,...</td>\n",
       "      <td>Beef Products</td>\n",
       "      <td>23588</td>\n",
       "      <td></td>\n",
       "    </tr>\n",
       "    <tr>\n",
       "      <th>6588</th>\n",
       "      <td>Beef, short loin, top loin, steak, separable l...</td>\n",
       "      <td>Beef Products</td>\n",
       "      <td>23589</td>\n",
       "      <td></td>\n",
       "    </tr>\n",
       "    <tr>\n",
       "      <th>6589</th>\n",
       "      <td>Beef, round, bottom round , roast, separable l...</td>\n",
       "      <td>Beef Products</td>\n",
       "      <td>23590</td>\n",
       "      <td></td>\n",
       "    </tr>\n",
       "    <tr>\n",
       "      <th>6590</th>\n",
       "      <td>Beef, round, eye of round, roast, separable le...</td>\n",
       "      <td>Beef Products</td>\n",
       "      <td>23591</td>\n",
       "      <td></td>\n",
       "    </tr>\n",
       "    <tr>\n",
       "      <th>6591</th>\n",
       "      <td>Beef, round, top round, steak, separable lean ...</td>\n",
       "      <td>Beef Products</td>\n",
       "      <td>23592</td>\n",
       "      <td></td>\n",
       "    </tr>\n",
       "    <tr>\n",
       "      <th>6592</th>\n",
       "      <td>Beef, round, bottom round, steak, separable le...</td>\n",
       "      <td>Beef Products</td>\n",
       "      <td>23593</td>\n",
       "      <td></td>\n",
       "    </tr>\n",
       "    <tr>\n",
       "      <th>6593</th>\n",
       "      <td>Beef, short loin, top loin, steak, separable l...</td>\n",
       "      <td>Beef Products</td>\n",
       "      <td>23606</td>\n",
       "      <td></td>\n",
       "    </tr>\n",
       "    <tr>\n",
       "      <th>6594</th>\n",
       "      <td>Beef, brisket, flat half, separable lean only,...</td>\n",
       "      <td>Beef Products</td>\n",
       "      <td>23613</td>\n",
       "      <td></td>\n",
       "    </tr>\n",
       "    <tr>\n",
       "      <th>6595</th>\n",
       "      <td>Beef, chuck, arm pot roast, separable lean onl...</td>\n",
       "      <td>Beef Products</td>\n",
       "      <td>23614</td>\n",
       "      <td></td>\n",
       "    </tr>\n",
       "    <tr>\n",
       "      <th>6596</th>\n",
       "      <td>Beef, brisket, flat half, separable lean only,...</td>\n",
       "      <td>Beef Products</td>\n",
       "      <td>23615</td>\n",
       "      <td></td>\n",
       "    </tr>\n",
       "    <tr>\n",
       "      <th>6597</th>\n",
       "      <td>Beef, round, eye of round, roast, separable le...</td>\n",
       "      <td>Beef Products</td>\n",
       "      <td>23616</td>\n",
       "      <td></td>\n",
       "    </tr>\n",
       "    <tr>\n",
       "      <th>6598</th>\n",
       "      <td>Beef, round, top round, steak, separable lean ...</td>\n",
       "      <td>Beef Products</td>\n",
       "      <td>23617</td>\n",
       "      <td></td>\n",
       "    </tr>\n",
       "    <tr>\n",
       "      <th>6599</th>\n",
       "      <td>Beef, round, eye of round, roast, separable le...</td>\n",
       "      <td>Beef Products</td>\n",
       "      <td>23620</td>\n",
       "      <td></td>\n",
       "    </tr>\n",
       "    <tr>\n",
       "      <th>6600</th>\n",
       "      <td>Beef, round, top round, steak, separable lean ...</td>\n",
       "      <td>Beef Products</td>\n",
       "      <td>23621</td>\n",
       "      <td></td>\n",
       "    </tr>\n",
       "    <tr>\n",
       "      <th>6601</th>\n",
       "      <td>Beef, round, bottom round, steak, separable le...</td>\n",
       "      <td>Beef Products</td>\n",
       "      <td>23622</td>\n",
       "      <td></td>\n",
       "    </tr>\n",
       "    <tr>\n",
       "      <th>6602</th>\n",
       "      <td>Beef, tenderloin, steak, separable lean only, ...</td>\n",
       "      <td>Beef Products</td>\n",
       "      <td>23624</td>\n",
       "      <td></td>\n",
       "    </tr>\n",
       "    <tr>\n",
       "      <th>6603</th>\n",
       "      <td>Beef, top sirloin, steak, separable lean only,...</td>\n",
       "      <td>Beef Products</td>\n",
       "      <td>23625</td>\n",
       "      <td></td>\n",
       "    </tr>\n",
       "    <tr>\n",
       "      <th>6604</th>\n",
       "      <td>Beef, rib, small end (ribs 10-12), separable l...</td>\n",
       "      <td>Beef Products</td>\n",
       "      <td>23626</td>\n",
       "      <td></td>\n",
       "    </tr>\n",
       "    <tr>\n",
       "      <th>6605</th>\n",
       "      <td>Beef, short loin, top loin, steak, separable l...</td>\n",
       "      <td>Beef Products</td>\n",
       "      <td>23627</td>\n",
       "      <td></td>\n",
       "    </tr>\n",
       "    <tr>\n",
       "      <th>6606</th>\n",
       "      <td>Beef, tenderloin, steak, separable lean only, ...</td>\n",
       "      <td>Beef Products</td>\n",
       "      <td>23628</td>\n",
       "      <td></td>\n",
       "    </tr>\n",
       "    <tr>\n",
       "      <th>6607</th>\n",
       "      <td>Beef, top sirloin, steak, separable lean only,...</td>\n",
       "      <td>Beef Products</td>\n",
       "      <td>23629</td>\n",
       "      <td></td>\n",
       "    </tr>\n",
       "    <tr>\n",
       "      <th>6608</th>\n",
       "      <td>Beef, short loin, top loin, steak, separable l...</td>\n",
       "      <td>Beef Products</td>\n",
       "      <td>23630</td>\n",
       "      <td></td>\n",
       "    </tr>\n",
       "    <tr>\n",
       "      <th>6609</th>\n",
       "      <td>Beef, chuck, arm pot roast, separable lean onl...</td>\n",
       "      <td>Beef Products</td>\n",
       "      <td>23631</td>\n",
       "      <td></td>\n",
       "    </tr>\n",
       "    <tr>\n",
       "      <th>6610</th>\n",
       "      <td>Beef, brisket, flat half, separable lean only,...</td>\n",
       "      <td>Beef Products</td>\n",
       "      <td>23632</td>\n",
       "      <td></td>\n",
       "    </tr>\n",
       "    <tr>\n",
       "      <th>6611</th>\n",
       "      <td>Beef, chuck, arm pot roast, separable lean onl...</td>\n",
       "      <td>Beef Products</td>\n",
       "      <td>23633</td>\n",
       "      <td></td>\n",
       "    </tr>\n",
       "    <tr>\n",
       "      <th>6612</th>\n",
       "      <td>Beef, brisket, flat half, separable lean only,...</td>\n",
       "      <td>Beef Products</td>\n",
       "      <td>23634</td>\n",
       "      <td></td>\n",
       "    </tr>\n",
       "    <tr>\n",
       "      <th>6613</th>\n",
       "      <td>Beef, round, eye of round, roast, separable le...</td>\n",
       "      <td>Beef Products</td>\n",
       "      <td>23635</td>\n",
       "      <td></td>\n",
       "    </tr>\n",
       "    <tr>\n",
       "      <th>6614</th>\n",
       "      <td>Beef, round, top round, steak, separable lean ...</td>\n",
       "      <td>Beef Products</td>\n",
       "      <td>23636</td>\n",
       "      <td></td>\n",
       "    </tr>\n",
       "    <tr>\n",
       "      <th>6615</th>\n",
       "      <td>Beef, round, bottom round, roast, separable le...</td>\n",
       "      <td>Beef Products</td>\n",
       "      <td>23637</td>\n",
       "      <td></td>\n",
       "    </tr>\n",
       "    <tr>\n",
       "      <th>6616</th>\n",
       "      <td>Beef, rib, small end (ribs 10-12), separable l...</td>\n",
       "      <td>Beef Products</td>\n",
       "      <td>23638</td>\n",
       "      <td></td>\n",
       "    </tr>\n",
       "    <tr>\n",
       "      <th>6617</th>\n",
       "      <td>CAMPBELL Soup Company, CAMPBELL'S Red and Whit...</td>\n",
       "      <td>Soups, Sauces, and Gravies</td>\n",
       "      <td>27015</td>\n",
       "      <td>Campbell Soup Co.</td>\n",
       "    </tr>\n",
       "    <tr>\n",
       "      <th>6618</th>\n",
       "      <td>CAMPBELL Soup Company, CAMPBELL's Red and Whit...</td>\n",
       "      <td>Soups, Sauces, and Gravies</td>\n",
       "      <td>27016</td>\n",
       "      <td>Campbell Soup Co.</td>\n",
       "    </tr>\n",
       "    <tr>\n",
       "      <th>6619</th>\n",
       "      <td>CAMPBELL Soup Company, CAMPBELL'S SELECT Soups...</td>\n",
       "      <td>Soups, Sauces, and Gravies</td>\n",
       "      <td>27021</td>\n",
       "      <td>Campbell Soup Co.</td>\n",
       "    </tr>\n",
       "    <tr>\n",
       "      <th>6620</th>\n",
       "      <td>CAMPBELL Soup Company, CAMPBELL'S SOUP AT HAND...</td>\n",
       "      <td>Soups, Sauces, and Gravies</td>\n",
       "      <td>27022</td>\n",
       "      <td>Campbell Soup Co.</td>\n",
       "    </tr>\n",
       "    <tr>\n",
       "      <th>6621</th>\n",
       "      <td>CAMPBELL Soup Company, CAMPBELL'S SOUP AT HAND...</td>\n",
       "      <td>Soups, Sauces, and Gravies</td>\n",
       "      <td>27023</td>\n",
       "      <td>Campbell Soup Co.</td>\n",
       "    </tr>\n",
       "    <tr>\n",
       "      <th>6622</th>\n",
       "      <td>CAMPBELL Soup Company, CAMPBELL'S SELECT Gold ...</td>\n",
       "      <td>Soups, Sauces, and Gravies</td>\n",
       "      <td>27024</td>\n",
       "      <td>Campbell Soup Co.</td>\n",
       "    </tr>\n",
       "    <tr>\n",
       "      <th>6623</th>\n",
       "      <td>CAMPBELL Soup Company, CAMPBELL'S SELECT Gold ...</td>\n",
       "      <td>Soups, Sauces, and Gravies</td>\n",
       "      <td>27025</td>\n",
       "      <td>Campbell Soup Co.</td>\n",
       "    </tr>\n",
       "    <tr>\n",
       "      <th>6624</th>\n",
       "      <td>CAMPBELL Soup Company, CAMPBELL'S SELECT Gold ...</td>\n",
       "      <td>Soups, Sauces, and Gravies</td>\n",
       "      <td>27026</td>\n",
       "      <td>Campbell Soup Co.</td>\n",
       "    </tr>\n",
       "    <tr>\n",
       "      <th>6625</th>\n",
       "      <td>CAMPBELL Soup Company, CAMPBELL'S Red and Whit...</td>\n",
       "      <td>Soups, Sauces, and Gravies</td>\n",
       "      <td>27032</td>\n",
       "      <td>Campbell Soup Co.</td>\n",
       "    </tr>\n",
       "    <tr>\n",
       "      <th>6626</th>\n",
       "      <td>CAMPBELL Soup Company, V8 Vegetable Juice, Ess...</td>\n",
       "      <td>Vegetables and Vegetable Products</td>\n",
       "      <td>31010</td>\n",
       "      <td>Campbell Soup Co.</td>\n",
       "    </tr>\n",
       "    <tr>\n",
       "      <th>6627</th>\n",
       "      <td>CAMPBELL Soup Company, V8 Vegetable Juice, Spi...</td>\n",
       "      <td>Vegetables and Vegetable Products</td>\n",
       "      <td>31013</td>\n",
       "      <td>Campbell Soup Co.</td>\n",
       "    </tr>\n",
       "    <tr>\n",
       "      <th>6628</th>\n",
       "      <td>CAMPBELL Soup Company, PACE, Jalapenos Nacho S...</td>\n",
       "      <td>Vegetables and Vegetable Products</td>\n",
       "      <td>31014</td>\n",
       "      <td>Campbell Soup Co.</td>\n",
       "    </tr>\n",
       "    <tr>\n",
       "      <th>6629</th>\n",
       "      <td>CAMPBELL Soup Company, V8 60% Vegetable Juice,...</td>\n",
       "      <td>Vegetables and Vegetable Products</td>\n",
       "      <td>31016</td>\n",
       "      <td>Campbell Soup Co.</td>\n",
       "    </tr>\n",
       "    <tr>\n",
       "      <th>6630</th>\n",
       "      <td>CAMPBELL Soup Company, V8 Vegetable Juice, Low...</td>\n",
       "      <td>Vegetables and Vegetable Products</td>\n",
       "      <td>31017</td>\n",
       "      <td>Campbell Soup Co.</td>\n",
       "    </tr>\n",
       "    <tr>\n",
       "      <th>6631</th>\n",
       "      <td>Bologna, beef, low fat</td>\n",
       "      <td>Sausages and Luncheon Meats</td>\n",
       "      <td>42161</td>\n",
       "      <td></td>\n",
       "    </tr>\n",
       "    <tr>\n",
       "      <th>6632</th>\n",
       "      <td>Turkey and pork sausage, fresh, bulk, patty or...</td>\n",
       "      <td>Sausages and Luncheon Meats</td>\n",
       "      <td>42173</td>\n",
       "      <td></td>\n",
       "    </tr>\n",
       "    <tr>\n",
       "      <th>6633</th>\n",
       "      <td>Babyfood, juice, pear</td>\n",
       "      <td>Baby Foods</td>\n",
       "      <td>43408</td>\n",
       "      <td>None</td>\n",
       "    </tr>\n",
       "    <tr>\n",
       "      <th>6634</th>\n",
       "      <td>Babyfood, dessert, banana yogurt, strained</td>\n",
       "      <td>Baby Foods</td>\n",
       "      <td>43539</td>\n",
       "      <td>None</td>\n",
       "    </tr>\n",
       "    <tr>\n",
       "      <th>6635</th>\n",
       "      <td>Babyfood, banana no tapioca, strained</td>\n",
       "      <td>Baby Foods</td>\n",
       "      <td>43546</td>\n",
       "      <td>None</td>\n",
       "    </tr>\n",
       "  </tbody>\n",
       "</table>\n",
       "<p>6636 rows × 4 columns</p>\n",
       "</div>"
      ],
      "text/plain": [
       "                                            description  \\\n",
       "0                                       Cheese, caraway   \n",
       "1                                       Cheese, cheddar   \n",
       "2                                          Cheese, edam   \n",
       "3                                          Cheese, feta   \n",
       "4                    Cheese, mozzarella, part skim milk   \n",
       "5      Cheese, mozzarella, part skim milk, low moisture   \n",
       "6                                        Cheese, romano   \n",
       "7                                     Cheese, roquefort   \n",
       "8     Cheese spread, pasteurized process, american, ...   \n",
       "9                           Cream, fluid, half and half   \n",
       "10    Sour dressing, non-butterfat, cultured, filled...   \n",
       "11    Milk, filled, fluid, with blend of hydrogenate...   \n",
       "12    Cream substitute, liquid, with lauric acid oil...   \n",
       "13                           Cream substitute, powdered   \n",
       "14                  Milk, producer, fluid, 3.7% milkfat   \n",
       "15    Milk, reduced fat, fluid, 2% milkfat, with add...   \n",
       "16    Milk, reduced fat, fluid, 2% milkfat, with add...   \n",
       "17    Milk, reduced fat, fluid, 2% milkfat, protein ...   \n",
       "18    Milk, lowfat, fluid, 1% milkfat, with added vi...   \n",
       "19    Milk, lowfat, fluid, 1% milkfat, with added no...   \n",
       "20    Milk, lowfat, fluid, 1% milkfat, protein forti...   \n",
       "21    Milk, nonfat, fluid, with added vitamin A and ...   \n",
       "22    Milk, nonfat, fluid, with added nonfat milk so...   \n",
       "23    Milk, nonfat, fluid, protein fortified, with a...   \n",
       "24            Milk, buttermilk, fluid, cultured, lowfat   \n",
       "25                              Milk, low sodium, fluid   \n",
       "26               Milk, dry, whole, with added vitamin D   \n",
       "27    Milk, dry, nonfat, regular, without added vita...   \n",
       "28    Milk, dry, nonfat, instant, with added vitamin...   \n",
       "29                   Milk, dry, nonfat, calcium reduced   \n",
       "30                              Milk, buttermilk, dried   \n",
       "31                   Milk, canned, condensed, sweetened   \n",
       "32    Milk, canned, evaporated, with added vitamin D...   \n",
       "33    Milk, canned, evaporated, nonfat, with added v...   \n",
       "34                          Milk, indian buffalo, fluid   \n",
       "35                                   Milk, sheep, fluid   \n",
       "36    Yogurt, plain, skim milk, 13 grams protein per...   \n",
       "37    Yogurt, vanilla, low fat, 11 grams protein per...   \n",
       "38                            Egg, whole, cooked, fried   \n",
       "39                      Egg, whole, cooked, hard-boiled   \n",
       "40                         Egg, duck, whole, fresh, raw   \n",
       "41                        Egg, goose, whole, fresh, raw   \n",
       "42    Cheese, pasteurized process, swiss, without di...   \n",
       "43    Cheese food, pasteurized process, american, wi...   \n",
       "44                              Cheese, goat, soft type   \n",
       "45                    Cheese, low fat, cheddar or colby   \n",
       "46                 Cheese, low-sodium, cheddar or colby   \n",
       "47                              Sour cream, reduced fat   \n",
       "48                                    Sour cream, light   \n",
       "49                                 Sour cream, fat free   \n",
       "...                                                 ...   \n",
       "6586  Beef, tenderloin, steak, separable lean only, ...   \n",
       "6587  Beef, top sirloin, steak, separable lean only,...   \n",
       "6588  Beef, short loin, top loin, steak, separable l...   \n",
       "6589  Beef, round, bottom round , roast, separable l...   \n",
       "6590  Beef, round, eye of round, roast, separable le...   \n",
       "6591  Beef, round, top round, steak, separable lean ...   \n",
       "6592  Beef, round, bottom round, steak, separable le...   \n",
       "6593  Beef, short loin, top loin, steak, separable l...   \n",
       "6594  Beef, brisket, flat half, separable lean only,...   \n",
       "6595  Beef, chuck, arm pot roast, separable lean onl...   \n",
       "6596  Beef, brisket, flat half, separable lean only,...   \n",
       "6597  Beef, round, eye of round, roast, separable le...   \n",
       "6598  Beef, round, top round, steak, separable lean ...   \n",
       "6599  Beef, round, eye of round, roast, separable le...   \n",
       "6600  Beef, round, top round, steak, separable lean ...   \n",
       "6601  Beef, round, bottom round, steak, separable le...   \n",
       "6602  Beef, tenderloin, steak, separable lean only, ...   \n",
       "6603  Beef, top sirloin, steak, separable lean only,...   \n",
       "6604  Beef, rib, small end (ribs 10-12), separable l...   \n",
       "6605  Beef, short loin, top loin, steak, separable l...   \n",
       "6606  Beef, tenderloin, steak, separable lean only, ...   \n",
       "6607  Beef, top sirloin, steak, separable lean only,...   \n",
       "6608  Beef, short loin, top loin, steak, separable l...   \n",
       "6609  Beef, chuck, arm pot roast, separable lean onl...   \n",
       "6610  Beef, brisket, flat half, separable lean only,...   \n",
       "6611  Beef, chuck, arm pot roast, separable lean onl...   \n",
       "6612  Beef, brisket, flat half, separable lean only,...   \n",
       "6613  Beef, round, eye of round, roast, separable le...   \n",
       "6614  Beef, round, top round, steak, separable lean ...   \n",
       "6615  Beef, round, bottom round, roast, separable le...   \n",
       "6616  Beef, rib, small end (ribs 10-12), separable l...   \n",
       "6617  CAMPBELL Soup Company, CAMPBELL'S Red and Whit...   \n",
       "6618  CAMPBELL Soup Company, CAMPBELL's Red and Whit...   \n",
       "6619  CAMPBELL Soup Company, CAMPBELL'S SELECT Soups...   \n",
       "6620  CAMPBELL Soup Company, CAMPBELL'S SOUP AT HAND...   \n",
       "6621  CAMPBELL Soup Company, CAMPBELL'S SOUP AT HAND...   \n",
       "6622  CAMPBELL Soup Company, CAMPBELL'S SELECT Gold ...   \n",
       "6623  CAMPBELL Soup Company, CAMPBELL'S SELECT Gold ...   \n",
       "6624  CAMPBELL Soup Company, CAMPBELL'S SELECT Gold ...   \n",
       "6625  CAMPBELL Soup Company, CAMPBELL'S Red and Whit...   \n",
       "6626  CAMPBELL Soup Company, V8 Vegetable Juice, Ess...   \n",
       "6627  CAMPBELL Soup Company, V8 Vegetable Juice, Spi...   \n",
       "6628  CAMPBELL Soup Company, PACE, Jalapenos Nacho S...   \n",
       "6629  CAMPBELL Soup Company, V8 60% Vegetable Juice,...   \n",
       "6630  CAMPBELL Soup Company, V8 Vegetable Juice, Low...   \n",
       "6631                             Bologna, beef, low fat   \n",
       "6632  Turkey and pork sausage, fresh, bulk, patty or...   \n",
       "6633                              Babyfood, juice, pear   \n",
       "6634         Babyfood, dessert, banana yogurt, strained   \n",
       "6635              Babyfood, banana no tapioca, strained   \n",
       "\n",
       "                                  group     id       manufacturer  \n",
       "0                Dairy and Egg Products   1008                     \n",
       "1                Dairy and Egg Products   1009                     \n",
       "2                Dairy and Egg Products   1018                     \n",
       "3                Dairy and Egg Products   1019                     \n",
       "4                Dairy and Egg Products   1028                     \n",
       "5                Dairy and Egg Products   1029                     \n",
       "6                Dairy and Egg Products   1038                     \n",
       "7                Dairy and Egg Products   1039                     \n",
       "8                Dairy and Egg Products   1048                     \n",
       "9                Dairy and Egg Products   1049                     \n",
       "10               Dairy and Egg Products   1058                     \n",
       "11               Dairy and Egg Products   1059                     \n",
       "12               Dairy and Egg Products   1068                     \n",
       "13               Dairy and Egg Products   1069                     \n",
       "14               Dairy and Egg Products   1078                     \n",
       "15               Dairy and Egg Products   1079               None  \n",
       "16               Dairy and Egg Products   1080                     \n",
       "17               Dairy and Egg Products   1081                     \n",
       "18               Dairy and Egg Products   1082                     \n",
       "19               Dairy and Egg Products   1083                     \n",
       "20               Dairy and Egg Products   1084                     \n",
       "21               Dairy and Egg Products   1085                     \n",
       "22               Dairy and Egg Products   1086                     \n",
       "23               Dairy and Egg Products   1087                     \n",
       "24               Dairy and Egg Products   1088                     \n",
       "25               Dairy and Egg Products   1089                     \n",
       "26               Dairy and Egg Products   1090                     \n",
       "27               Dairy and Egg Products   1091                     \n",
       "28               Dairy and Egg Products   1092                     \n",
       "29               Dairy and Egg Products   1093                     \n",
       "30               Dairy and Egg Products   1094                     \n",
       "31               Dairy and Egg Products   1095                     \n",
       "32               Dairy and Egg Products   1096                     \n",
       "33               Dairy and Egg Products   1097                     \n",
       "34               Dairy and Egg Products   1108                     \n",
       "35               Dairy and Egg Products   1109                     \n",
       "36               Dairy and Egg Products   1118                     \n",
       "37               Dairy and Egg Products   1119                     \n",
       "38               Dairy and Egg Products   1128                     \n",
       "39               Dairy and Egg Products   1129                     \n",
       "40               Dairy and Egg Products   1138                     \n",
       "41               Dairy and Egg Products   1139                     \n",
       "42               Dairy and Egg Products   1148                     \n",
       "43               Dairy and Egg Products   1149                     \n",
       "44               Dairy and Egg Products   1159                     \n",
       "45               Dairy and Egg Products   1168                     \n",
       "46               Dairy and Egg Products   1169                     \n",
       "47               Dairy and Egg Products   1178               None  \n",
       "48               Dairy and Egg Products   1179               None  \n",
       "49               Dairy and Egg Products   1180               None  \n",
       "...                                 ...    ...                ...  \n",
       "6586                      Beef Products  23587                     \n",
       "6587                      Beef Products  23588                     \n",
       "6588                      Beef Products  23589                     \n",
       "6589                      Beef Products  23590                     \n",
       "6590                      Beef Products  23591                     \n",
       "6591                      Beef Products  23592                     \n",
       "6592                      Beef Products  23593                     \n",
       "6593                      Beef Products  23606                     \n",
       "6594                      Beef Products  23613                     \n",
       "6595                      Beef Products  23614                     \n",
       "6596                      Beef Products  23615                     \n",
       "6597                      Beef Products  23616                     \n",
       "6598                      Beef Products  23617                     \n",
       "6599                      Beef Products  23620                     \n",
       "6600                      Beef Products  23621                     \n",
       "6601                      Beef Products  23622                     \n",
       "6602                      Beef Products  23624                     \n",
       "6603                      Beef Products  23625                     \n",
       "6604                      Beef Products  23626                     \n",
       "6605                      Beef Products  23627                     \n",
       "6606                      Beef Products  23628                     \n",
       "6607                      Beef Products  23629                     \n",
       "6608                      Beef Products  23630                     \n",
       "6609                      Beef Products  23631                     \n",
       "6610                      Beef Products  23632                     \n",
       "6611                      Beef Products  23633                     \n",
       "6612                      Beef Products  23634                     \n",
       "6613                      Beef Products  23635                     \n",
       "6614                      Beef Products  23636                     \n",
       "6615                      Beef Products  23637                     \n",
       "6616                      Beef Products  23638                     \n",
       "6617         Soups, Sauces, and Gravies  27015  Campbell Soup Co.  \n",
       "6618         Soups, Sauces, and Gravies  27016  Campbell Soup Co.  \n",
       "6619         Soups, Sauces, and Gravies  27021  Campbell Soup Co.  \n",
       "6620         Soups, Sauces, and Gravies  27022  Campbell Soup Co.  \n",
       "6621         Soups, Sauces, and Gravies  27023  Campbell Soup Co.  \n",
       "6622         Soups, Sauces, and Gravies  27024  Campbell Soup Co.  \n",
       "6623         Soups, Sauces, and Gravies  27025  Campbell Soup Co.  \n",
       "6624         Soups, Sauces, and Gravies  27026  Campbell Soup Co.  \n",
       "6625         Soups, Sauces, and Gravies  27032  Campbell Soup Co.  \n",
       "6626  Vegetables and Vegetable Products  31010  Campbell Soup Co.  \n",
       "6627  Vegetables and Vegetable Products  31013  Campbell Soup Co.  \n",
       "6628  Vegetables and Vegetable Products  31014  Campbell Soup Co.  \n",
       "6629  Vegetables and Vegetable Products  31016  Campbell Soup Co.  \n",
       "6630  Vegetables and Vegetable Products  31017  Campbell Soup Co.  \n",
       "6631        Sausages and Luncheon Meats  42161                     \n",
       "6632        Sausages and Luncheon Meats  42173                     \n",
       "6633                         Baby Foods  43408               None  \n",
       "6634                         Baby Foods  43539               None  \n",
       "6635                         Baby Foods  43546               None  \n",
       "\n",
       "[6636 rows x 4 columns]"
      ]
     },
     "execution_count": 31,
     "metadata": {},
     "output_type": "execute_result"
    }
   ],
   "source": [
    "info"
   ]
  },
  {
   "cell_type": "code",
   "execution_count": 32,
   "metadata": {},
   "outputs": [
    {
     "data": {
      "text/plain": [
       "Vegetables and Vegetable Products    812\n",
       "Beef Products                        618\n",
       "Baked Products                       496\n",
       "Breakfast Cereals                    403\n",
       "Legumes and Legume Products          365\n",
       "Fast Foods                           365\n",
       "Lamb, Veal, and Game Products        345\n",
       "Sweets                               341\n",
       "Fruits and Fruit Juices              328\n",
       "Pork Products                        328\n",
       "Name: group, dtype: int64"
      ]
     },
     "execution_count": 32,
     "metadata": {},
     "output_type": "execute_result"
    }
   ],
   "source": [
    "pd.value_counts(info.group)[:10]"
   ]
  },
  {
   "cell_type": "code",
   "execution_count": 33,
   "metadata": {},
   "outputs": [],
   "source": [
    "nutrients = []\n",
    "\n",
    "for rec in db:\n",
    "    fnuts = DataFrame(rec['nutrients'])\n",
    "    fnuts['id'] = rec['id']\n",
    "    nutrients.append(fnuts)\n",
    "\n",
    "nutrients = pd.concat(nutrients, ignore_index=True)"
   ]
  },
  {
   "cell_type": "code",
   "execution_count": 27,
   "metadata": {},
   "outputs": [
    {
     "data": {
      "text/html": [
       "<div>\n",
       "<style scoped>\n",
       "    .dataframe tbody tr th:only-of-type {\n",
       "        vertical-align: middle;\n",
       "    }\n",
       "\n",
       "    .dataframe tbody tr th {\n",
       "        vertical-align: top;\n",
       "    }\n",
       "\n",
       "    .dataframe thead th {\n",
       "        text-align: right;\n",
       "    }\n",
       "</style>\n",
       "<table border=\"1\" class=\"dataframe\">\n",
       "  <thead>\n",
       "    <tr style=\"text-align: right;\">\n",
       "      <th></th>\n",
       "      <th>description</th>\n",
       "      <th>group</th>\n",
       "      <th>units</th>\n",
       "      <th>value</th>\n",
       "      <th>id</th>\n",
       "    </tr>\n",
       "  </thead>\n",
       "  <tbody>\n",
       "    <tr>\n",
       "      <th>0</th>\n",
       "      <td>Protein</td>\n",
       "      <td>Composition</td>\n",
       "      <td>g</td>\n",
       "      <td>25.180</td>\n",
       "      <td>1008</td>\n",
       "    </tr>\n",
       "    <tr>\n",
       "      <th>1</th>\n",
       "      <td>Total lipid (fat)</td>\n",
       "      <td>Composition</td>\n",
       "      <td>g</td>\n",
       "      <td>29.200</td>\n",
       "      <td>1008</td>\n",
       "    </tr>\n",
       "    <tr>\n",
       "      <th>2</th>\n",
       "      <td>Carbohydrate, by difference</td>\n",
       "      <td>Composition</td>\n",
       "      <td>g</td>\n",
       "      <td>3.060</td>\n",
       "      <td>1008</td>\n",
       "    </tr>\n",
       "    <tr>\n",
       "      <th>3</th>\n",
       "      <td>Ash</td>\n",
       "      <td>Other</td>\n",
       "      <td>g</td>\n",
       "      <td>3.280</td>\n",
       "      <td>1008</td>\n",
       "    </tr>\n",
       "    <tr>\n",
       "      <th>4</th>\n",
       "      <td>Energy</td>\n",
       "      <td>Energy</td>\n",
       "      <td>kcal</td>\n",
       "      <td>376.000</td>\n",
       "      <td>1008</td>\n",
       "    </tr>\n",
       "    <tr>\n",
       "      <th>5</th>\n",
       "      <td>Water</td>\n",
       "      <td>Composition</td>\n",
       "      <td>g</td>\n",
       "      <td>39.280</td>\n",
       "      <td>1008</td>\n",
       "    </tr>\n",
       "    <tr>\n",
       "      <th>6</th>\n",
       "      <td>Energy</td>\n",
       "      <td>Energy</td>\n",
       "      <td>kJ</td>\n",
       "      <td>1573.000</td>\n",
       "      <td>1008</td>\n",
       "    </tr>\n",
       "    <tr>\n",
       "      <th>7</th>\n",
       "      <td>Fiber, total dietary</td>\n",
       "      <td>Composition</td>\n",
       "      <td>g</td>\n",
       "      <td>0.000</td>\n",
       "      <td>1008</td>\n",
       "    </tr>\n",
       "    <tr>\n",
       "      <th>8</th>\n",
       "      <td>Calcium, Ca</td>\n",
       "      <td>Elements</td>\n",
       "      <td>mg</td>\n",
       "      <td>673.000</td>\n",
       "      <td>1008</td>\n",
       "    </tr>\n",
       "    <tr>\n",
       "      <th>9</th>\n",
       "      <td>Iron, Fe</td>\n",
       "      <td>Elements</td>\n",
       "      <td>mg</td>\n",
       "      <td>0.640</td>\n",
       "      <td>1008</td>\n",
       "    </tr>\n",
       "    <tr>\n",
       "      <th>10</th>\n",
       "      <td>Magnesium, Mg</td>\n",
       "      <td>Elements</td>\n",
       "      <td>mg</td>\n",
       "      <td>22.000</td>\n",
       "      <td>1008</td>\n",
       "    </tr>\n",
       "    <tr>\n",
       "      <th>11</th>\n",
       "      <td>Phosphorus, P</td>\n",
       "      <td>Elements</td>\n",
       "      <td>mg</td>\n",
       "      <td>490.000</td>\n",
       "      <td>1008</td>\n",
       "    </tr>\n",
       "    <tr>\n",
       "      <th>12</th>\n",
       "      <td>Potassium, K</td>\n",
       "      <td>Elements</td>\n",
       "      <td>mg</td>\n",
       "      <td>93.000</td>\n",
       "      <td>1008</td>\n",
       "    </tr>\n",
       "    <tr>\n",
       "      <th>13</th>\n",
       "      <td>Sodium, Na</td>\n",
       "      <td>Elements</td>\n",
       "      <td>mg</td>\n",
       "      <td>690.000</td>\n",
       "      <td>1008</td>\n",
       "    </tr>\n",
       "    <tr>\n",
       "      <th>14</th>\n",
       "      <td>Zinc, Zn</td>\n",
       "      <td>Elements</td>\n",
       "      <td>mg</td>\n",
       "      <td>2.940</td>\n",
       "      <td>1008</td>\n",
       "    </tr>\n",
       "    <tr>\n",
       "      <th>15</th>\n",
       "      <td>Copper, Cu</td>\n",
       "      <td>Elements</td>\n",
       "      <td>mg</td>\n",
       "      <td>0.024</td>\n",
       "      <td>1008</td>\n",
       "    </tr>\n",
       "    <tr>\n",
       "      <th>16</th>\n",
       "      <td>Manganese, Mn</td>\n",
       "      <td>Elements</td>\n",
       "      <td>mg</td>\n",
       "      <td>0.021</td>\n",
       "      <td>1008</td>\n",
       "    </tr>\n",
       "    <tr>\n",
       "      <th>17</th>\n",
       "      <td>Selenium, Se</td>\n",
       "      <td>Elements</td>\n",
       "      <td>mcg</td>\n",
       "      <td>14.500</td>\n",
       "      <td>1008</td>\n",
       "    </tr>\n",
       "    <tr>\n",
       "      <th>18</th>\n",
       "      <td>Vitamin A, IU</td>\n",
       "      <td>Vitamins</td>\n",
       "      <td>IU</td>\n",
       "      <td>1054.000</td>\n",
       "      <td>1008</td>\n",
       "    </tr>\n",
       "    <tr>\n",
       "      <th>19</th>\n",
       "      <td>Retinol</td>\n",
       "      <td>Vitamins</td>\n",
       "      <td>mcg</td>\n",
       "      <td>262.000</td>\n",
       "      <td>1008</td>\n",
       "    </tr>\n",
       "    <tr>\n",
       "      <th>20</th>\n",
       "      <td>Vitamin A, RAE</td>\n",
       "      <td>Vitamins</td>\n",
       "      <td>mcg_RAE</td>\n",
       "      <td>271.000</td>\n",
       "      <td>1008</td>\n",
       "    </tr>\n",
       "    <tr>\n",
       "      <th>21</th>\n",
       "      <td>Vitamin C, total ascorbic acid</td>\n",
       "      <td>Vitamins</td>\n",
       "      <td>mg</td>\n",
       "      <td>0.000</td>\n",
       "      <td>1008</td>\n",
       "    </tr>\n",
       "    <tr>\n",
       "      <th>22</th>\n",
       "      <td>Thiamin</td>\n",
       "      <td>Vitamins</td>\n",
       "      <td>mg</td>\n",
       "      <td>0.031</td>\n",
       "      <td>1008</td>\n",
       "    </tr>\n",
       "    <tr>\n",
       "      <th>23</th>\n",
       "      <td>Riboflavin</td>\n",
       "      <td>Vitamins</td>\n",
       "      <td>mg</td>\n",
       "      <td>0.450</td>\n",
       "      <td>1008</td>\n",
       "    </tr>\n",
       "    <tr>\n",
       "      <th>24</th>\n",
       "      <td>Niacin</td>\n",
       "      <td>Vitamins</td>\n",
       "      <td>mg</td>\n",
       "      <td>0.180</td>\n",
       "      <td>1008</td>\n",
       "    </tr>\n",
       "    <tr>\n",
       "      <th>25</th>\n",
       "      <td>Pantothenic acid</td>\n",
       "      <td>Vitamins</td>\n",
       "      <td>mg</td>\n",
       "      <td>0.190</td>\n",
       "      <td>1008</td>\n",
       "    </tr>\n",
       "    <tr>\n",
       "      <th>26</th>\n",
       "      <td>Vitamin B-6</td>\n",
       "      <td>Vitamins</td>\n",
       "      <td>mg</td>\n",
       "      <td>0.074</td>\n",
       "      <td>1008</td>\n",
       "    </tr>\n",
       "    <tr>\n",
       "      <th>27</th>\n",
       "      <td>Folate, total</td>\n",
       "      <td>Vitamins</td>\n",
       "      <td>mcg</td>\n",
       "      <td>18.000</td>\n",
       "      <td>1008</td>\n",
       "    </tr>\n",
       "    <tr>\n",
       "      <th>28</th>\n",
       "      <td>Vitamin B-12</td>\n",
       "      <td>Vitamins</td>\n",
       "      <td>mcg</td>\n",
       "      <td>0.270</td>\n",
       "      <td>1008</td>\n",
       "    </tr>\n",
       "    <tr>\n",
       "      <th>29</th>\n",
       "      <td>Folic acid</td>\n",
       "      <td>Vitamins</td>\n",
       "      <td>mcg</td>\n",
       "      <td>0.000</td>\n",
       "      <td>1008</td>\n",
       "    </tr>\n",
       "    <tr>\n",
       "      <th>30</th>\n",
       "      <td>Folate, food</td>\n",
       "      <td>Vitamins</td>\n",
       "      <td>mcg</td>\n",
       "      <td>18.000</td>\n",
       "      <td>1008</td>\n",
       "    </tr>\n",
       "    <tr>\n",
       "      <th>31</th>\n",
       "      <td>Folate, DFE</td>\n",
       "      <td>Vitamins</td>\n",
       "      <td>mcg_DFE</td>\n",
       "      <td>18.000</td>\n",
       "      <td>1008</td>\n",
       "    </tr>\n",
       "    <tr>\n",
       "      <th>32</th>\n",
       "      <td>Cholesterol</td>\n",
       "      <td>Other</td>\n",
       "      <td>mg</td>\n",
       "      <td>93.000</td>\n",
       "      <td>1008</td>\n",
       "    </tr>\n",
       "    <tr>\n",
       "      <th>33</th>\n",
       "      <td>Fatty acids, total saturated</td>\n",
       "      <td>Other</td>\n",
       "      <td>g</td>\n",
       "      <td>18.584</td>\n",
       "      <td>1008</td>\n",
       "    </tr>\n",
       "    <tr>\n",
       "      <th>34</th>\n",
       "      <td>Fatty acids, total monounsaturated</td>\n",
       "      <td>Other</td>\n",
       "      <td>g</td>\n",
       "      <td>8.275</td>\n",
       "      <td>1008</td>\n",
       "    </tr>\n",
       "    <tr>\n",
       "      <th>35</th>\n",
       "      <td>Fatty acids, total polyunsaturated</td>\n",
       "      <td>Other</td>\n",
       "      <td>g</td>\n",
       "      <td>0.830</td>\n",
       "      <td>1008</td>\n",
       "    </tr>\n",
       "    <tr>\n",
       "      <th>36</th>\n",
       "      <td>Tryptophan</td>\n",
       "      <td>Amino Acids</td>\n",
       "      <td>g</td>\n",
       "      <td>0.324</td>\n",
       "      <td>1008</td>\n",
       "    </tr>\n",
       "    <tr>\n",
       "      <th>37</th>\n",
       "      <td>Threonine</td>\n",
       "      <td>Amino Acids</td>\n",
       "      <td>g</td>\n",
       "      <td>0.896</td>\n",
       "      <td>1008</td>\n",
       "    </tr>\n",
       "    <tr>\n",
       "      <th>38</th>\n",
       "      <td>Isoleucine</td>\n",
       "      <td>Amino Acids</td>\n",
       "      <td>g</td>\n",
       "      <td>1.563</td>\n",
       "      <td>1008</td>\n",
       "    </tr>\n",
       "    <tr>\n",
       "      <th>39</th>\n",
       "      <td>Leucine</td>\n",
       "      <td>Amino Acids</td>\n",
       "      <td>g</td>\n",
       "      <td>2.412</td>\n",
       "      <td>1008</td>\n",
       "    </tr>\n",
       "    <tr>\n",
       "      <th>40</th>\n",
       "      <td>Lysine</td>\n",
       "      <td>Amino Acids</td>\n",
       "      <td>g</td>\n",
       "      <td>2.095</td>\n",
       "      <td>1008</td>\n",
       "    </tr>\n",
       "    <tr>\n",
       "      <th>41</th>\n",
       "      <td>Methionine</td>\n",
       "      <td>Amino Acids</td>\n",
       "      <td>g</td>\n",
       "      <td>0.659</td>\n",
       "      <td>1008</td>\n",
       "    </tr>\n",
       "    <tr>\n",
       "      <th>42</th>\n",
       "      <td>Cystine</td>\n",
       "      <td>Amino Acids</td>\n",
       "      <td>g</td>\n",
       "      <td>0.126</td>\n",
       "      <td>1008</td>\n",
       "    </tr>\n",
       "    <tr>\n",
       "      <th>43</th>\n",
       "      <td>Phenylalanine</td>\n",
       "      <td>Amino Acids</td>\n",
       "      <td>g</td>\n",
       "      <td>1.326</td>\n",
       "      <td>1008</td>\n",
       "    </tr>\n",
       "    <tr>\n",
       "      <th>44</th>\n",
       "      <td>Tyrosine</td>\n",
       "      <td>Amino Acids</td>\n",
       "      <td>g</td>\n",
       "      <td>1.216</td>\n",
       "      <td>1008</td>\n",
       "    </tr>\n",
       "    <tr>\n",
       "      <th>45</th>\n",
       "      <td>Valine</td>\n",
       "      <td>Amino Acids</td>\n",
       "      <td>g</td>\n",
       "      <td>1.682</td>\n",
       "      <td>1008</td>\n",
       "    </tr>\n",
       "    <tr>\n",
       "      <th>46</th>\n",
       "      <td>Arginine</td>\n",
       "      <td>Amino Acids</td>\n",
       "      <td>g</td>\n",
       "      <td>0.952</td>\n",
       "      <td>1008</td>\n",
       "    </tr>\n",
       "    <tr>\n",
       "      <th>47</th>\n",
       "      <td>Histidine</td>\n",
       "      <td>Amino Acids</td>\n",
       "      <td>g</td>\n",
       "      <td>0.884</td>\n",
       "      <td>1008</td>\n",
       "    </tr>\n",
       "    <tr>\n",
       "      <th>48</th>\n",
       "      <td>Alanine</td>\n",
       "      <td>Amino Acids</td>\n",
       "      <td>g</td>\n",
       "      <td>0.711</td>\n",
       "      <td>1008</td>\n",
       "    </tr>\n",
       "    <tr>\n",
       "      <th>49</th>\n",
       "      <td>Aspartic acid</td>\n",
       "      <td>Amino Acids</td>\n",
       "      <td>g</td>\n",
       "      <td>1.618</td>\n",
       "      <td>1008</td>\n",
       "    </tr>\n",
       "    <tr>\n",
       "      <th>...</th>\n",
       "      <td>...</td>\n",
       "      <td>...</td>\n",
       "      <td>...</td>\n",
       "      <td>...</td>\n",
       "      <td>...</td>\n",
       "    </tr>\n",
       "    <tr>\n",
       "      <th>389305</th>\n",
       "      <td>Protein</td>\n",
       "      <td>Composition</td>\n",
       "      <td>g</td>\n",
       "      <td>1.000</td>\n",
       "      <td>43546</td>\n",
       "    </tr>\n",
       "    <tr>\n",
       "      <th>389306</th>\n",
       "      <td>Total lipid (fat)</td>\n",
       "      <td>Composition</td>\n",
       "      <td>g</td>\n",
       "      <td>0.200</td>\n",
       "      <td>43546</td>\n",
       "    </tr>\n",
       "    <tr>\n",
       "      <th>389307</th>\n",
       "      <td>Carbohydrate, by difference</td>\n",
       "      <td>Composition</td>\n",
       "      <td>g</td>\n",
       "      <td>21.340</td>\n",
       "      <td>43546</td>\n",
       "    </tr>\n",
       "    <tr>\n",
       "      <th>389308</th>\n",
       "      <td>Ash</td>\n",
       "      <td>Other</td>\n",
       "      <td>g</td>\n",
       "      <td>0.760</td>\n",
       "      <td>43546</td>\n",
       "    </tr>\n",
       "    <tr>\n",
       "      <th>389309</th>\n",
       "      <td>Energy</td>\n",
       "      <td>Energy</td>\n",
       "      <td>kcal</td>\n",
       "      <td>91.000</td>\n",
       "      <td>43546</td>\n",
       "    </tr>\n",
       "    <tr>\n",
       "      <th>389310</th>\n",
       "      <td>Alcohol, ethyl</td>\n",
       "      <td>Other</td>\n",
       "      <td>g</td>\n",
       "      <td>0.000</td>\n",
       "      <td>43546</td>\n",
       "    </tr>\n",
       "    <tr>\n",
       "      <th>389311</th>\n",
       "      <td>Water</td>\n",
       "      <td>Composition</td>\n",
       "      <td>g</td>\n",
       "      <td>76.700</td>\n",
       "      <td>43546</td>\n",
       "    </tr>\n",
       "    <tr>\n",
       "      <th>389312</th>\n",
       "      <td>Caffeine</td>\n",
       "      <td>Other</td>\n",
       "      <td>mg</td>\n",
       "      <td>0.000</td>\n",
       "      <td>43546</td>\n",
       "    </tr>\n",
       "    <tr>\n",
       "      <th>389313</th>\n",
       "      <td>Theobromine</td>\n",
       "      <td>Other</td>\n",
       "      <td>mg</td>\n",
       "      <td>0.000</td>\n",
       "      <td>43546</td>\n",
       "    </tr>\n",
       "    <tr>\n",
       "      <th>389314</th>\n",
       "      <td>Energy</td>\n",
       "      <td>Energy</td>\n",
       "      <td>kJ</td>\n",
       "      <td>381.000</td>\n",
       "      <td>43546</td>\n",
       "    </tr>\n",
       "    <tr>\n",
       "      <th>389315</th>\n",
       "      <td>Sugars, total</td>\n",
       "      <td>Composition</td>\n",
       "      <td>g</td>\n",
       "      <td>11.360</td>\n",
       "      <td>43546</td>\n",
       "    </tr>\n",
       "    <tr>\n",
       "      <th>389316</th>\n",
       "      <td>Fiber, total dietary</td>\n",
       "      <td>Composition</td>\n",
       "      <td>g</td>\n",
       "      <td>1.600</td>\n",
       "      <td>43546</td>\n",
       "    </tr>\n",
       "    <tr>\n",
       "      <th>389317</th>\n",
       "      <td>Calcium, Ca</td>\n",
       "      <td>Elements</td>\n",
       "      <td>mg</td>\n",
       "      <td>4.000</td>\n",
       "      <td>43546</td>\n",
       "    </tr>\n",
       "    <tr>\n",
       "      <th>389318</th>\n",
       "      <td>Iron, Fe</td>\n",
       "      <td>Elements</td>\n",
       "      <td>mg</td>\n",
       "      <td>0.300</td>\n",
       "      <td>43546</td>\n",
       "    </tr>\n",
       "    <tr>\n",
       "      <th>389319</th>\n",
       "      <td>Magnesium, Mg</td>\n",
       "      <td>Elements</td>\n",
       "      <td>mg</td>\n",
       "      <td>26.000</td>\n",
       "      <td>43546</td>\n",
       "    </tr>\n",
       "    <tr>\n",
       "      <th>389320</th>\n",
       "      <td>Phosphorus, P</td>\n",
       "      <td>Elements</td>\n",
       "      <td>mg</td>\n",
       "      <td>20.000</td>\n",
       "      <td>43546</td>\n",
       "    </tr>\n",
       "    <tr>\n",
       "      <th>389321</th>\n",
       "      <td>Potassium, K</td>\n",
       "      <td>Elements</td>\n",
       "      <td>mg</td>\n",
       "      <td>290.000</td>\n",
       "      <td>43546</td>\n",
       "    </tr>\n",
       "    <tr>\n",
       "      <th>389322</th>\n",
       "      <td>Sodium, Na</td>\n",
       "      <td>Elements</td>\n",
       "      <td>mg</td>\n",
       "      <td>2.000</td>\n",
       "      <td>43546</td>\n",
       "    </tr>\n",
       "    <tr>\n",
       "      <th>389323</th>\n",
       "      <td>Zinc, Zn</td>\n",
       "      <td>Elements</td>\n",
       "      <td>mg</td>\n",
       "      <td>0.050</td>\n",
       "      <td>43546</td>\n",
       "    </tr>\n",
       "    <tr>\n",
       "      <th>389324</th>\n",
       "      <td>Copper, Cu</td>\n",
       "      <td>Elements</td>\n",
       "      <td>mg</td>\n",
       "      <td>0.040</td>\n",
       "      <td>43546</td>\n",
       "    </tr>\n",
       "    <tr>\n",
       "      <th>389325</th>\n",
       "      <td>Selenium, Se</td>\n",
       "      <td>Elements</td>\n",
       "      <td>mcg</td>\n",
       "      <td>1.100</td>\n",
       "      <td>43546</td>\n",
       "    </tr>\n",
       "    <tr>\n",
       "      <th>389326</th>\n",
       "      <td>Vitamin A, IU</td>\n",
       "      <td>Vitamins</td>\n",
       "      <td>IU</td>\n",
       "      <td>5.000</td>\n",
       "      <td>43546</td>\n",
       "    </tr>\n",
       "    <tr>\n",
       "      <th>389327</th>\n",
       "      <td>Retinol</td>\n",
       "      <td>Vitamins</td>\n",
       "      <td>mcg</td>\n",
       "      <td>0.000</td>\n",
       "      <td>43546</td>\n",
       "    </tr>\n",
       "    <tr>\n",
       "      <th>389328</th>\n",
       "      <td>Vitamin A, RAE</td>\n",
       "      <td>Vitamins</td>\n",
       "      <td>mcg_RAE</td>\n",
       "      <td>0.000</td>\n",
       "      <td>43546</td>\n",
       "    </tr>\n",
       "    <tr>\n",
       "      <th>389329</th>\n",
       "      <td>Carotene, beta</td>\n",
       "      <td>Vitamins</td>\n",
       "      <td>mcg</td>\n",
       "      <td>2.000</td>\n",
       "      <td>43546</td>\n",
       "    </tr>\n",
       "    <tr>\n",
       "      <th>389330</th>\n",
       "      <td>Carotene, alpha</td>\n",
       "      <td>Vitamins</td>\n",
       "      <td>mcg</td>\n",
       "      <td>2.000</td>\n",
       "      <td>43546</td>\n",
       "    </tr>\n",
       "    <tr>\n",
       "      <th>389331</th>\n",
       "      <td>Vitamin E (alpha-tocopherol)</td>\n",
       "      <td>Vitamins</td>\n",
       "      <td>mg</td>\n",
       "      <td>0.250</td>\n",
       "      <td>43546</td>\n",
       "    </tr>\n",
       "    <tr>\n",
       "      <th>389332</th>\n",
       "      <td>Vitamin D</td>\n",
       "      <td>Vitamins</td>\n",
       "      <td>IU</td>\n",
       "      <td>0.000</td>\n",
       "      <td>43546</td>\n",
       "    </tr>\n",
       "    <tr>\n",
       "      <th>389333</th>\n",
       "      <td>Vitamin D (D2 + D3)</td>\n",
       "      <td>Vitamins</td>\n",
       "      <td>mcg</td>\n",
       "      <td>0.000</td>\n",
       "      <td>43546</td>\n",
       "    </tr>\n",
       "    <tr>\n",
       "      <th>389334</th>\n",
       "      <td>Cryptoxanthin, beta</td>\n",
       "      <td>Vitamins</td>\n",
       "      <td>mcg</td>\n",
       "      <td>0.000</td>\n",
       "      <td>43546</td>\n",
       "    </tr>\n",
       "    <tr>\n",
       "      <th>389335</th>\n",
       "      <td>Lycopene</td>\n",
       "      <td>Vitamins</td>\n",
       "      <td>mcg</td>\n",
       "      <td>0.000</td>\n",
       "      <td>43546</td>\n",
       "    </tr>\n",
       "    <tr>\n",
       "      <th>389336</th>\n",
       "      <td>Lutein + zeaxanthin</td>\n",
       "      <td>Vitamins</td>\n",
       "      <td>mcg</td>\n",
       "      <td>20.000</td>\n",
       "      <td>43546</td>\n",
       "    </tr>\n",
       "    <tr>\n",
       "      <th>389337</th>\n",
       "      <td>Vitamin C, total ascorbic acid</td>\n",
       "      <td>Vitamins</td>\n",
       "      <td>mg</td>\n",
       "      <td>21.900</td>\n",
       "      <td>43546</td>\n",
       "    </tr>\n",
       "    <tr>\n",
       "      <th>389338</th>\n",
       "      <td>Thiamin</td>\n",
       "      <td>Vitamins</td>\n",
       "      <td>mg</td>\n",
       "      <td>0.020</td>\n",
       "      <td>43546</td>\n",
       "    </tr>\n",
       "    <tr>\n",
       "      <th>389339</th>\n",
       "      <td>Riboflavin</td>\n",
       "      <td>Vitamins</td>\n",
       "      <td>mg</td>\n",
       "      <td>0.060</td>\n",
       "      <td>43546</td>\n",
       "    </tr>\n",
       "    <tr>\n",
       "      <th>389340</th>\n",
       "      <td>Niacin</td>\n",
       "      <td>Vitamins</td>\n",
       "      <td>mg</td>\n",
       "      <td>0.540</td>\n",
       "      <td>43546</td>\n",
       "    </tr>\n",
       "    <tr>\n",
       "      <th>389341</th>\n",
       "      <td>Vitamin B-6</td>\n",
       "      <td>Vitamins</td>\n",
       "      <td>mg</td>\n",
       "      <td>0.260</td>\n",
       "      <td>43546</td>\n",
       "    </tr>\n",
       "    <tr>\n",
       "      <th>389342</th>\n",
       "      <td>Folate, total</td>\n",
       "      <td>Vitamins</td>\n",
       "      <td>mcg</td>\n",
       "      <td>17.000</td>\n",
       "      <td>43546</td>\n",
       "    </tr>\n",
       "    <tr>\n",
       "      <th>389343</th>\n",
       "      <td>Vitamin B-12</td>\n",
       "      <td>Vitamins</td>\n",
       "      <td>mcg</td>\n",
       "      <td>0.000</td>\n",
       "      <td>43546</td>\n",
       "    </tr>\n",
       "    <tr>\n",
       "      <th>389344</th>\n",
       "      <td>Choline, total</td>\n",
       "      <td>Vitamins</td>\n",
       "      <td>mg</td>\n",
       "      <td>4.100</td>\n",
       "      <td>43546</td>\n",
       "    </tr>\n",
       "    <tr>\n",
       "      <th>389345</th>\n",
       "      <td>Vitamin K (phylloquinone)</td>\n",
       "      <td>Vitamins</td>\n",
       "      <td>mcg</td>\n",
       "      <td>0.500</td>\n",
       "      <td>43546</td>\n",
       "    </tr>\n",
       "    <tr>\n",
       "      <th>389346</th>\n",
       "      <td>Folic acid</td>\n",
       "      <td>Vitamins</td>\n",
       "      <td>mcg</td>\n",
       "      <td>0.000</td>\n",
       "      <td>43546</td>\n",
       "    </tr>\n",
       "    <tr>\n",
       "      <th>389347</th>\n",
       "      <td>Folate, food</td>\n",
       "      <td>Vitamins</td>\n",
       "      <td>mcg</td>\n",
       "      <td>17.000</td>\n",
       "      <td>43546</td>\n",
       "    </tr>\n",
       "    <tr>\n",
       "      <th>389348</th>\n",
       "      <td>Folate, DFE</td>\n",
       "      <td>Vitamins</td>\n",
       "      <td>mcg_DFE</td>\n",
       "      <td>17.000</td>\n",
       "      <td>43546</td>\n",
       "    </tr>\n",
       "    <tr>\n",
       "      <th>389349</th>\n",
       "      <td>Vitamin E, added</td>\n",
       "      <td>Vitamins</td>\n",
       "      <td>mg</td>\n",
       "      <td>0.000</td>\n",
       "      <td>43546</td>\n",
       "    </tr>\n",
       "    <tr>\n",
       "      <th>389350</th>\n",
       "      <td>Vitamin B-12, added</td>\n",
       "      <td>Vitamins</td>\n",
       "      <td>mcg</td>\n",
       "      <td>0.000</td>\n",
       "      <td>43546</td>\n",
       "    </tr>\n",
       "    <tr>\n",
       "      <th>389351</th>\n",
       "      <td>Cholesterol</td>\n",
       "      <td>Other</td>\n",
       "      <td>mg</td>\n",
       "      <td>0.000</td>\n",
       "      <td>43546</td>\n",
       "    </tr>\n",
       "    <tr>\n",
       "      <th>389352</th>\n",
       "      <td>Fatty acids, total saturated</td>\n",
       "      <td>Other</td>\n",
       "      <td>g</td>\n",
       "      <td>0.072</td>\n",
       "      <td>43546</td>\n",
       "    </tr>\n",
       "    <tr>\n",
       "      <th>389353</th>\n",
       "      <td>Fatty acids, total monounsaturated</td>\n",
       "      <td>Other</td>\n",
       "      <td>g</td>\n",
       "      <td>0.028</td>\n",
       "      <td>43546</td>\n",
       "    </tr>\n",
       "    <tr>\n",
       "      <th>389354</th>\n",
       "      <td>Fatty acids, total polyunsaturated</td>\n",
       "      <td>Other</td>\n",
       "      <td>g</td>\n",
       "      <td>0.041</td>\n",
       "      <td>43546</td>\n",
       "    </tr>\n",
       "  </tbody>\n",
       "</table>\n",
       "<p>389355 rows × 5 columns</p>\n",
       "</div>"
      ],
      "text/plain": [
       "                               description        group    units     value  \\\n",
       "0                                  Protein  Composition        g    25.180   \n",
       "1                        Total lipid (fat)  Composition        g    29.200   \n",
       "2              Carbohydrate, by difference  Composition        g     3.060   \n",
       "3                                      Ash        Other        g     3.280   \n",
       "4                                   Energy       Energy     kcal   376.000   \n",
       "5                                    Water  Composition        g    39.280   \n",
       "6                                   Energy       Energy       kJ  1573.000   \n",
       "7                     Fiber, total dietary  Composition        g     0.000   \n",
       "8                              Calcium, Ca     Elements       mg   673.000   \n",
       "9                                 Iron, Fe     Elements       mg     0.640   \n",
       "10                           Magnesium, Mg     Elements       mg    22.000   \n",
       "11                           Phosphorus, P     Elements       mg   490.000   \n",
       "12                            Potassium, K     Elements       mg    93.000   \n",
       "13                              Sodium, Na     Elements       mg   690.000   \n",
       "14                                Zinc, Zn     Elements       mg     2.940   \n",
       "15                              Copper, Cu     Elements       mg     0.024   \n",
       "16                           Manganese, Mn     Elements       mg     0.021   \n",
       "17                            Selenium, Se     Elements      mcg    14.500   \n",
       "18                           Vitamin A, IU     Vitamins       IU  1054.000   \n",
       "19                                 Retinol     Vitamins      mcg   262.000   \n",
       "20                          Vitamin A, RAE     Vitamins  mcg_RAE   271.000   \n",
       "21          Vitamin C, total ascorbic acid     Vitamins       mg     0.000   \n",
       "22                                 Thiamin     Vitamins       mg     0.031   \n",
       "23                              Riboflavin     Vitamins       mg     0.450   \n",
       "24                                  Niacin     Vitamins       mg     0.180   \n",
       "25                        Pantothenic acid     Vitamins       mg     0.190   \n",
       "26                             Vitamin B-6     Vitamins       mg     0.074   \n",
       "27                           Folate, total     Vitamins      mcg    18.000   \n",
       "28                            Vitamin B-12     Vitamins      mcg     0.270   \n",
       "29                              Folic acid     Vitamins      mcg     0.000   \n",
       "30                            Folate, food     Vitamins      mcg    18.000   \n",
       "31                             Folate, DFE     Vitamins  mcg_DFE    18.000   \n",
       "32                             Cholesterol        Other       mg    93.000   \n",
       "33            Fatty acids, total saturated        Other        g    18.584   \n",
       "34      Fatty acids, total monounsaturated        Other        g     8.275   \n",
       "35      Fatty acids, total polyunsaturated        Other        g     0.830   \n",
       "36                              Tryptophan  Amino Acids        g     0.324   \n",
       "37                               Threonine  Amino Acids        g     0.896   \n",
       "38                              Isoleucine  Amino Acids        g     1.563   \n",
       "39                                 Leucine  Amino Acids        g     2.412   \n",
       "40                                  Lysine  Amino Acids        g     2.095   \n",
       "41                              Methionine  Amino Acids        g     0.659   \n",
       "42                                 Cystine  Amino Acids        g     0.126   \n",
       "43                           Phenylalanine  Amino Acids        g     1.326   \n",
       "44                                Tyrosine  Amino Acids        g     1.216   \n",
       "45                                  Valine  Amino Acids        g     1.682   \n",
       "46                                Arginine  Amino Acids        g     0.952   \n",
       "47                               Histidine  Amino Acids        g     0.884   \n",
       "48                                 Alanine  Amino Acids        g     0.711   \n",
       "49                           Aspartic acid  Amino Acids        g     1.618   \n",
       "...                                    ...          ...      ...       ...   \n",
       "389305                             Protein  Composition        g     1.000   \n",
       "389306                   Total lipid (fat)  Composition        g     0.200   \n",
       "389307         Carbohydrate, by difference  Composition        g    21.340   \n",
       "389308                                 Ash        Other        g     0.760   \n",
       "389309                              Energy       Energy     kcal    91.000   \n",
       "389310                      Alcohol, ethyl        Other        g     0.000   \n",
       "389311                               Water  Composition        g    76.700   \n",
       "389312                            Caffeine        Other       mg     0.000   \n",
       "389313                         Theobromine        Other       mg     0.000   \n",
       "389314                              Energy       Energy       kJ   381.000   \n",
       "389315                       Sugars, total  Composition        g    11.360   \n",
       "389316                Fiber, total dietary  Composition        g     1.600   \n",
       "389317                         Calcium, Ca     Elements       mg     4.000   \n",
       "389318                            Iron, Fe     Elements       mg     0.300   \n",
       "389319                       Magnesium, Mg     Elements       mg    26.000   \n",
       "389320                       Phosphorus, P     Elements       mg    20.000   \n",
       "389321                        Potassium, K     Elements       mg   290.000   \n",
       "389322                          Sodium, Na     Elements       mg     2.000   \n",
       "389323                            Zinc, Zn     Elements       mg     0.050   \n",
       "389324                          Copper, Cu     Elements       mg     0.040   \n",
       "389325                        Selenium, Se     Elements      mcg     1.100   \n",
       "389326                       Vitamin A, IU     Vitamins       IU     5.000   \n",
       "389327                             Retinol     Vitamins      mcg     0.000   \n",
       "389328                      Vitamin A, RAE     Vitamins  mcg_RAE     0.000   \n",
       "389329                      Carotene, beta     Vitamins      mcg     2.000   \n",
       "389330                     Carotene, alpha     Vitamins      mcg     2.000   \n",
       "389331        Vitamin E (alpha-tocopherol)     Vitamins       mg     0.250   \n",
       "389332                           Vitamin D     Vitamins       IU     0.000   \n",
       "389333                 Vitamin D (D2 + D3)     Vitamins      mcg     0.000   \n",
       "389334                 Cryptoxanthin, beta     Vitamins      mcg     0.000   \n",
       "389335                            Lycopene     Vitamins      mcg     0.000   \n",
       "389336                 Lutein + zeaxanthin     Vitamins      mcg    20.000   \n",
       "389337      Vitamin C, total ascorbic acid     Vitamins       mg    21.900   \n",
       "389338                             Thiamin     Vitamins       mg     0.020   \n",
       "389339                          Riboflavin     Vitamins       mg     0.060   \n",
       "389340                              Niacin     Vitamins       mg     0.540   \n",
       "389341                         Vitamin B-6     Vitamins       mg     0.260   \n",
       "389342                       Folate, total     Vitamins      mcg    17.000   \n",
       "389343                        Vitamin B-12     Vitamins      mcg     0.000   \n",
       "389344                      Choline, total     Vitamins       mg     4.100   \n",
       "389345           Vitamin K (phylloquinone)     Vitamins      mcg     0.500   \n",
       "389346                          Folic acid     Vitamins      mcg     0.000   \n",
       "389347                        Folate, food     Vitamins      mcg    17.000   \n",
       "389348                         Folate, DFE     Vitamins  mcg_DFE    17.000   \n",
       "389349                    Vitamin E, added     Vitamins       mg     0.000   \n",
       "389350                 Vitamin B-12, added     Vitamins      mcg     0.000   \n",
       "389351                         Cholesterol        Other       mg     0.000   \n",
       "389352        Fatty acids, total saturated        Other        g     0.072   \n",
       "389353  Fatty acids, total monounsaturated        Other        g     0.028   \n",
       "389354  Fatty acids, total polyunsaturated        Other        g     0.041   \n",
       "\n",
       "           id  \n",
       "0        1008  \n",
       "1        1008  \n",
       "2        1008  \n",
       "3        1008  \n",
       "4        1008  \n",
       "5        1008  \n",
       "6        1008  \n",
       "7        1008  \n",
       "8        1008  \n",
       "9        1008  \n",
       "10       1008  \n",
       "11       1008  \n",
       "12       1008  \n",
       "13       1008  \n",
       "14       1008  \n",
       "15       1008  \n",
       "16       1008  \n",
       "17       1008  \n",
       "18       1008  \n",
       "19       1008  \n",
       "20       1008  \n",
       "21       1008  \n",
       "22       1008  \n",
       "23       1008  \n",
       "24       1008  \n",
       "25       1008  \n",
       "26       1008  \n",
       "27       1008  \n",
       "28       1008  \n",
       "29       1008  \n",
       "30       1008  \n",
       "31       1008  \n",
       "32       1008  \n",
       "33       1008  \n",
       "34       1008  \n",
       "35       1008  \n",
       "36       1008  \n",
       "37       1008  \n",
       "38       1008  \n",
       "39       1008  \n",
       "40       1008  \n",
       "41       1008  \n",
       "42       1008  \n",
       "43       1008  \n",
       "44       1008  \n",
       "45       1008  \n",
       "46       1008  \n",
       "47       1008  \n",
       "48       1008  \n",
       "49       1008  \n",
       "...       ...  \n",
       "389305  43546  \n",
       "389306  43546  \n",
       "389307  43546  \n",
       "389308  43546  \n",
       "389309  43546  \n",
       "389310  43546  \n",
       "389311  43546  \n",
       "389312  43546  \n",
       "389313  43546  \n",
       "389314  43546  \n",
       "389315  43546  \n",
       "389316  43546  \n",
       "389317  43546  \n",
       "389318  43546  \n",
       "389319  43546  \n",
       "389320  43546  \n",
       "389321  43546  \n",
       "389322  43546  \n",
       "389323  43546  \n",
       "389324  43546  \n",
       "389325  43546  \n",
       "389326  43546  \n",
       "389327  43546  \n",
       "389328  43546  \n",
       "389329  43546  \n",
       "389330  43546  \n",
       "389331  43546  \n",
       "389332  43546  \n",
       "389333  43546  \n",
       "389334  43546  \n",
       "389335  43546  \n",
       "389336  43546  \n",
       "389337  43546  \n",
       "389338  43546  \n",
       "389339  43546  \n",
       "389340  43546  \n",
       "389341  43546  \n",
       "389342  43546  \n",
       "389343  43546  \n",
       "389344  43546  \n",
       "389345  43546  \n",
       "389346  43546  \n",
       "389347  43546  \n",
       "389348  43546  \n",
       "389349  43546  \n",
       "389350  43546  \n",
       "389351  43546  \n",
       "389352  43546  \n",
       "389353  43546  \n",
       "389354  43546  \n",
       "\n",
       "[389355 rows x 5 columns]"
      ]
     },
     "execution_count": 27,
     "metadata": {},
     "output_type": "execute_result"
    }
   ],
   "source": [
    "nutrients"
   ]
  },
  {
   "cell_type": "code",
   "execution_count": 28,
   "metadata": {},
   "outputs": [
    {
     "data": {
      "text/plain": [
       "14179"
      ]
     },
     "execution_count": 28,
     "metadata": {},
     "output_type": "execute_result"
    }
   ],
   "source": [
    "nutrients.duplicated().sum()"
   ]
  },
  {
   "cell_type": "code",
   "execution_count": 29,
   "metadata": {},
   "outputs": [],
   "source": [
    "nutrients = nutrients.drop_duplicates()"
   ]
  },
  {
   "cell_type": "code",
   "execution_count": null,
   "metadata": {},
   "outputs": [],
   "source": [
    "col_mapping = {'description' : 'food',\n",
    "               'group'       : 'fgroup'}\n",
    "info = info.rename(columns=col_mapping, copy=False)\n",
    "info"
   ]
  },
  {
   "cell_type": "code",
   "execution_count": null,
   "metadata": {},
   "outputs": [],
   "source": [
    "col_mapping = {'description' : 'nutrient',\n",
    "               'group' : 'nutgroup'}\n",
    "nutrients = nutrients.rename(columns=col_mapping, copy=False)\n",
    "nutrients"
   ]
  },
  {
   "cell_type": "code",
   "execution_count": null,
   "metadata": {},
   "outputs": [],
   "source": [
    "ndata = pd.merge(nutrients, info, on='id', how='outer')"
   ]
  },
  {
   "cell_type": "code",
   "execution_count": null,
   "metadata": {},
   "outputs": [],
   "source": [
    "ndata"
   ]
  },
  {
   "cell_type": "code",
   "execution_count": null,
   "metadata": {},
   "outputs": [],
   "source": [
    "ndata.ix[30000]"
   ]
  },
  {
   "cell_type": "code",
   "execution_count": null,
   "metadata": {},
   "outputs": [],
   "source": [
    "result = ndata.groupby(['nutrient', 'fgroup'])['value'].quantile(0.5)\n",
    "result['Zinc, Zn'].order().plot(kind='barh')"
   ]
  },
  {
   "cell_type": "code",
   "execution_count": null,
   "metadata": {},
   "outputs": [],
   "source": [
    "by_nutrient = ndata.groupby(['nutgroup', 'nutrient'])\n",
    "\n",
    "get_maximum = lambda x: x.xs(x.value.idxmax())\n",
    "get_minimum = lambda x: x.xs(x.value.idxmin())\n",
    "\n",
    "max_foods = by_nutrient.apply(get_maximum)[['value', 'food']]\n",
    "\n",
    "# make the food a little smaller\n",
    "max_foods.food = max_foods.food.str[:50]"
   ]
  },
  {
   "cell_type": "code",
   "execution_count": null,
   "metadata": {},
   "outputs": [],
   "source": [
    "max_foods.ix['Amino Acids']['food']"
   ]
  }
 ],
 "metadata": {
  "kernelspec": {
   "display_name": "Python 3",
   "language": "python",
   "name": "python3"
  },
  "language_info": {
   "codemirror_mode": {
    "name": "ipython",
    "version": 3
   },
   "file_extension": ".py",
   "mimetype": "text/x-python",
   "name": "python",
   "nbconvert_exporter": "python",
   "pygments_lexer": "ipython3",
   "version": "3.7.3"
  }
 },
 "nbformat": 4,
 "nbformat_minor": 1
}
